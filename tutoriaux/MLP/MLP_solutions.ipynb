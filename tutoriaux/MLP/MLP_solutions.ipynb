{
 "cells": [
  {
   "cell_type": "markdown",
   "metadata": {
    "colab_type": "text",
    "id": "mipSoOVlavkb"
   },
   "source": [
    "# ÉCOLE IVADO/MILA EN APPRENTISSAGE PROFOND\n",
    "# SESSION D' AUTOMNE 2018 \n",
    "# Tutoriel : Données Catégorielles (MLP)\n",
    "\n",
    "## Auteurs: \n",
    "\n",
    "Arsène Fansi Tchango <arsene.fansi.tchango@rd.mila.quebec>\n"
   ]
  },
  {
   "cell_type": "markdown",
   "metadata": {
    "colab_type": "text",
    "id": "sLHwvggEZERd"
   },
   "source": [
    "## Préface"
   ]
  },
  {
   "cell_type": "markdown",
   "metadata": {
    "colab_type": "text",
    "id": "JKNGtQkkohiM"
   },
   "source": [
    "Ce tutoriel a pour but d'initier les participants aux aspects pratiques du Deep Learning  à travers la réalisation d'un projet simple de bout en bout. Dans le cadre de cet exercice, nous utiliserons le framework de développement <a href=\"https://pytorch.org/\"> `PyTorch`</a>. Celui-ci a été choisie pour sa souplesse et sa flexibilité qui ont pour effet bénéfique de rendre la courbe d'apprentissage du framework facile."
   ]
  },
  {
   "cell_type": "markdown",
   "metadata": {
    "colab_type": "text",
    "id": "NOD70vdvvtin"
   },
   "source": [
    "# Initialisation\n",
    "\n",
    "Avant de commencer, nous devons nous assurer d'installer les librairies nécessaires pour le tutoriel à l'aide de `pip`.  Pour se faire, exécutez la cellufle suivante en la sélectionnant et en cliquant `shift`+`Enter`. Ceci peut prendre quelques minutes."
   ]
  },
  {
   "cell_type": "code",
   "execution_count": 1,
   "metadata": {
    "colab": {
     "base_uri": "https://localhost:8080/",
     "height": 360
    },
    "colab_type": "code",
    "executionInfo": {
     "elapsed": 51918,
     "status": "ok",
     "timestamp": 1539775182153,
     "user": {
      "displayName": "Jeremy Pinto",
      "photoUrl": "",
      "userId": "01769873812237395022"
     },
     "user_tz": 240
    },
    "id": "c5AlBPjnvzNh",
    "outputId": "25af9e31-6ed4-41a9-a3de-c4d933cbb426"
   },
   "outputs": [
    {
     "name": "stdout",
     "output_type": "stream",
     "text": [
      "Collecting torch\n",
      "\u001b[?25l  Downloading https://files.pythonhosted.org/packages/49/0e/e382bcf1a6ae8225f50b99cc26effa2d4cc6d66975ccf3fa9590efcbedce/torch-0.4.1-cp36-cp36m-manylinux1_x86_64.whl (519.5MB)\n",
      "\u001b[K    100% |████████████████████████████████| 519.5MB 28kB/s \n",
      "tcmalloc: large alloc 1073750016 bytes == 0x5977a000 @  0x7f72265892a4 0x594e17 0x626104 0x51190a 0x4f5277 0x510c78 0x5119bd 0x4f5277 0x4f3338 0x510fb0 0x5119bd 0x4f5277 0x4f3338 0x510fb0 0x5119bd 0x4f5277 0x4f3338 0x510fb0 0x5119bd 0x4f6070 0x510c78 0x5119bd 0x4f5277 0x4f3338 0x510fb0 0x5119bd 0x4f6070 0x4f3338 0x510fb0 0x5119bd 0x4f6070\n",
      "\u001b[?25hCollecting torchvision\n",
      "\u001b[?25l  Downloading https://files.pythonhosted.org/packages/ca/0d/f00b2885711e08bd71242ebe7b96561e6f6d01fdb4b9dcf4d37e2e13c5e1/torchvision-0.2.1-py2.py3-none-any.whl (54kB)\n",
      "\u001b[K    100% |████████████████████████████████| 61kB 21.4MB/s \n",
      "\u001b[?25hRequirement already satisfied: Pillow in /usr/local/lib/python3.6/dist-packages (4.0.0)\n",
      "Requirement already satisfied: matplotlib in /usr/local/lib/python3.6/dist-packages (2.1.2)\n",
      "Requirement already satisfied: six in /usr/local/lib/python3.6/dist-packages (from torchvision) (1.11.0)\n",
      "Requirement already satisfied: numpy in /usr/local/lib/python3.6/dist-packages (from torchvision) (1.14.6)\n",
      "Requirement already satisfied: olefile in /usr/local/lib/python3.6/dist-packages (from Pillow) (0.46)\n",
      "Requirement already satisfied: python-dateutil>=2.1 in /usr/local/lib/python3.6/dist-packages (from matplotlib) (2.5.3)\n",
      "Requirement already satisfied: pytz in /usr/local/lib/python3.6/dist-packages (from matplotlib) (2018.5)\n",
      "Requirement already satisfied: pyparsing!=2.0.4,!=2.1.2,!=2.1.6,>=2.0.1 in /usr/local/lib/python3.6/dist-packages (from matplotlib) (2.2.2)\n",
      "Requirement already satisfied: cycler>=0.10 in /usr/local/lib/python3.6/dist-packages (from matplotlib) (0.10.0)\n",
      "\u001b[31mtorchvision 0.2.1 has requirement pillow>=4.1.1, but you'll have pillow 4.0.0 which is incompatible.\u001b[0m\n",
      "Installing collected packages: torch, torchvision\n",
      "Successfully installed torch-0.4.1 torchvision-0.2.1\n"
     ]
    }
   ],
   "source": [
    "!pip3 install torch torchvision Pillow matplotlib"
   ]
  },
  {
   "cell_type": "markdown",
   "metadata": {
    "colab_type": "text",
    "id": "djF9gjzLwsDB"
   },
   "source": [
    "Afin de vous assurer que l'installation s'est bien faite, importez toutes les libraries et modules dont nous nous servirons pour ce tutoriel en exécutant la prochaine cellule:\n"
   ]
  },
  {
   "cell_type": "code",
   "execution_count": 3,
   "metadata": {
    "colab": {
     "base_uri": "https://localhost:8080/",
     "height": 51
    },
    "colab_type": "code",
    "executionInfo": {
     "elapsed": 6776,
     "status": "ok",
     "timestamp": 1539775410716,
     "user": {
      "displayName": "Jeremy Pinto",
      "photoUrl": "",
      "userId": "01769873812237395022"
     },
     "user_tz": 240
    },
    "id": "w9LnNnxBw0wC",
    "outputId": "d4f1b1a5-583e-4c19-d1c4-825187f8c482"
   },
   "outputs": [
    {
     "name": "stdout",
     "output_type": "stream",
     "text": [
      "Torch version:  0.4.1\n",
      "GPU Available: True\n"
     ]
    }
   ],
   "source": [
    "import torch\n",
    "import pandas as pd\n",
    "import numpy as np\n",
    "import matplotlib.pyplot as plt\n",
    "%matplotlib inline\n",
    "\n",
    "use_gpu = torch.cuda.is_available()\n",
    "device = torch.device(\"cuda:0\" if use_gpu else \"cpu\")\n",
    "\n",
    "print(\"Torch version: \", torch.__version__)\n",
    "print(\"GPU Available: {}\".format(use_gpu))"
   ]
  },
  {
   "cell_type": "markdown",
   "metadata": {
    "colab_type": "text",
    "id": "ZKzgFV9Favkt"
   },
   "source": [
    "## PyTorch en bref"
   ]
  },
  {
   "cell_type": "markdown",
   "metadata": {
    "colab_type": "text",
    "id": "Vrus_-F0avkt"
   },
   "source": [
    "*PyTorch* est une librairie Python qui fournit deux fonctionnalités de haut niveau:\n",
    "<ul>\n",
    "<li> Opérations sur des tenseurs (comme NumPy) avec support GPU </li>\n",
    "<li> Réseaux de neurones profonds construits sur un système de <b> différentiation automatique</b> appelé  <b> <a href=\"http://pytorch.org/docs/master/autograd.html\">Autograd:  `torch.autograd`</a> </b>.</li>\n",
    "</ul>\n",
    "<br/>\n",
    "Voici les documentations utiles relatives à ce sujet: \n",
    "<ul>\n",
    "<li>  La documentation principale sur PyTorch: <a href=\"http://pytorch.org/docs/master/torch.html\"> `Docs - PyTorch` .</a> </li>\n",
    "<li>  La documentation principale  sur les réseaux de neurones: <a href=\"http://pytorch.org/docs/master/nn.html\">`torch.nn`</a>. </li>\n",
    "</ul>"
   ]
  },
  {
   "cell_type": "markdown",
   "metadata": {
    "colab_type": "text",
    "id": "l7oPl95cswjd"
   },
   "source": [
    "En plus d'offrir des facilités pour définir et manipuler les réseaux de neuronnes, PyTorch offre plusieurs utilitaires pour le traitement des données. \n",
    "<br/> \n",
    "Un de ces utilitaires est la classe <b><a href=\"http://pytorch.org/docs/master/data.html#\"> `torch.utils.data.Dataset`</a> </b> et ses sous-classes (`torch.utils.data.TensorDataset`, `torch.utils.data.Subset`, `etc...`) qui offrent une interface facile d'utilisation pour manipuler un jeu de données.\n",
    "<br/>\n",
    "Pour plus d'informations, veuillez vous reportez aux urls suivantes: \n",
    "<ul>\n",
    "<li>Les jeux de données en PyTorch: <a href=\"http://pytorch.org/docs/master/data.html\"> `Datasets - PyTorch` .</a>  </li>\n",
    "<li>Un tutoriel pour le chargement des données: <a href=\"http://pytorch.org/tutorials/beginner/data_loading_tutorial.html\"> `Data Loading Tutorial - PyTorch` .</a></li>\n",
    "</ul>"
   ]
  },
  {
   "cell_type": "markdown",
   "metadata": {
    "colab_type": "text",
    "id": "Qm122vNmq92L"
   },
   "source": [
    "## Elements nécessaires pour un projet"
   ]
  },
  {
   "cell_type": "markdown",
   "metadata": {
    "colab_type": "text",
    "id": "nqvhR0ebavmE"
   },
   "source": [
    "\n",
    "\n",
    "\n",
    "\n",
    "\n",
    "Pour mener à bien un projet en deep learning, on a besoin de:\n",
    "<ul>\n",
    "<li>Une <b> tâche à résoudre</b> ainsi que des <b>données</b> pour la supporter </li>\n",
    "<li>Un <b>modèle</b> (réseau de neurones) à entraîner </li>\n",
    "<li>Une <b>fonction de coût</b> à optimiser </li>\n",
    "<li>Un <b>optimiseur</b> qui ajustera les paramètres (poids) du réseau de neurones</li>\n",
    "</ul>"
   ]
  },
  {
   "cell_type": "markdown",
   "metadata": {
    "colab_type": "text",
    "id": "Y8_pfpu2f6AO"
   },
   "source": [
    "# DÉFINITION DE LA TÂCHE:  Prédiction de la survie suite à un naufrage"
   ]
  },
  {
   "cell_type": "markdown",
   "metadata": {
    "colab_type": "text",
    "id": "B5piZxYUhSzq"
   },
   "source": [
    "Notre objectif est de <b>prédire si un passager a survécu ou non suite au naufrage du Titanic</b> en se basant sur des données obtenues sur les passagers."
   ]
  },
  {
   "cell_type": "markdown",
   "metadata": {
    "colab_type": "text",
    "id": "y4GuYNDFavlU"
   },
   "source": [
    "## Le dataset Titanic"
   ]
  },
  {
   "cell_type": "markdown",
   "metadata": {
    "colab_type": "text",
    "id": "NiOJx2ytavlU"
   },
   "source": [
    "Le jeu de données Titanic peut être téléchargé à l'adresse suivante:  https://github.com/afansi/winterschool18/blob/master/titanic3.csv?raw=true.<br/>\n",
    "Cet ensemble de données fournit des informations sur le sort de 1309 passagers du premier voyage fatal du paquebot \"Titanic\", résumées par <br/>\n",
    "statut économique (classe), sexe, âge, les informations familiales et survie. Cet ensembles de données est  également celui utilisé par le <br/>\n",
    "concours Kaggle et permet ainsi de réduire  la barrière à l'entrée pour les utilisateurs débutants en apprentissage machine.\n",
    "\n",
    "\n",
    "Nous utiliserons la librarire <a href=\"https://pandas.pydata.org/\"> <b> Pandas </b></a>   pour charger en mémoire le jeu de données."
   ]
  },
  {
   "cell_type": "code",
   "execution_count": 4,
   "metadata": {
    "colab": {
     "base_uri": "https://localhost:8080/",
     "height": 530
    },
    "colab_type": "code",
    "executionInfo": {
     "elapsed": 908,
     "status": "ok",
     "timestamp": 1539775895941,
     "user": {
      "displayName": "Jeremy Pinto",
      "photoUrl": "",
      "userId": "01769873812237395022"
     },
     "user_tz": 240
    },
    "id": "bX_RSiffavlW",
    "outputId": "310823e7-36c6-466b-8c2a-ba96fdcb20de"
   },
   "outputs": [
    {
     "data": {
      "text/html": [
       "<div>\n",
       "<style scoped>\n",
       "    .dataframe tbody tr th:only-of-type {\n",
       "        vertical-align: middle;\n",
       "    }\n",
       "\n",
       "    .dataframe tbody tr th {\n",
       "        vertical-align: top;\n",
       "    }\n",
       "\n",
       "    .dataframe thead th {\n",
       "        text-align: right;\n",
       "    }\n",
       "</style>\n",
       "<table border=\"1\" class=\"dataframe\">\n",
       "  <thead>\n",
       "    <tr style=\"text-align: right;\">\n",
       "      <th></th>\n",
       "      <th>pclass</th>\n",
       "      <th>survived</th>\n",
       "      <th>name</th>\n",
       "      <th>sex</th>\n",
       "      <th>age</th>\n",
       "      <th>sibsp</th>\n",
       "      <th>parch</th>\n",
       "      <th>ticket</th>\n",
       "      <th>fare</th>\n",
       "      <th>cabin</th>\n",
       "      <th>embarked</th>\n",
       "      <th>boat</th>\n",
       "      <th>body</th>\n",
       "      <th>home.dest</th>\n",
       "    </tr>\n",
       "  </thead>\n",
       "  <tbody>\n",
       "    <tr>\n",
       "      <th>0</th>\n",
       "      <td>1</td>\n",
       "      <td>1</td>\n",
       "      <td>Allen, Miss. Elisabeth Walton</td>\n",
       "      <td>female</td>\n",
       "      <td>29.0000</td>\n",
       "      <td>0</td>\n",
       "      <td>0</td>\n",
       "      <td>24160</td>\n",
       "      <td>211.3375</td>\n",
       "      <td>B5</td>\n",
       "      <td>S</td>\n",
       "      <td>2</td>\n",
       "      <td>NaN</td>\n",
       "      <td>St Louis, MO</td>\n",
       "    </tr>\n",
       "    <tr>\n",
       "      <th>1</th>\n",
       "      <td>1</td>\n",
       "      <td>1</td>\n",
       "      <td>Allison, Master. Hudson Trevor</td>\n",
       "      <td>male</td>\n",
       "      <td>0.9167</td>\n",
       "      <td>1</td>\n",
       "      <td>2</td>\n",
       "      <td>113781</td>\n",
       "      <td>151.5500</td>\n",
       "      <td>C22 C26</td>\n",
       "      <td>S</td>\n",
       "      <td>11</td>\n",
       "      <td>NaN</td>\n",
       "      <td>Montreal, PQ / Chesterville, ON</td>\n",
       "    </tr>\n",
       "    <tr>\n",
       "      <th>2</th>\n",
       "      <td>1</td>\n",
       "      <td>0</td>\n",
       "      <td>Allison, Miss. Helen Loraine</td>\n",
       "      <td>female</td>\n",
       "      <td>2.0000</td>\n",
       "      <td>1</td>\n",
       "      <td>2</td>\n",
       "      <td>113781</td>\n",
       "      <td>151.5500</td>\n",
       "      <td>C22 C26</td>\n",
       "      <td>S</td>\n",
       "      <td>NaN</td>\n",
       "      <td>NaN</td>\n",
       "      <td>Montreal, PQ / Chesterville, ON</td>\n",
       "    </tr>\n",
       "    <tr>\n",
       "      <th>3</th>\n",
       "      <td>1</td>\n",
       "      <td>0</td>\n",
       "      <td>Allison, Mr. Hudson Joshua Creighton</td>\n",
       "      <td>male</td>\n",
       "      <td>30.0000</td>\n",
       "      <td>1</td>\n",
       "      <td>2</td>\n",
       "      <td>113781</td>\n",
       "      <td>151.5500</td>\n",
       "      <td>C22 C26</td>\n",
       "      <td>S</td>\n",
       "      <td>NaN</td>\n",
       "      <td>135.0</td>\n",
       "      <td>Montreal, PQ / Chesterville, ON</td>\n",
       "    </tr>\n",
       "    <tr>\n",
       "      <th>4</th>\n",
       "      <td>1</td>\n",
       "      <td>0</td>\n",
       "      <td>Allison, Mrs. Hudson J C (Bessie Waldo Daniels)</td>\n",
       "      <td>female</td>\n",
       "      <td>25.0000</td>\n",
       "      <td>1</td>\n",
       "      <td>2</td>\n",
       "      <td>113781</td>\n",
       "      <td>151.5500</td>\n",
       "      <td>C22 C26</td>\n",
       "      <td>S</td>\n",
       "      <td>NaN</td>\n",
       "      <td>NaN</td>\n",
       "      <td>Montreal, PQ / Chesterville, ON</td>\n",
       "    </tr>\n",
       "  </tbody>\n",
       "</table>\n",
       "</div>"
      ],
      "text/plain": [
       "   pclass  survived                                             name     sex  \\\n",
       "0       1         1                    Allen, Miss. Elisabeth Walton  female   \n",
       "1       1         1                   Allison, Master. Hudson Trevor    male   \n",
       "2       1         0                     Allison, Miss. Helen Loraine  female   \n",
       "3       1         0             Allison, Mr. Hudson Joshua Creighton    male   \n",
       "4       1         0  Allison, Mrs. Hudson J C (Bessie Waldo Daniels)  female   \n",
       "\n",
       "       age  sibsp  parch  ticket      fare    cabin embarked boat   body  \\\n",
       "0  29.0000      0      0   24160  211.3375       B5        S    2    NaN   \n",
       "1   0.9167      1      2  113781  151.5500  C22 C26        S   11    NaN   \n",
       "2   2.0000      1      2  113781  151.5500  C22 C26        S  NaN    NaN   \n",
       "3  30.0000      1      2  113781  151.5500  C22 C26        S  NaN  135.0   \n",
       "4  25.0000      1      2  113781  151.5500  C22 C26        S  NaN    NaN   \n",
       "\n",
       "                         home.dest  \n",
       "0                     St Louis, MO  \n",
       "1  Montreal, PQ / Chesterville, ON  \n",
       "2  Montreal, PQ / Chesterville, ON  \n",
       "3  Montreal, PQ / Chesterville, ON  \n",
       "4  Montreal, PQ / Chesterville, ON  "
      ]
     },
     "execution_count": 4,
     "metadata": {
      "tags": []
     },
     "output_type": "execute_result"
    }
   ],
   "source": [
    "titanic_df = pd.read_csv(\n",
    "    'https://github.com/afansi/winterschool18/blob/master/titanic3.csv?raw=true', \n",
    "    sep='\\t', \n",
    "    index_col=None, \n",
    "    na_values=['NA']\n",
    ")\n",
    "\n",
    "# Un appeçu des données\n",
    "\n",
    "titanic_df.head()\n",
    "\n"
   ]
  },
  {
   "cell_type": "markdown",
   "metadata": {
    "colab_type": "text",
    "id": "yj88WmCmavlf"
   },
   "source": [
    "**La signification des différentes colonnes (features) est la suivante**:\n",
    "\n",
    "<ol>\n",
    "\n",
    "  <li> <b>pclass</b>: Classe du Passager (1 = première; 2 = seconde; 3 = troisième) </li>\n",
    "  <li> <b>survived</b>: Survie (0 = non; 1 = oui) </li>\n",
    "  <li> <b>name</b>: Nom </li>\n",
    "  <li> <b>sex</b>: Sexe </li>\n",
    "  <li> <b>age</b>: Âge </li>\n",
    "  <li> <b>sibsp</b>: Nombre de frères, sœurs, ou conjoints à bord </li>\n",
    "  <li> <b>parch</b>: Nombre de parents ou enfants à bord </li>\n",
    "  <li> <b>ticket</b>: Numéro de ticket </li>\n",
    "  <li> <b>fare</b>: Tarif passager </li>\n",
    "  <li> <b>cabin</b>: Numéro de cabine </li>\n",
    "  <li> <b>embarked</b>: Port d'embarquement (C = Cherbourg; Q = Queenstown; S = Southampton) </li>\n",
    "  <li> <b>boat</b>: Canot de sauvetage (si le passager a survécu) </li>\n",
    "  <li> <b>body</b>: Numéro de corps (si le passager n'a pas survécu et que son corps a été retrouvé) </li>\n",
    "  <li> <b>home.dest</b>: la destination du passager </li>\n",
    " </ol>\n"
   ]
  },
  {
   "cell_type": "markdown",
   "metadata": {
    "colab_type": "text",
    "id": "u2ed5fozqjce"
   },
   "source": [
    "## Prétraitement des données"
   ]
  },
  {
   "cell_type": "markdown",
   "metadata": {
    "colab_type": "text",
    "id": "__vcZhPnavlg"
   },
   "source": [
    "Certaines données sont **moins importantes** que d'autres, par exemple:\n",
    "<ol>\n",
    "  <li> <b>name</b>: Nom </li>\n",
    "  <li> <b>ticket</b>: Numéro de ticket </li>\n",
    "  <li> <b>cabin</b>: Numéro de cabine </li>\n",
    "  <li> <b>home.dest</b>: la destination du passager </li>\n",
    " </ol>\n",
    " \n",
    "\n",
    "\n",
    "D'autres données sont **fortement** correlées à notre tâche, et les inclure reviendrait à **tricher**:\n",
    "<ol>\n",
    "  <li> <b>boat</b>: Canot de sauvetage (si le passager a survécu) </li>\n",
    "  <li> <b>body</b>: Numéro de corps (si le passager n'a pas survécu et que son corps a été retrouvé) </li>\n",
    " </ol>\n",
    " \n",
    "\n",
    " \n",
    " \n",
    "Par ailleurs, nous remarquons la présence des features de type **variables catégorielles**, il faut les transformer en données numériques avec de l'<a href=\"http://scikit-learn.org/stable/modules/generated/sklearn.preprocessing.OneHotEncoder.html\">**encodage one-hot**</a>:\n",
    " <ol>\n",
    "  <li> <b>pclass</b>: Classe du Passager </li>\n",
    "  <li> <b>sex</b>: Sexe </li>\n",
    "  <li> <b>embarked</b>: Port d'embarquement </li>\n",
    " </ol>  \n",
    "  <br/>\n",
    " **Remarque:** La colonne <b>pclass</b> est apparemment numérique. Toutefois, cette représentation induit implicitement un biais. En effet, numériquement parlant, nous avons 1 (première classe) < 2 (secode classe) < 3 (troisième classe). On aurait pu multiplier cette colonne par `-1` pour réfléter notre société mais nous avons opté de rester neutre. \n",
    " <br/>\n",
    " <br/>\n",
    " \n",
    " Le dataset pré-processé peut être téléchargé à l'adresse suivante:  https://github.com/afansi/winterschool18/blob/master/titanic_prepocess.csv?raw=true. \n",
    " La signification des variables est la suivante:\n",
    "\n",
    "<ol>\n",
    "  <li> <b>survived</b>: Survie (0 = non; 1 = oui) </li>\n",
    "  <li> <b>pclass_1</b>: (1 si passager en première classe; 0 sinon) </li>\n",
    "  <li> <b>pclass_2</b>: (1 si passager en seconde classe; 0 sinon) </li>\n",
    "  <li> <b>pclass_3</b>: (1 si passager en troisième classe; 0 sinon) </li>\n",
    "  <li> <b>sex_female</b>: (1 si passager est une femme; 0 sinon) </li>\n",
    "  <li> <b>sex_male</b>: (1 si passager est un homme; 0 sinon) </li>\n",
    "  <li> <b>age</b>: Âge </li>\n",
    "  <li> <b>sibsp</b>: Nombre de frères, sœurs, ou conjoints à bord </li>\n",
    "  <li> <b>parch</b>: Nombre de parents ou enfants à bord </li>\n",
    "  <li> <b>fare</b>: Tarif passager </li>\n",
    "  <li> <b>embarked_C</b>: (1 si Port d'embarquement = Cherbourg (C); 0 sinon) </li> \n",
    "  <li> <b>embarked_Q</b>: (1 si Port d'embarquement = Queenstown (Q); 0 sinon) </li> \n",
    "  <li> <b>embarked_S</b>: (1 si Port d'embarquement = Southampton (S); 0 sinon)</li> \n",
    " </ol>"
   ]
  },
  {
   "cell_type": "code",
   "execution_count": 5,
   "metadata": {
    "colab": {
     "base_uri": "https://localhost:8080/",
     "height": 224
    },
    "colab_type": "code",
    "executionInfo": {
     "elapsed": 949,
     "status": "ok",
     "timestamp": 1539776190414,
     "user": {
      "displayName": "Jeremy Pinto",
      "photoUrl": "",
      "userId": "01769873812237395022"
     },
     "user_tz": 240
    },
    "id": "JJ0--SDpavlg",
    "outputId": "fe08ba4d-d829-4835-b91f-f87d71e3f6e3"
   },
   "outputs": [
    {
     "data": {
      "text/html": [
       "<div>\n",
       "<style scoped>\n",
       "    .dataframe tbody tr th:only-of-type {\n",
       "        vertical-align: middle;\n",
       "    }\n",
       "\n",
       "    .dataframe tbody tr th {\n",
       "        vertical-align: top;\n",
       "    }\n",
       "\n",
       "    .dataframe thead th {\n",
       "        text-align: right;\n",
       "    }\n",
       "</style>\n",
       "<table border=\"1\" class=\"dataframe\">\n",
       "  <thead>\n",
       "    <tr style=\"text-align: right;\">\n",
       "      <th></th>\n",
       "      <th>survived</th>\n",
       "      <th>pclass_1</th>\n",
       "      <th>pclass_2</th>\n",
       "      <th>pclass_3</th>\n",
       "      <th>sex_female</th>\n",
       "      <th>sex_male</th>\n",
       "      <th>age</th>\n",
       "      <th>sibsp</th>\n",
       "      <th>parch</th>\n",
       "      <th>fare</th>\n",
       "      <th>embarked_C</th>\n",
       "      <th>embarked_Q</th>\n",
       "      <th>embarked_S</th>\n",
       "    </tr>\n",
       "  </thead>\n",
       "  <tbody>\n",
       "    <tr>\n",
       "      <th>0</th>\n",
       "      <td>1</td>\n",
       "      <td>1</td>\n",
       "      <td>0</td>\n",
       "      <td>0</td>\n",
       "      <td>1</td>\n",
       "      <td>0</td>\n",
       "      <td>29.0000</td>\n",
       "      <td>0</td>\n",
       "      <td>0</td>\n",
       "      <td>211.3375</td>\n",
       "      <td>0</td>\n",
       "      <td>0</td>\n",
       "      <td>1</td>\n",
       "    </tr>\n",
       "    <tr>\n",
       "      <th>1</th>\n",
       "      <td>1</td>\n",
       "      <td>1</td>\n",
       "      <td>0</td>\n",
       "      <td>0</td>\n",
       "      <td>0</td>\n",
       "      <td>1</td>\n",
       "      <td>0.9167</td>\n",
       "      <td>1</td>\n",
       "      <td>2</td>\n",
       "      <td>151.5500</td>\n",
       "      <td>0</td>\n",
       "      <td>0</td>\n",
       "      <td>1</td>\n",
       "    </tr>\n",
       "    <tr>\n",
       "      <th>2</th>\n",
       "      <td>0</td>\n",
       "      <td>1</td>\n",
       "      <td>0</td>\n",
       "      <td>0</td>\n",
       "      <td>1</td>\n",
       "      <td>0</td>\n",
       "      <td>2.0000</td>\n",
       "      <td>1</td>\n",
       "      <td>2</td>\n",
       "      <td>151.5500</td>\n",
       "      <td>0</td>\n",
       "      <td>0</td>\n",
       "      <td>1</td>\n",
       "    </tr>\n",
       "    <tr>\n",
       "      <th>3</th>\n",
       "      <td>0</td>\n",
       "      <td>1</td>\n",
       "      <td>0</td>\n",
       "      <td>0</td>\n",
       "      <td>0</td>\n",
       "      <td>1</td>\n",
       "      <td>30.0000</td>\n",
       "      <td>1</td>\n",
       "      <td>2</td>\n",
       "      <td>151.5500</td>\n",
       "      <td>0</td>\n",
       "      <td>0</td>\n",
       "      <td>1</td>\n",
       "    </tr>\n",
       "    <tr>\n",
       "      <th>4</th>\n",
       "      <td>0</td>\n",
       "      <td>1</td>\n",
       "      <td>0</td>\n",
       "      <td>0</td>\n",
       "      <td>1</td>\n",
       "      <td>0</td>\n",
       "      <td>25.0000</td>\n",
       "      <td>1</td>\n",
       "      <td>2</td>\n",
       "      <td>151.5500</td>\n",
       "      <td>0</td>\n",
       "      <td>0</td>\n",
       "      <td>1</td>\n",
       "    </tr>\n",
       "  </tbody>\n",
       "</table>\n",
       "</div>"
      ],
      "text/plain": [
       "   survived  pclass_1  pclass_2  pclass_3  sex_female  sex_male      age  \\\n",
       "0         1         1         0         0           1         0  29.0000   \n",
       "1         1         1         0         0           0         1   0.9167   \n",
       "2         0         1         0         0           1         0   2.0000   \n",
       "3         0         1         0         0           0         1  30.0000   \n",
       "4         0         1         0         0           1         0  25.0000   \n",
       "\n",
       "   sibsp  parch      fare  embarked_C  embarked_Q  embarked_S  \n",
       "0      0      0  211.3375           0           0           1  \n",
       "1      1      2  151.5500           0           0           1  \n",
       "2      1      2  151.5500           0           0           1  \n",
       "3      1      2  151.5500           0           0           1  \n",
       "4      1      2  151.5500           0           0           1  "
      ]
     },
     "execution_count": 5,
     "metadata": {
      "tags": []
     },
     "output_type": "execute_result"
    }
   ],
   "source": [
    "titanic_preprocess_df = pd.read_csv(\n",
    "    'https://github.com/afansi/winterschool18/blob/master/titanic_prepocess.csv?raw=true', \n",
    "    sep=',', \n",
    "    index_col=None\n",
    ")\n",
    "\n",
    "titanic_preprocess_df.head()"
   ]
  },
  {
   "cell_type": "markdown",
   "metadata": {
    "colab_type": "text",
    "id": "QJcs6PUTavlm"
   },
   "source": [
    "## Découpage en Train / Validation / Test"
   ]
  },
  {
   "cell_type": "markdown",
   "metadata": {
    "colab_type": "text",
    "id": "Bjbgvffmavlo"
   },
   "source": [
    "Lorsque celà n'a pas déjà été fait,  le dataset est divisé en trois parties:\n",
    "\n",
    "<ol>\n",
    "<li> <b> Train</b> (en général, 60 % du dataset): utilisée pour entraîner le modèle de classification.</li>   \n",
    "<li> <b> Validation</b> (en général, 20 % du dataset): utilisée pour évaluer les performances du modèle en cours d'entraînement.</li>   \n",
    "<li> <b> Test</b> (en général, 20 % du dataset): utilisée pour évaluer les performances de généralisation du modèle entraîné. </li>\n",
    "</ol>\n",
    "\n",
    "Nous utilisons la fonction [np.split](https://docs.scipy.org/doc/numpy-1.15.1/reference/generated/numpy.split.html) afin de séparer notre jeu de données en sous-ensembles."
   ]
  },
  {
   "cell_type": "code",
   "execution_count": 0,
   "metadata": {
    "colab": {},
    "colab_type": "code",
    "id": "GBmL8VBOavlo"
   },
   "outputs": [],
   "source": [
    "np.random.seed(1234)\n",
    "train, validate, test = np.split(\n",
    "    titanic_preprocess_df.sample(frac=1, random_state=134), \n",
    "    [int(.6*len(titanic_preprocess_df)), int(.8*len(titanic_preprocess_df))])\n",
    "\n",
    "X_train = train.drop(['survived'], axis=1).values\n",
    "y_train = train['survived'].values\n",
    "\n",
    "X_val = validate.drop(['survived'], axis=1).values\n",
    "y_val = validate['survived'].values\n",
    "\n",
    "X_test = test.drop(['survived'], axis=1).values\n",
    "y_test = test['survived'].values"
   ]
  },
  {
   "cell_type": "markdown",
   "metadata": {
    "colab_type": "text",
    "id": "wv74TbIWavlr"
   },
   "source": [
    "## Datasets en PyTorch"
   ]
  },
  {
   "cell_type": "markdown",
   "metadata": {
    "colab_type": "text",
    "id": "9_LJtG-Xavlt"
   },
   "source": [
    "Nous utiliserons la sous-classe <b><a href=\"http://pytorch.org/docs/master/data.html#\"> `torch.utils.data.TensorDataset`</a> </b> qui permet d'encapsuler ensemble les features et la target d'un jeu de données. Nous encapsulerons les données de Train, Validation, et Test définies dans la section précédente.\n"
   ]
  },
  {
   "cell_type": "code",
   "execution_count": 0,
   "metadata": {
    "colab": {},
    "colab_type": "code",
    "id": "1JtT4tV7avlt"
   },
   "outputs": [],
   "source": [
    "from torch.utils.data import TensorDataset\n",
    "\n",
    "train_dataset = TensorDataset(torch.from_numpy(X_train).float(), torch.from_numpy(y_train).long())\n",
    "\n",
    "val_dataset = TensorDataset(torch.from_numpy(X_val).float(), torch.from_numpy(y_val).long())\n",
    "\n",
    "test_dataset = TensorDataset(torch.from_numpy(X_test).float(), torch.from_numpy(y_test).long())"
   ]
  },
  {
   "cell_type": "markdown",
   "metadata": {
    "colab_type": "text",
    "id": "obEPHnlTavkc"
   },
   "source": [
    "# DEFINITION DU MODELE: Perceptron Multi-couche (MLP)"
   ]
  },
  {
   "cell_type": "markdown",
   "metadata": {
    "colab_type": "text",
    "id": "qhN5GL6Gavks"
   },
   "source": [
    "\n",
    "Un perceptron multi-couche est un réseau de neurones à propagation avant. Il prend en entrée les données à traiter, les transforme à travers une série de couches cachées et renvoie une prédiction en sortie.\n",
    "\n",
    "La procédure d'apprentissage typique pour ce modèle consiste en :\n",
    "<ul>\n",
    "<li>Définir l'architecture du réseau. Cela définira les paramètres (non-linéarités, nombre de poids et biais) du réseau.</li>\n",
    "<li>Définir la fonction de coût et l'optimiseur.</li>\n",
    "<li>Entraîner le réseau.</li>\n",
    "<li>Tester le réseau.</li>\n",
    "</ul>\n",
    "\n",
    "Pour résoudre notre tâche, nous allons utiliser un MLP avec les caractéristiques suivantes:\n",
    " <ul>\n",
    " <li> <b> 4 </b> **couches** (<b> 3 </b> couches cachées et <b> 1 </b> couche de sortie) </li>\n",
    " <li> la **dimension** des données d'**entrées** est de <b> 12 . </b></li>\n",
    " <li> les dimensions des différentes **couches intermédiaires** sont <b> 20, 40, 20, 2. </b> </li>\n",
    " <li> utilisation de la fonction d'activation <b> ReLu </b> pour les 3 couches cachées.</li>\n",
    " </ul>\n",
    " \n",
    " Voici un exemple d'architecture que nous allons utiliser: \n",
    " \n",
    "![Alt Text](https://github.com/mila-iqia/ecole_dl_mila_ivado/blob/master/tutoriaux/MLP/images/figures_tuto.png?raw=true)\n"
   ]
  },
  {
   "cell_type": "markdown",
   "metadata": {
    "colab_type": "text",
    "id": "701t0e-ravkr"
   },
   "source": [
    "## Implémentation du modèle en PyTorch"
   ]
  },
  {
   "cell_type": "markdown",
   "metadata": {
    "colab_type": "text",
    "id": "mgtCculMavku"
   },
   "source": [
    "### 1 - Boîte à outils"
   ]
  },
  {
   "cell_type": "markdown",
   "metadata": {
    "colab_type": "text",
    "id": "m4F5cyijavkv"
   },
   "source": [
    "<ul>\n",
    "<li> La classe <b><a href=\"http://pytorch.org/docs/master/nn.html#module\">`torch.nn.Module`</a></b>: \n",
    "\n",
    "    <br/> En PyTorch, tout réseau de neurones doit <b>hériter</b> de cette classe ou de ses descendantes (sous-classes).\n",
    "    <br/> \n",
    "</li>   \n",
    "<li> La méthode <b>`forward` (...)</b>: \n",
    "    <br/> Toute classe définissant un réseau de neurones doit <b>implémenter</b> la méthode  `forward(...)`. C'est cette méthode qui définit les opérations effectuées par le réseau de neurones et, le cas échéant, construit le graphe computationnel correspondant.\n",
    "    <br/> \n",
    "</li>  \n",
    "<li> La classe <b><a href=\"http://pytorch.org/docs/master/nn.html#torch.nn.Linear\">`torch.nn.Linear(in_features, out_features)`</a></b>: \n",
    "    <br/> Cette classe implémente <b>une couche de réseau dense</b> sans fonction d'activation à sa sortie. <br/> Elle prend par défaut deux paramètres: \n",
    "    <ul>\n",
    "    <li><b>`in_features`</b>: la dimension des données en entrée de la couche. </li>\n",
    "    <li><b>`out_features`</b>: la dimension des données en sortie de la couche. </li>    \n",
    "    </ul>\n",
    "    \n",
    "</li>\n",
    "<li> Le module <b><a href=\"http://pytorch.org/docs/master/nn.html#torch-nn-functional\">`torch.nn.functional`</a></b>: \n",
    "<br/> Il définit un ensemble de fonctions qui peuvent être appliquées aux sorties des différentes composantes d'un réseau de neurones. On y retrouve par example:\n",
    "    <ul>\n",
    "    <li> des fonctions non-lineaires: <b><a href=\"http://pytorch.org/docs/master/nn.html#id36\">`sigmoid(...)`</a></b>, <b><a href=\"http://pytorch.org/docs/master/nn.html#id35\">`tanh(...)`</a></b>, <b><a href=\"http://pytorch.org/docs/master/nn.html#id22\">`relu(...)`</a></b>, <a href=\"http://pytorch.org/docs/master/nn.html#non-linear-activation-functions\">`etc...`</a> </li> \n",
    "    <li> des fonctions de coûts: <b><a href=\"http://pytorch.org/docs/master/nn.html#mse-loss\">`mse_loss(...)`</a></b>, <b><a href=\"http://pytorch.org/docs/master/nn.html#nll-loss\">`nll(...)`</a></b>, <b><a href=\"http://pytorch.org/docs/master/nn.html#cross-entropy\">`cross_entropy(...)`</a></b>, <a href=\"http://pytorch.org/docs/master/nn.html#id42\">`etc ...`</a> </li> \n",
    "    <li> des fonctions de régularisation: <b><a href=\"http://pytorch.org/docs/master/nn.html#id38\">`droupout(...)`</a></b>, <a href=\"http://pytorch.org/docs/master/nn.html#dropout-functions\">`etc ...`</a>  </li> \n",
    "    <li> et <a href=\"http://pytorch.org/docs/master/nn.html#torch-nn-functional\">`plein d'autres encore ...`</a> </li> \n",
    "    </ul>\n",
    "    <br/> \n",
    "</li>\n",
    "</ul>\n",
    "\n",
    " les méthodes suivantes sont à compléter :\n",
    "<ul>\n",
    "<li>La méthode `__init__` qui définit les couches. </li>\n",
    "<li>La méthode `forward(input)` qui retourne l'`output`.</li>\n",
    "</ul>"
   ]
  },
  {
   "cell_type": "markdown",
   "metadata": {
    "colab_type": "text",
    "id": "DMn6-Jepavkw"
   },
   "source": [
    "### 2 - Implémentation"
   ]
  },
  {
   "cell_type": "code",
   "execution_count": 0,
   "metadata": {
    "colab": {},
    "colab_type": "code",
    "id": "8NyQGwC-avkw"
   },
   "outputs": [],
   "source": [
    "import torch\n",
    "import torch.nn as nn\n",
    "import torch.nn.functional as F\n",
    "seed = 1234\n",
    "torch.manual_seed(seed)\n",
    "torch.cuda.manual_seed(seed)"
   ]
  },
  {
   "cell_type": "code",
   "execution_count": 0,
   "metadata": {
    "colab": {},
    "colab_type": "code",
    "id": "xR5eBfIbavk0"
   },
   "outputs": [],
   "source": [
    "class NeuralNet(nn.Module):\n",
    "    def __init__(self):\n",
    "        super(NeuralNet, self).__init__()\n",
    "        self.fc1 = nn.Linear(12, 20)\n",
    "        self.fc2 = nn.Linear(20, 40)\n",
    "        self.fc3 = nn.Linear(40, 20)\n",
    "        self.fc4 = nn.Linear(20, 2)\n",
    "\n",
    "    def forward(self, x):\n",
    "        x = F.relu(self.fc1(x))\n",
    "        x = F.relu(self.fc2(x))\n",
    "        x = F.relu(self.fc3(x))\n",
    "        out = self.fc4(x)\n",
    "        return out"
   ]
  },
  {
   "cell_type": "markdown",
   "metadata": {
    "colab_type": "text",
    "id": "OvLnHRZ5avk2"
   },
   "source": [
    "## Exécution d'un réseau de neurones"
   ]
  },
  {
   "cell_type": "markdown",
   "metadata": {
    "colab_type": "text",
    "id": "uEXgJMDDavk3"
   },
   "source": [
    "\n",
    "Dans cette section, nous exécuterons notre réseau de neurones sur des données aloitoirement générées. \n",
    "\n",
    "### 1 - Boîte à outils\n",
    "<b>Important à savoir:</b>\n",
    "    En PyTorch, il existe deux modes d'exécution d'un réseau de neurones:\n",
    "    <ul>\n",
    "    <li> <b>train</b>: dans ce mode, tous les mécanismes d'apprentissage (construction du graphe computationnel, auto-différentiation) sont mis en place à chaque exécution du réseau. Il est utilisé lorsque le réseau est en cours d'entraînement.</li>\n",
    "    <li> <b>eval</b>: dans ce mode, le modèle est en mode <b>inférence</b>. Il est utilisé lorsque le réseau est en cours d'évaluation.</li>\n",
    "    </ul>\n",
    "<br/>    \n",
    "Nous utiliserons le mode <b>eval</b> dans cette section."
   ]
  },
  {
   "cell_type": "markdown",
   "metadata": {
    "colab_type": "text",
    "id": "qpaZwOVENm5q"
   },
   "source": [
    "### 2 - Implémentation"
   ]
  },
  {
   "cell_type": "code",
   "execution_count": 11,
   "metadata": {
    "colab": {
     "base_uri": "https://localhost:8080/",
     "height": 102
    },
    "colab_type": "code",
    "executionInfo": {
     "elapsed": 210,
     "status": "ok",
     "timestamp": 1539777095652,
     "user": {
      "displayName": "Jeremy Pinto",
      "photoUrl": "",
      "userId": "01769873812237395022"
     },
     "user_tz": 240
    },
    "id": "gzcABMezavk6",
    "outputId": "0634cf28-4070-42ac-8629-e4d61c2774ea"
   },
   "outputs": [
    {
     "name": "stdout",
     "output_type": "stream",
     "text": [
      "tensor([[0.5176, 0.4824],\n",
      "        [0.3129, 0.6871],\n",
      "        [0.3483, 0.6517],\n",
      "        [0.4888, 0.5112],\n",
      "        [0.4927, 0.5073]], grad_fn=<SoftmaxBackward>)\n"
     ]
    }
   ],
   "source": [
    "# Instantiation du réseau\n",
    "neural_net = NeuralNet()\n",
    "neural_net = neural_net.to(device)\n",
    "# activation du mode eval\n",
    "neural_net = neural_net.eval()\n",
    "\n",
    "# Sélection des 5 premières données du dataset de validation\n",
    "data, target = val_dataset[0:5]\n",
    "data = data.to(device)\n",
    "target = target.to(device)\n",
    "# Execution du réseau de neurones\n",
    "output = neural_net(data)   # ou, en version longue, neural_net.forward(data)\n",
    "\n",
    "# Tranformation des resultat en probabilités en utilisant la fonction SOFTMAX\n",
    "output_proba = F.softmax(output, dim=1)\n",
    "\n",
    "# Affichage des probabilités\n",
    "print(output_proba)"
   ]
  },
  {
   "cell_type": "markdown",
   "metadata": {
    "colab_type": "text",
    "id": "fVep0BElavlS"
   },
   "source": [
    "Les lignes définissent la sortie du réseau, en terme de <b> probabilités sur deux classes</b>, <b>mort</b> (première colonne) ou <b>survie</b> (deuxième colonne), pour chacune des 5 données en entrée. Prenons le maximum de chaque prédiction comme la prédition de notre modèle et comparons les aux données réelles."
   ]
  },
  {
   "cell_type": "code",
   "execution_count": 14,
   "metadata": {
    "colab": {
     "base_uri": "https://localhost:8080/",
     "height": 85
    },
    "colab_type": "code",
    "executionInfo": {
     "elapsed": 201,
     "status": "ok",
     "timestamp": 1539777281397,
     "user": {
      "displayName": "Jeremy Pinto",
      "photoUrl": "",
      "userId": "01769873812237395022"
     },
     "user_tz": 240
    },
    "id": "_jV4No36qjdU",
    "outputId": "de321e17-8907-44bc-c487-2d7de8123dd1"
   },
   "outputs": [
    {
     "name": "stdout",
     "output_type": "stream",
     "text": [
      "Prédiction du modèle\n",
      "tensor([0, 1, 1, 1, 1])\n",
      "Données réelles\n",
      "tensor([0, 0, 1, 0, 1])\n"
     ]
    }
   ],
   "source": [
    "# Affichage des prédictions (classe ayant la plus grande probabilités)\n",
    "_, prediction = torch.max(output_proba, dim=1)\n",
    "\n",
    "print(\"Prédiction du modèle\")\n",
    "print(prediction)\n",
    "\n",
    "# Affichage de la vrai target\n",
    "print(\"Données réelles\")\n",
    "print(target)"
   ]
  },
  {
   "cell_type": "markdown",
   "metadata": {
    "colab_type": "text",
    "id": "SEIIjqOuqjdc"
   },
   "source": [
    "### 3 - Questions: \n",
    "\n",
    "<b> Comment performe notre modèle?</b> <br/>\n",
    "<b> Quelle serait une bonne manière de définir la performance? </b><br/>\n",
    "<b>Comment pouvons-nous améliorer notre modèle?</b>"
   ]
  },
  {
   "cell_type": "markdown",
   "metadata": {
    "colab_type": "text",
    "id": "0uySA2TCavmD"
   },
   "source": [
    "## Définir la fonction de coût et l'optimiseur"
   ]
  },
  {
   "cell_type": "markdown",
   "metadata": {
    "colab_type": "text",
    "id": "EkoobCLMavmE"
   },
   "source": [
    "## Fonction de coût"
   ]
  },
  {
   "cell_type": "markdown",
   "metadata": {
    "colab_type": "text",
    "id": "qkX7uSXQavmF"
   },
   "source": [
    "La fonction de coût doit être définie en fonction de la tâche que nous souhaitons réaliser.\n",
    "\n",
    "PyTorch offre <a href=\"http://pytorch.org/docs/master/nn.html#id42\">une multitude de fonctions de coûts</a> prêtes à l'emploi.\n",
    "\n",
    "Pour des problèmes de classification, la fonction de coût usuelle est <b> l'entropie croisée (cross-entropy)</b> et c'est elle que nous allons utiliser dans ce tutoriel. En PyTorch, elle est définie par la fonction <b><a href=\"http://pytorch.org/docs/master/nn.html#cross-entropy\">`torch.nn.functional.cross_entropy`</a></b>.  L'entropie croisée est souvent utilisée en optimisation. Elle permet de comparer une distribution $p$ avec une distibution de référence $t$. Elle est minimum lorsque $t=p$. Sa formule pour la calculer entre la prédiction et la cible est : $-\\sum_j t_{ij} \\log(p_{ij})$ où $p$ est la prédiction, $t$ la cible, $i$ les exemples et $j$ les classes de la cible."
   ]
  },
  {
   "cell_type": "markdown",
   "metadata": {
    "colab_type": "text",
    "id": "47Nvf8IhYn2b"
   },
   "source": [
    "**Implémentation:**"
   ]
  },
  {
   "cell_type": "code",
   "execution_count": 0,
   "metadata": {
    "colab": {},
    "colab_type": "code",
    "id": "FHnfYeS5avmF"
   },
   "outputs": [],
   "source": [
    "import torch.nn.functional as F\n",
    "\n",
    "\n",
    "def cost_function(prediction, target):\n",
    "    loss = F.cross_entropy(prediction, target)\n",
    "    return loss"
   ]
  },
  {
   "cell_type": "markdown",
   "metadata": {
    "colab_type": "text",
    "id": "Vsx_cv9Wqjdj"
   },
   "source": [
    "## Rétro-propagation du gradient"
   ]
  },
  {
   "cell_type": "markdown",
   "metadata": {
    "colab_type": "text",
    "id": "0hcZaIKtavmH"
   },
   "source": [
    "En Pytorch, grâce au mécanisme de differentiation automatique <a href=\"http://pytorch.org/docs/master/notes/autograd.html\">Autograd</a>, il est possible de calculer automatiquement le gradient de la fonction de coût et de le rétro-propager à travers le graphe computationnel.\n",
    "\n",
    "Pour ce faire, une fois la fonction de coût calculée et stockée dans une variable, il suffit d'appeler la méthode <b> backward() </b> de cette dernière.<br/>\n",
    "<br/>\n",
    "\n",
    "**Snippet de rétro-propagation:**\n",
    "\n",
    "loss = fonction_de_cout(...) <br/>\n",
    "loss.backward()<br/>"
   ]
  },
  {
   "cell_type": "markdown",
   "metadata": {
    "colab_type": "text",
    "id": "8YNo_ymYavmH"
   },
   "source": [
    "## Optimiseur"
   ]
  },
  {
   "cell_type": "markdown",
   "metadata": {
    "colab_type": "text",
    "id": "Y4AlX9TwavmH"
   },
   "source": [
    "PyTorch fournit un <a href=\"http://pytorch.org/docs/master/optim.html#algorithms\">ensemble de méthodes d'optimisation (`torch.optim`)</a> couramment utilisées dans la communauté de Deep Learning. Parmi ces méthodes, on y retrouve notamment: \n",
    "<ul>\n",
    "<li><b>SGD</b> (Stochastic Gradient Descent) <a href=\"http://pytorch.org/docs/master/optim.html#torch.optim.SGD\">`torch.optim.SGD(net.parameters(), lr=learning_rate)`</a> qui est une implémentation de SGD.</li>\n",
    "<li><b>Adam</b> (Adaptive Moment Estimation): variante de la méthode de descente de gradient dans laquelle le taux d'apprentissage est ajusté pour chaque paramètre. Cet ajustement est basé sur le momentum (moyenne glissante des gradients) et la courbure (moyenne glissante de la dérivée seconde). Cet optimiseur a démontré de très bonnes performamces par rapport à SGD dans la litérature.</li>\n",
    "</ul>\n"
   ]
  },
  {
   "cell_type": "markdown",
   "metadata": {
    "colab_type": "text",
    "id": "Uam-a0_0qjdl"
   },
   "source": [
    "\n",
    "Pour pouvoir utiliser un optimiseur en PyTorch, il faut l'instancier en lui passant les éléments suivants:\n",
    "<ul>\n",
    "<li><b>Les paramètres du réseau de neurones</b>: ceux-ci s'obtiennent à l'aide de la methode <b>parameters()</b> sur le modèle instanciée.</li>\n",
    "<li><b>Le taux d'apprentissage (learning rate, lr)</b>: c'est le taux d'apprentissage à utiliser pour la mise à jour des paramètres du réseau de neurones pendant le processus d'optimization.</li>\n",
    "<li>Il peut y avoir d'autres paramètres propres à l'optimiseur choisi</li>\n",
    "</ul>\n"
   ]
  },
  {
   "cell_type": "markdown",
   "metadata": {
    "colab_type": "text",
    "id": "jt6_Qr6ravmI"
   },
   "source": [
    "PyTorch offre un interface simplifiée pour interagir avec tout optimiseur:\n",
    "<ul>\n",
    "<li><b>zero_grad()</b>: Permet d'effacer les gradients des paramètres du réseau de neurones à optimiser. Elle est appelée <b>au début d'une étape d'optimisation</b> afin de re-initialiser les infos sur les paramètres à optimiser. </li>\n",
    "<li><b>step()</b>: Permet d'effectuer une étape d'optimisation. Elle est appelée <b>après une étape de rétro-propagation du gradient</b>.</li>\n",
    "</ul>"
   ]
  },
  {
   "cell_type": "markdown",
   "metadata": {
    "colab_type": "text",
    "id": "fZ-lKExqavmI"
   },
   "source": [
    "Dans ce tutoriel, nous utiliserons <b>Adam</b> avec une <b>lr</b> de 0.001."
   ]
  },
  {
   "cell_type": "markdown",
   "metadata": {
    "colab_type": "text",
    "id": "WdVIyV9xY2at"
   },
   "source": [
    "**Implémentation: **"
   ]
  },
  {
   "cell_type": "code",
   "execution_count": 0,
   "metadata": {
    "colab": {},
    "colab_type": "code",
    "id": "WDMOziJTavmI"
   },
   "outputs": [],
   "source": [
    "import torch.optim as optim\n",
    "\n",
    "optimizer = optim.Adam(neural_net.parameters(), lr=0.001) "
   ]
  },
  {
   "cell_type": "markdown",
   "metadata": {
    "colab_type": "text",
    "id": "OnFOAfdGqjdr"
   },
   "source": [
    "# ENTRAÎNEMENT"
   ]
  },
  {
   "cell_type": "markdown",
   "metadata": {
    "colab_type": "text",
    "id": "YD1paaYCavmJ"
   },
   "source": [
    "## Epoch, Itération, Mini-batch"
   ]
  },
  {
   "cell_type": "markdown",
   "metadata": {
    "colab_type": "text",
    "id": "P0ksgXqwavmK"
   },
   "source": [
    "### 1- Définition \n",
    "<ol>\n",
    "<li>\n",
    "<b>Epoch</b> : une passe complète sur tout le dataset d'entraînement.\n",
    "</li>\n",
    "\n",
    "<li>\n",
    "<b>Itération</b> : une mise à jour des paramètres du modèle (réseau de neurones). De nombreuses itérations peuvent se produire avant la fin d'un epoch.\n",
    "</li>\n",
    "\n",
    "<li>\n",
    "<b>Mini-batch</b> : Sous-ensemble de données d'entrainement utilisées pour effectuer une mise à jour des paramètres du modèle. Autrement dit, à chaque itération, un mini-batch est utilisé. \n",
    "</li>\n",
    "\n",
    "</ol>\n",
    "\n"
   ]
  },
  {
   "cell_type": "markdown",
   "metadata": {
    "colab_type": "text",
    "id": "LLXjNiDTavmK"
   },
   "source": [
    "### 2 - Mini-batch en PyTorch \n",
    "\n",
    "<ul>\n",
    "<li>\n",
    "PyTorch offre un utilitaire appelé <b><a href=\"http://pytorch.org/docs/master/data.html\"> torch.utils.data.DataLoader </a></b> permettant de charger un dataset quelconque et de le découper automatiquement en mini-batchs.\n",
    "</li>\n",
    "</ul>"
   ]
  },
  {
   "cell_type": "markdown",
   "metadata": {
    "colab_type": "text",
    "id": "K6gjERhgavmL"
   },
   "source": [
    "**Bon à savoir**: \n",
    "\n",
    "<ul>\n",
    "<li>\n",
    "Lors de l'entraînement, il est préférable que les données présentées au réseau apparaissent dans <b> un ordre différent d'un epoch à l'autre</b>.\n",
    "</li>\n",
    "</ul>"
   ]
  },
  {
   "cell_type": "markdown",
   "metadata": {
    "colab_type": "text",
    "id": "nsQtU9ylavmL"
   },
   "source": [
    "### 3 - Implémentation "
   ]
  },
  {
   "cell_type": "markdown",
   "metadata": {
    "colab_type": "text",
    "id": "7co1OxWJUMpL"
   },
   "source": [
    "Nous allons préparer les `DataLoader` pour nos trois ensembles de données (Entraînement, Validation, et Test)"
   ]
  },
  {
   "cell_type": "code",
   "execution_count": 0,
   "metadata": {
    "colab": {},
    "colab_type": "code",
    "id": "RGoQZSdqavmM"
   },
   "outputs": [],
   "source": [
    "train_batch_size = 32  # nombre de données dans un batch d'entraînement.\n",
    "eval_batch_size = 32   # nombre de données dans un batch d'évaluation.\n",
    "\n",
    "\n",
    "train_loader = torch.utils.data.DataLoader(train_dataset, batch_size=train_batch_size, shuffle=True)\n",
    "\n",
    "val_loader   = torch.utils.data.DataLoader(val_dataset, batch_size=eval_batch_size, shuffle=False)\n",
    "\n",
    "test_loader  = torch.utils.data.DataLoader(test_dataset, batch_size=eval_batch_size, shuffle=False)"
   ]
  },
  {
   "cell_type": "markdown",
   "metadata": {
    "colab_type": "text",
    "id": "Ia3ai-GvavmP"
   },
   "source": [
    "## Boucle principale"
   ]
  },
  {
   "cell_type": "markdown",
   "metadata": {
    "colab_type": "text",
    "id": "fCxQkQQjwuvq"
   },
   "source": [
    "### 1 - CPU ou GPU\n",
    "\n",
    "**Rappel:** <a href=\"http://pytorch.org/docs/master/cuda.html#module-torch.cuda\">`torch.cuda`</a> est une fonction qui permet la prise en charge de tenseurs de types CUDA avec les mêmes fonctions que les tenseurs de types CPU mais utilisant pour le calcul des GPU. <a href=\"http://pytorch.org/docs/master/cuda.html#torch.cuda.is_available\">`torch.cuda.is_available()`</a> retourne un booléen indiquant si CUDA est présentement disponible. \n",
    "\n",
    "\n",
    "**Conseil:** Definir une variable `device` qui contient le device sur lequel vous souhaitez utiliser pour l'entrainement. Pour passer un tenseur ou un modèle sur le device en question, utiliser la methode `.to(device)`.\n"
   ]
  },
  {
   "cell_type": "code",
   "execution_count": 0,
   "metadata": {
    "colab": {},
    "colab_type": "code",
    "id": "89u5gtjjymwP"
   },
   "outputs": [],
   "source": [
    "use_gpu = torch.cuda.is_available()\n",
    "device = torch.device(\"cuda:0\" if use_gpu else \"cpu\")\n"
   ]
  },
  {
   "cell_type": "markdown",
   "metadata": {
    "colab_type": "text",
    "id": "Q11ZxpjxzHZm"
   },
   "source": [
    "### 2 - Implémentation"
   ]
  },
  {
   "cell_type": "markdown",
   "metadata": {
    "colab_type": "text",
    "id": "v9wNZrTnavmQ"
   },
   "source": [
    "Nous définissons ici notre procédure d'entraînement pour un epoch."
   ]
  },
  {
   "cell_type": "code",
   "execution_count": 0,
   "metadata": {
    "colab": {},
    "colab_type": "code",
    "id": "ZyK9xCsZavmR"
   },
   "outputs": [],
   "source": [
    "def train(epoch, model, train_loader, optimizer, device):\n",
    "    \n",
    "    # mettre le modèle en mode train\n",
    "    model.train()\n",
    "    \n",
    "    torch.set_grad_enabled(True)\n",
    "    \n",
    "    # Accumulateurs d'informations\n",
    "    total_loss = 0\n",
    "    correct = 0\n",
    "    \n",
    "    # itérer sur les batchs\n",
    "    for batch_idx, (data, target) in enumerate(train_loader):\n",
    "        \n",
    "        # Mettre les données sur le device\n",
    "        data, target = data.to(device), target.to(device)\n",
    "        \n",
    "        # mettre à zéro les gradients des paramètres du réseau de neurones\n",
    "        optimizer.zero_grad()\n",
    "        \n",
    "        # exécuter le réseau de neurones sur les données du batch\n",
    "        prediction = model(data)\n",
    "        \n",
    "        # calculer la fonction de coût par rapport à la target\n",
    "        loss = cost_function(prediction, target)\n",
    "        \n",
    "        # faire la retro-propagation du gradient\n",
    "        loss.backward()\n",
    "        \n",
    "        # effectuer un étape d'optimisation\n",
    "        optimizer.step()\n",
    "        \n",
    "        # effectuer la somme des coûts\n",
    "        total_loss += loss.item()*len(data)\n",
    "        \n",
    "        # calculer le nombre de bonnes prédictions (classe correspondante à la valeur maximale en sortie) \n",
    "        _, pred_classes = torch.max(prediction, dim=1)        \n",
    "        correct += pred_classes.eq(target.view_as(pred_classes)).sum().item()\n",
    "        \n",
    "        \n",
    "        \n",
    "    # calculer le coût moyen par epoch\n",
    "    mean_loss = total_loss/len(train_loader.dataset)\n",
    "    \n",
    "    # calculer l'acurracy\n",
    "    acc = correct / len(train_loader.dataset)\n",
    "        \n",
    "    print('Train Epoch: {}   Avg_Loss: {:.5f}   Acc: {}/{} ({:.3f}%)'.format(\n",
    "        epoch, mean_loss, correct, len(train_loader.dataset),\n",
    "        100. * acc))   \n",
    "    \n",
    "    # retourner le coût moyen obtenu\n",
    "    return mean_loss, acc"
   ]
  },
  {
   "cell_type": "markdown",
   "metadata": {
    "colab_type": "text",
    "id": "PxG666rmavmU"
   },
   "source": [
    "## Procédure d'évaluation"
   ]
  },
  {
   "cell_type": "markdown",
   "metadata": {
    "colab_type": "text",
    "id": "vGexbWaHavmU"
   },
   "source": [
    "Nous définissons ici notre procédure d'évaluation du modèle.\n",
    "<br/>\n",
    "En plus de passer le modèle en mode **eval**, il faut penser à désactiver le calcul du gradient (on n'en a pas besoin en mode inférence). <br/>\n",
    "Pour celà, PyTorch offre un ensemble de gestionnaires de contexte permettant de désactiver/activer localement le calcul du gradient:\n",
    "<ol>\n",
    "<li>\n",
    "<a href=\"https://pytorch.org/docs/0.4.0/torch.html#locally-disabling-gradient-computation\">`torch.no_grad()`</a>: désactiver le calcul du gradient.\n",
    "</li>\n",
    "\n",
    "<li>\n",
    "<a href=\"https://pytorch.org/docs/0.4.0/torch.html#locally-disabling-gradient-computation\">`torch.enable_grad()`</a>: activer le calcul du gradient.\n",
    "</li>\n",
    "\n",
    "<li>\n",
    "<a href=\"https://pytorch.org/docs/0.4.0/torch.html#locally-disabling-gradient-computation\">`torch.set_grad_enabled(bool)`</a>: activer/désactiver le calcul du gradient.\n",
    "</li>\n",
    "\n",
    "</ol>\n",
    "\n"
   ]
  },
  {
   "cell_type": "code",
   "execution_count": 0,
   "metadata": {
    "colab": {},
    "colab_type": "code",
    "id": "8gQj9W5LavmU"
   },
   "outputs": [],
   "source": [
    "def evaluate(model, eval_loader, device):\n",
    "    \n",
    "    # mettre le modèle en mode eval\n",
    "    model.eval()\n",
    "    \n",
    "    # Accumulateurs d'informations\n",
    "    total_loss = 0\n",
    "    correct = 0\n",
    "    \n",
    "    \n",
    "    with torch.no_grad():\n",
    "    \n",
    "    # itérer sur les batchs\n",
    "    for batch_idx, (data, target) in enumerate(eval_loader):\n",
    "\n",
    "        # Mettre les données sur le device\n",
    "        data, target = data.to(device), target.to(device)\n",
    "\n",
    "        # exécuter le réseau de neurones sur les données du batch\n",
    "        prediction = model(data)\n",
    "\n",
    "        # calculer la fonction de coût par rapport à la target\n",
    "        loss = cost_function(prediction, target)           \n",
    "\n",
    "\n",
    "        # effectuer la somme des coûts\n",
    "        total_loss += loss.item()*len(data)\n",
    "\n",
    "        # calculer le nombre de bonnes prédictions (classe correspondante à la valeur maximale en sortie)\n",
    "        _, pred_classes = torch.max(prediction, dim=1) \n",
    "        correct += pred_classes.eq(target.view_as(pred_classes)).sum().item()         \n",
    "          \n",
    "    \n",
    "    # calculer le coût moyen\n",
    "    mean_loss = total_loss/len(eval_loader.dataset)\n",
    "    \n",
    "    # calculer l'acurracy\n",
    "    acc = correct / len(eval_loader.dataset)\n",
    "        \n",
    "    print('Eval:  Avg_Loss: {:.5f}   Acc: {}/{} ({:.3f}%)'.format(\n",
    "        mean_loss, correct, len(eval_loader.dataset),\n",
    "        100. * acc)) \n",
    "    \n",
    "    # retourner le coût moyen obtenu\n",
    "    return mean_loss, acc"
   ]
  },
  {
   "cell_type": "markdown",
   "metadata": {
    "colab_type": "text",
    "id": "fMUyZNxdavmW"
   },
   "source": [
    "## Checkpointing"
   ]
  },
  {
   "cell_type": "markdown",
   "metadata": {
    "colab_type": "text",
    "id": "lQLklQXAavmW"
   },
   "source": [
    "Pour des phases d'entraînement qui requièrent beaucoup de temps, il est recommandé de sauvegarder les paramètres (poids) du réseau de neurones au fil de l'apprentissage. C'est ce que l'on appelle communément le <b> checkpointing</b>.\n",
    "\n",
    "PyTorch offre <a href=\"http://pytorch.org/docs/master/notes/serialization.html\">un mécanisme simple</a> pour effectuer cette opération. \n",
    "\n",
    "\n",
    "\n"
   ]
  },
  {
   "cell_type": "markdown",
   "metadata": {
    "colab_type": "text",
    "id": "Ld-Y2gF-avmX"
   },
   "source": [
    "Nous implémentons ici deux méthodes:\n",
    "<ul>\n",
    "<li> la première pour <b> sauvegarder </b> un réseau de neurones </li>\n",
    "<li> la seconde pour <b> charger </b> une sauvegarde de réseau de neurones </li>\n",
    "</ul>"
   ]
  },
  {
   "cell_type": "code",
   "execution_count": 0,
   "metadata": {
    "colab": {},
    "colab_type": "code",
    "id": "dMmNpma2avmX"
   },
   "outputs": [],
   "source": [
    "def save_model(epoch, model, path='./'):\n",
    "    \n",
    "    # creation du nom de fichier indexé par la valeur de l'epoch\n",
    "    filename = path + 'neural_network_{}.pt'.format(epoch)\n",
    "    \n",
    "    # sauvegarde des paramètres du modèle.\n",
    "    torch.save(model.state_dict(), filename)\n",
    "    \n",
    "    \n",
    "    return model\n",
    "    "
   ]
  },
  {
   "cell_type": "code",
   "execution_count": 0,
   "metadata": {
    "colab": {},
    "colab_type": "code",
    "id": "2ZptgqQRavmZ"
   },
   "outputs": [],
   "source": [
    "def load_model(epoch, model, path='./'):\n",
    "    \n",
    "    # creation du nom de fichier indexé par la valeur de l'epoch\n",
    "    filename = path + 'neural_network_{}.pt'.format(epoch)\n",
    "    \n",
    "    # chargement des paramètres du modèle sauvegardé.\n",
    "    model.load_state_dict(torch.load(filename))\n",
    "    \n",
    "    \n",
    "    return model"
   ]
  },
  {
   "cell_type": "markdown",
   "metadata": {
    "colab_type": "text",
    "id": "ve8sOocWavma"
   },
   "source": [
    "**Important à savoir:**  \n",
    "\n",
    "Il est également possible de sauvegarder <b>l'état de l'optimiseur</b> en PyTorch. Ceci est très important dans les situations où nous souhaitons reprendre l'entraînement du réseau de neurones à partir d'une sauvegarde donnée. Pour plus d'informations, veuillez consulter l'url suivante: https://discuss.pytorch.org/t/saving-and-loading-a-model-in-pytorch/2610/3"
   ]
  },
  {
   "cell_type": "markdown",
   "metadata": {
    "colab_type": "text",
    "id": "8lcAP8-1avma"
   },
   "source": [
    "## Entraînement"
   ]
  },
  {
   "cell_type": "code",
   "execution_count": 24,
   "metadata": {
    "colab": {
     "base_uri": "https://localhost:8080/",
     "height": 6902
    },
    "colab_type": "code",
    "executionInfo": {
     "elapsed": 25128,
     "status": "ok",
     "timestamp": 1539780944582,
     "user": {
      "displayName": "Jeremy Pinto",
      "photoUrl": "",
      "userId": "01769873812237395022"
     },
     "user_tz": 240
    },
    "id": "keMpyePsavmb",
    "outputId": "25b1ebcc-c800-4077-b9dc-a74b5f89fede"
   },
   "outputs": [
    {
     "name": "stdout",
     "output_type": "stream",
     "text": [
      "Train Epoch: 1   Avg_Loss: 0.69287   Acc: 344/625 (55.040%)\n",
      "Eval:  Avg_Loss: 0.66714   Acc: 133/209 (63.636%)\n",
      "Train Epoch: 2   Avg_Loss: 0.65068   Acc: 418/625 (66.880%)\n",
      "Eval:  Avg_Loss: 0.63873   Acc: 137/209 (65.550%)\n",
      "Train Epoch: 3   Avg_Loss: 0.63288   Acc: 419/625 (67.040%)\n",
      "Eval:  Avg_Loss: 0.63616   Acc: 136/209 (65.072%)\n",
      "Train Epoch: 4   Avg_Loss: 0.62606   Acc: 415/625 (66.400%)\n",
      "Eval:  Avg_Loss: 0.61589   Acc: 140/209 (66.986%)\n",
      "Train Epoch: 5   Avg_Loss: 0.61768   Acc: 417/625 (66.720%)\n",
      "Eval:  Avg_Loss: 0.60510   Acc: 139/209 (66.507%)\n",
      "Train Epoch: 6   Avg_Loss: 0.61198   Acc: 427/625 (68.320%)\n",
      "Eval:  Avg_Loss: 0.61334   Acc: 144/209 (68.900%)\n",
      "Train Epoch: 7   Avg_Loss: 0.60842   Acc: 435/625 (69.600%)\n",
      "Eval:  Avg_Loss: 0.60039   Acc: 146/209 (69.856%)\n",
      "Train Epoch: 8   Avg_Loss: 0.60025   Acc: 433/625 (69.280%)\n",
      "Eval:  Avg_Loss: 0.65971   Acc: 121/209 (57.895%)\n",
      "Train Epoch: 9   Avg_Loss: 0.60059   Acc: 422/625 (67.520%)\n",
      "Eval:  Avg_Loss: 0.57870   Acc: 147/209 (70.335%)\n",
      "Train Epoch: 10   Avg_Loss: 0.58589   Acc: 436/625 (69.760%)\n",
      "Eval:  Avg_Loss: 0.60285   Acc: 144/209 (68.900%)\n",
      "Train Epoch: 11   Avg_Loss: 0.57958   Acc: 442/625 (70.720%)\n",
      "Eval:  Avg_Loss: 0.60137   Acc: 141/209 (67.464%)\n",
      "Train Epoch: 12   Avg_Loss: 0.57629   Acc: 448/625 (71.680%)\n",
      "Eval:  Avg_Loss: 0.56043   Acc: 154/209 (73.684%)\n",
      "Train Epoch: 13   Avg_Loss: 0.55922   Acc: 468/625 (74.880%)\n",
      "Eval:  Avg_Loss: 0.55576   Acc: 153/209 (73.206%)\n",
      "Train Epoch: 14   Avg_Loss: 0.55576   Acc: 469/625 (75.040%)\n",
      "Eval:  Avg_Loss: 0.52436   Acc: 154/209 (73.684%)\n",
      "Train Epoch: 15   Avg_Loss: 0.53946   Acc: 468/625 (74.880%)\n",
      "Eval:  Avg_Loss: 0.50660   Acc: 159/209 (76.077%)\n",
      "Train Epoch: 16   Avg_Loss: 0.51513   Acc: 484/625 (77.440%)\n",
      "Eval:  Avg_Loss: 0.48705   Acc: 161/209 (77.033%)\n",
      "Train Epoch: 17   Avg_Loss: 0.50444   Acc: 488/625 (78.080%)\n",
      "Eval:  Avg_Loss: 0.49282   Acc: 165/209 (78.947%)\n",
      "Train Epoch: 18   Avg_Loss: 0.49243   Acc: 498/625 (79.680%)\n",
      "Eval:  Avg_Loss: 0.46451   Acc: 166/209 (79.426%)\n",
      "Train Epoch: 19   Avg_Loss: 0.48690   Acc: 495/625 (79.200%)\n",
      "Eval:  Avg_Loss: 0.46794   Acc: 169/209 (80.861%)\n",
      "Train Epoch: 20   Avg_Loss: 0.47213   Acc: 506/625 (80.960%)\n",
      "Eval:  Avg_Loss: 0.44696   Acc: 167/209 (79.904%)\n",
      "Train Epoch: 21   Avg_Loss: 0.47151   Acc: 500/625 (80.000%)\n",
      "Eval:  Avg_Loss: 0.44775   Acc: 166/209 (79.426%)\n",
      "Train Epoch: 22   Avg_Loss: 0.47764   Acc: 500/625 (80.000%)\n",
      "Eval:  Avg_Loss: 0.44395   Acc: 166/209 (79.426%)\n",
      "Train Epoch: 23   Avg_Loss: 0.46693   Acc: 501/625 (80.160%)\n",
      "Eval:  Avg_Loss: 0.43578   Acc: 165/209 (78.947%)\n",
      "Train Epoch: 24   Avg_Loss: 0.48037   Acc: 483/625 (77.280%)\n",
      "Eval:  Avg_Loss: 0.45011   Acc: 165/209 (78.947%)\n",
      "Train Epoch: 25   Avg_Loss: 0.46109   Acc: 499/625 (79.840%)\n",
      "Eval:  Avg_Loss: 0.45523   Acc: 166/209 (79.426%)\n",
      "Train Epoch: 26   Avg_Loss: 0.45308   Acc: 505/625 (80.800%)\n",
      "Eval:  Avg_Loss: 0.43659   Acc: 166/209 (79.426%)\n",
      "Train Epoch: 27   Avg_Loss: 0.44972   Acc: 499/625 (79.840%)\n",
      "Eval:  Avg_Loss: 0.42789   Acc: 167/209 (79.904%)\n",
      "Train Epoch: 28   Avg_Loss: 0.44528   Acc: 506/625 (80.960%)\n",
      "Eval:  Avg_Loss: 0.42749   Acc: 167/209 (79.904%)\n",
      "Train Epoch: 29   Avg_Loss: 0.49027   Acc: 492/625 (78.720%)\n",
      "Eval:  Avg_Loss: 0.43264   Acc: 166/209 (79.426%)\n",
      "Train Epoch: 30   Avg_Loss: 0.45787   Acc: 504/625 (80.640%)\n",
      "Eval:  Avg_Loss: 0.43155   Acc: 167/209 (79.904%)\n",
      "Train Epoch: 31   Avg_Loss: 0.44184   Acc: 508/625 (81.280%)\n",
      "Eval:  Avg_Loss: 0.42735   Acc: 170/209 (81.340%)\n",
      "Train Epoch: 32   Avg_Loss: 0.44152   Acc: 506/625 (80.960%)\n",
      "Eval:  Avg_Loss: 0.43234   Acc: 167/209 (79.904%)\n",
      "Train Epoch: 33   Avg_Loss: 0.44372   Acc: 511/625 (81.760%)\n",
      "Eval:  Avg_Loss: 0.43425   Acc: 167/209 (79.904%)\n",
      "Train Epoch: 34   Avg_Loss: 0.43801   Acc: 510/625 (81.600%)\n",
      "Eval:  Avg_Loss: 0.42469   Acc: 168/209 (80.383%)\n",
      "Train Epoch: 35   Avg_Loss: 0.43998   Acc: 501/625 (80.160%)\n",
      "Eval:  Avg_Loss: 0.41902   Acc: 171/209 (81.818%)\n",
      "Train Epoch: 36   Avg_Loss: 0.44585   Acc: 509/625 (81.440%)\n",
      "Eval:  Avg_Loss: 0.42002   Acc: 168/209 (80.383%)\n",
      "Train Epoch: 37   Avg_Loss: 0.43773   Acc: 511/625 (81.760%)\n",
      "Eval:  Avg_Loss: 0.41783   Acc: 169/209 (80.861%)\n",
      "Train Epoch: 38   Avg_Loss: 0.43431   Acc: 512/625 (81.920%)\n",
      "Eval:  Avg_Loss: 0.41807   Acc: 167/209 (79.904%)\n",
      "Train Epoch: 39   Avg_Loss: 0.44402   Acc: 499/625 (79.840%)\n",
      "Eval:  Avg_Loss: 0.41555   Acc: 168/209 (80.383%)\n",
      "Train Epoch: 40   Avg_Loss: 0.45148   Acc: 507/625 (81.120%)\n",
      "Eval:  Avg_Loss: 0.43274   Acc: 167/209 (79.904%)\n",
      "Train Epoch: 41   Avg_Loss: 0.44559   Acc: 505/625 (80.800%)\n",
      "Eval:  Avg_Loss: 0.41605   Acc: 169/209 (80.861%)\n",
      "Train Epoch: 42   Avg_Loss: 0.43735   Acc: 509/625 (81.440%)\n",
      "Eval:  Avg_Loss: 0.43570   Acc: 169/209 (80.861%)\n",
      "Train Epoch: 43   Avg_Loss: 0.43700   Acc: 517/625 (82.720%)\n",
      "Eval:  Avg_Loss: 0.42842   Acc: 166/209 (79.426%)\n",
      "Train Epoch: 44   Avg_Loss: 0.44193   Acc: 511/625 (81.760%)\n",
      "Eval:  Avg_Loss: 0.42012   Acc: 166/209 (79.426%)\n",
      "Train Epoch: 45   Avg_Loss: 0.42726   Acc: 513/625 (82.080%)\n",
      "Eval:  Avg_Loss: 0.48885   Acc: 163/209 (77.990%)\n",
      "Train Epoch: 46   Avg_Loss: 0.45011   Acc: 507/625 (81.120%)\n",
      "Eval:  Avg_Loss: 0.45023   Acc: 167/209 (79.904%)\n",
      "Train Epoch: 47   Avg_Loss: 0.44945   Acc: 505/625 (80.800%)\n",
      "Eval:  Avg_Loss: 0.43610   Acc: 168/209 (80.383%)\n",
      "Train Epoch: 48   Avg_Loss: 0.43844   Acc: 516/625 (82.560%)\n",
      "Eval:  Avg_Loss: 0.44648   Acc: 166/209 (79.426%)\n",
      "Train Epoch: 49   Avg_Loss: 0.43237   Acc: 511/625 (81.760%)\n",
      "Eval:  Avg_Loss: 0.41245   Acc: 169/209 (80.861%)\n",
      "Train Epoch: 50   Avg_Loss: 0.42883   Acc: 510/625 (81.600%)\n",
      "Eval:  Avg_Loss: 0.42045   Acc: 166/209 (79.426%)\n",
      "Train Epoch: 51   Avg_Loss: 0.42844   Acc: 512/625 (81.920%)\n",
      "Eval:  Avg_Loss: 0.41146   Acc: 167/209 (79.904%)\n",
      "Train Epoch: 52   Avg_Loss: 0.43324   Acc: 508/625 (81.280%)\n",
      "Eval:  Avg_Loss: 0.41553   Acc: 168/209 (80.383%)\n",
      "Train Epoch: 53   Avg_Loss: 0.43502   Acc: 513/625 (82.080%)\n",
      "Eval:  Avg_Loss: 0.41404   Acc: 168/209 (80.383%)\n",
      "Train Epoch: 54   Avg_Loss: 0.42451   Acc: 520/625 (83.200%)\n",
      "Eval:  Avg_Loss: 0.41675   Acc: 167/209 (79.904%)\n",
      "Train Epoch: 55   Avg_Loss: 0.42690   Acc: 510/625 (81.600%)\n",
      "Eval:  Avg_Loss: 0.41558   Acc: 164/209 (78.469%)\n",
      "Train Epoch: 56   Avg_Loss: 0.42573   Acc: 509/625 (81.440%)\n",
      "Eval:  Avg_Loss: 0.41156   Acc: 166/209 (79.426%)\n",
      "Train Epoch: 57   Avg_Loss: 0.42340   Acc: 514/625 (82.240%)\n",
      "Eval:  Avg_Loss: 0.42677   Acc: 170/209 (81.340%)\n",
      "Train Epoch: 58   Avg_Loss: 0.42648   Acc: 510/625 (81.600%)\n",
      "Eval:  Avg_Loss: 0.42420   Acc: 168/209 (80.383%)\n",
      "Train Epoch: 59   Avg_Loss: 0.42896   Acc: 514/625 (82.240%)\n",
      "Eval:  Avg_Loss: 0.52979   Acc: 160/209 (76.555%)\n",
      "Train Epoch: 60   Avg_Loss: 0.44555   Acc: 499/625 (79.840%)\n",
      "Eval:  Avg_Loss: 0.44141   Acc: 168/209 (80.383%)\n",
      "Train Epoch: 61   Avg_Loss: 0.43008   Acc: 511/625 (81.760%)\n",
      "Eval:  Avg_Loss: 0.45045   Acc: 166/209 (79.426%)\n",
      "Train Epoch: 62   Avg_Loss: 0.42887   Acc: 516/625 (82.560%)\n",
      "Eval:  Avg_Loss: 0.43137   Acc: 168/209 (80.383%)\n",
      "Train Epoch: 63   Avg_Loss: 0.43501   Acc: 511/625 (81.760%)\n",
      "Eval:  Avg_Loss: 0.40921   Acc: 168/209 (80.383%)\n",
      "Train Epoch: 64   Avg_Loss: 0.42841   Acc: 513/625 (82.080%)\n",
      "Eval:  Avg_Loss: 0.40621   Acc: 168/209 (80.383%)\n",
      "Train Epoch: 65   Avg_Loss: 0.42252   Acc: 513/625 (82.080%)\n",
      "Eval:  Avg_Loss: 0.41201   Acc: 167/209 (79.904%)\n",
      "Train Epoch: 66   Avg_Loss: 0.44546   Acc: 509/625 (81.440%)\n",
      "Eval:  Avg_Loss: 0.40838   Acc: 168/209 (80.383%)\n",
      "Train Epoch: 67   Avg_Loss: 0.42374   Acc: 513/625 (82.080%)\n",
      "Eval:  Avg_Loss: 0.40637   Acc: 168/209 (80.383%)\n",
      "Train Epoch: 68   Avg_Loss: 0.42229   Acc: 518/625 (82.880%)\n",
      "Eval:  Avg_Loss: 0.40491   Acc: 168/209 (80.383%)\n",
      "Train Epoch: 69   Avg_Loss: 0.41940   Acc: 513/625 (82.080%)\n",
      "Eval:  Avg_Loss: 0.40680   Acc: 167/209 (79.904%)\n",
      "Train Epoch: 70   Avg_Loss: 0.43723   Acc: 511/625 (81.760%)\n",
      "Eval:  Avg_Loss: 0.41136   Acc: 166/209 (79.426%)\n",
      "Train Epoch: 71   Avg_Loss: 0.45080   Acc: 504/625 (80.640%)\n",
      "Eval:  Avg_Loss: 0.40538   Acc: 170/209 (81.340%)\n",
      "Train Epoch: 72   Avg_Loss: 0.43731   Acc: 510/625 (81.600%)\n",
      "Eval:  Avg_Loss: 0.41536   Acc: 167/209 (79.904%)\n",
      "Train Epoch: 73   Avg_Loss: 0.42266   Acc: 515/625 (82.400%)\n",
      "Eval:  Avg_Loss: 0.41748   Acc: 166/209 (79.426%)\n",
      "Train Epoch: 74   Avg_Loss: 0.41739   Acc: 514/625 (82.240%)\n",
      "Eval:  Avg_Loss: 0.41326   Acc: 167/209 (79.904%)\n",
      "Train Epoch: 75   Avg_Loss: 0.41893   Acc: 509/625 (81.440%)\n",
      "Eval:  Avg_Loss: 0.40650   Acc: 168/209 (80.383%)\n",
      "Train Epoch: 76   Avg_Loss: 0.42946   Acc: 509/625 (81.440%)\n",
      "Eval:  Avg_Loss: 0.41027   Acc: 168/209 (80.383%)\n",
      "Train Epoch: 77   Avg_Loss: 0.44247   Acc: 505/625 (80.800%)\n",
      "Eval:  Avg_Loss: 0.46221   Acc: 168/209 (80.383%)\n",
      "Train Epoch: 78   Avg_Loss: 0.42264   Acc: 511/625 (81.760%)\n",
      "Eval:  Avg_Loss: 0.40775   Acc: 168/209 (80.383%)\n",
      "Train Epoch: 79   Avg_Loss: 0.42612   Acc: 516/625 (82.560%)\n",
      "Eval:  Avg_Loss: 0.40297   Acc: 170/209 (81.340%)\n",
      "Train Epoch: 80   Avg_Loss: 0.42008   Acc: 520/625 (83.200%)\n",
      "Eval:  Avg_Loss: 0.40276   Acc: 171/209 (81.818%)\n",
      "Train Epoch: 81   Avg_Loss: 0.41833   Acc: 519/625 (83.040%)\n",
      "Eval:  Avg_Loss: 0.42682   Acc: 170/209 (81.340%)\n",
      "Train Epoch: 82   Avg_Loss: 0.41896   Acc: 522/625 (83.520%)\n",
      "Eval:  Avg_Loss: 0.41740   Acc: 169/209 (80.861%)\n",
      "Train Epoch: 83   Avg_Loss: 0.42532   Acc: 520/625 (83.200%)\n",
      "Eval:  Avg_Loss: 0.40774   Acc: 167/209 (79.904%)\n",
      "Train Epoch: 84   Avg_Loss: 0.43290   Acc: 504/625 (80.640%)\n",
      "Eval:  Avg_Loss: 0.40949   Acc: 167/209 (79.904%)\n",
      "Train Epoch: 85   Avg_Loss: 0.42345   Acc: 517/625 (82.720%)\n",
      "Eval:  Avg_Loss: 0.40287   Acc: 168/209 (80.383%)\n",
      "Train Epoch: 86   Avg_Loss: 0.42395   Acc: 513/625 (82.080%)\n",
      "Eval:  Avg_Loss: 0.40247   Acc: 168/209 (80.383%)\n",
      "Train Epoch: 87   Avg_Loss: 0.42150   Acc: 515/625 (82.400%)\n",
      "Eval:  Avg_Loss: 0.41644   Acc: 169/209 (80.861%)\n",
      "Train Epoch: 88   Avg_Loss: 0.42477   Acc: 510/625 (81.600%)\n",
      "Eval:  Avg_Loss: 0.42481   Acc: 169/209 (80.861%)\n",
      "Train Epoch: 89   Avg_Loss: 0.42263   Acc: 517/625 (82.720%)\n",
      "Eval:  Avg_Loss: 0.41217   Acc: 169/209 (80.861%)\n",
      "Train Epoch: 90   Avg_Loss: 0.41863   Acc: 513/625 (82.080%)\n",
      "Eval:  Avg_Loss: 0.40499   Acc: 168/209 (80.383%)\n",
      "Train Epoch: 91   Avg_Loss: 0.41635   Acc: 520/625 (83.200%)\n",
      "Eval:  Avg_Loss: 0.39875   Acc: 169/209 (80.861%)\n",
      "Train Epoch: 92   Avg_Loss: 0.41348   Acc: 523/625 (83.680%)\n",
      "Eval:  Avg_Loss: 0.40343   Acc: 167/209 (79.904%)\n",
      "Train Epoch: 93   Avg_Loss: 0.42197   Acc: 511/625 (81.760%)\n",
      "Eval:  Avg_Loss: 0.40854   Acc: 169/209 (80.861%)\n",
      "Train Epoch: 94   Avg_Loss: 0.41336   Acc: 522/625 (83.520%)\n",
      "Eval:  Avg_Loss: 0.40000   Acc: 169/209 (80.861%)\n",
      "Train Epoch: 95   Avg_Loss: 0.41138   Acc: 519/625 (83.040%)\n",
      "Eval:  Avg_Loss: 0.40740   Acc: 170/209 (81.340%)\n",
      "Train Epoch: 96   Avg_Loss: 0.41214   Acc: 518/625 (82.880%)\n",
      "Eval:  Avg_Loss: 0.39838   Acc: 171/209 (81.818%)\n",
      "Train Epoch: 97   Avg_Loss: 0.41336   Acc: 521/625 (83.360%)\n",
      "Eval:  Avg_Loss: 0.39865   Acc: 169/209 (80.861%)\n",
      "Train Epoch: 98   Avg_Loss: 0.41671   Acc: 515/625 (82.400%)\n",
      "Eval:  Avg_Loss: 0.40018   Acc: 171/209 (81.818%)\n",
      "Train Epoch: 99   Avg_Loss: 0.41503   Acc: 523/625 (83.680%)\n",
      "Eval:  Avg_Loss: 0.39782   Acc: 169/209 (80.861%)\n",
      "Train Epoch: 100   Avg_Loss: 0.41200   Acc: 519/625 (83.040%)\n",
      "Eval:  Avg_Loss: 0.40636   Acc: 170/209 (81.340%)\n",
      "Train Epoch: 101   Avg_Loss: 0.41176   Acc: 512/625 (81.920%)\n",
      "Eval:  Avg_Loss: 0.39585   Acc: 170/209 (81.340%)\n",
      "Train Epoch: 102   Avg_Loss: 0.41971   Acc: 525/625 (84.000%)\n",
      "Eval:  Avg_Loss: 0.39738   Acc: 169/209 (80.861%)\n",
      "Train Epoch: 103   Avg_Loss: 0.41258   Acc: 519/625 (83.040%)\n",
      "Eval:  Avg_Loss: 0.40409   Acc: 169/209 (80.861%)\n",
      "Train Epoch: 104   Avg_Loss: 0.41226   Acc: 520/625 (83.200%)\n",
      "Eval:  Avg_Loss: 0.40933   Acc: 170/209 (81.340%)\n",
      "Train Epoch: 105   Avg_Loss: 0.41562   Acc: 518/625 (82.880%)\n",
      "Eval:  Avg_Loss: 0.41088   Acc: 169/209 (80.861%)\n",
      "Train Epoch: 106   Avg_Loss: 0.40967   Acc: 521/625 (83.360%)\n",
      "Eval:  Avg_Loss: 0.39784   Acc: 170/209 (81.340%)\n",
      "Train Epoch: 107   Avg_Loss: 0.41425   Acc: 518/625 (82.880%)\n",
      "Eval:  Avg_Loss: 0.39883   Acc: 170/209 (81.340%)\n",
      "Train Epoch: 108   Avg_Loss: 0.40988   Acc: 516/625 (82.560%)\n",
      "Eval:  Avg_Loss: 0.41397   Acc: 171/209 (81.818%)\n",
      "Train Epoch: 109   Avg_Loss: 0.41100   Acc: 518/625 (82.880%)\n",
      "Eval:  Avg_Loss: 0.40086   Acc: 166/209 (79.426%)\n",
      "Train Epoch: 110   Avg_Loss: 0.41229   Acc: 520/625 (83.200%)\n",
      "Eval:  Avg_Loss: 0.40019   Acc: 169/209 (80.861%)\n",
      "Train Epoch: 111   Avg_Loss: 0.41252   Acc: 513/625 (82.080%)\n",
      "Eval:  Avg_Loss: 0.40956   Acc: 170/209 (81.340%)\n",
      "Train Epoch: 112   Avg_Loss: 0.41241   Acc: 518/625 (82.880%)\n",
      "Eval:  Avg_Loss: 0.41808   Acc: 169/209 (80.861%)\n",
      "Train Epoch: 113   Avg_Loss: 0.41485   Acc: 518/625 (82.880%)\n",
      "Eval:  Avg_Loss: 0.39402   Acc: 170/209 (81.340%)\n",
      "Train Epoch: 114   Avg_Loss: 0.41042   Acc: 510/625 (81.600%)\n",
      "Eval:  Avg_Loss: 0.40605   Acc: 169/209 (80.861%)\n",
      "Train Epoch: 115   Avg_Loss: 0.40934   Acc: 519/625 (83.040%)\n",
      "Eval:  Avg_Loss: 0.39929   Acc: 169/209 (80.861%)\n",
      "Train Epoch: 116   Avg_Loss: 0.41767   Acc: 519/625 (83.040%)\n",
      "Eval:  Avg_Loss: 0.43022   Acc: 168/209 (80.383%)\n",
      "Train Epoch: 117   Avg_Loss: 0.41744   Acc: 522/625 (83.520%)\n",
      "Eval:  Avg_Loss: 0.39875   Acc: 168/209 (80.383%)\n",
      "Train Epoch: 118   Avg_Loss: 0.40933   Acc: 525/625 (84.000%)\n",
      "Eval:  Avg_Loss: 0.39627   Acc: 169/209 (80.861%)\n",
      "Train Epoch: 119   Avg_Loss: 0.40602   Acc: 519/625 (83.040%)\n",
      "Eval:  Avg_Loss: 0.42206   Acc: 169/209 (80.861%)\n",
      "Train Epoch: 120   Avg_Loss: 0.41633   Acc: 519/625 (83.040%)\n",
      "Eval:  Avg_Loss: 0.39626   Acc: 172/209 (82.297%)\n",
      "Train Epoch: 121   Avg_Loss: 0.40839   Acc: 526/625 (84.160%)\n",
      "Eval:  Avg_Loss: 0.40164   Acc: 168/209 (80.383%)\n",
      "Train Epoch: 122   Avg_Loss: 0.40739   Acc: 523/625 (83.680%)\n",
      "Eval:  Avg_Loss: 0.41061   Acc: 169/209 (80.861%)\n",
      "Train Epoch: 123   Avg_Loss: 0.40908   Acc: 519/625 (83.040%)\n",
      "Eval:  Avg_Loss: 0.40003   Acc: 169/209 (80.861%)\n",
      "Train Epoch: 124   Avg_Loss: 0.41115   Acc: 519/625 (83.040%)\n",
      "Eval:  Avg_Loss: 0.40431   Acc: 169/209 (80.861%)\n",
      "Train Epoch: 125   Avg_Loss: 0.40772   Acc: 525/625 (84.000%)\n",
      "Eval:  Avg_Loss: 0.42855   Acc: 168/209 (80.383%)\n",
      "Train Epoch: 126   Avg_Loss: 0.41525   Acc: 520/625 (83.200%)\n",
      "Eval:  Avg_Loss: 0.40469   Acc: 171/209 (81.818%)\n",
      "Train Epoch: 127   Avg_Loss: 0.40687   Acc: 521/625 (83.360%)\n",
      "Eval:  Avg_Loss: 0.39988   Acc: 168/209 (80.383%)\n",
      "Train Epoch: 128   Avg_Loss: 0.40411   Acc: 521/625 (83.360%)\n",
      "Eval:  Avg_Loss: 0.39580   Acc: 168/209 (80.383%)\n",
      "Train Epoch: 129   Avg_Loss: 0.40681   Acc: 518/625 (82.880%)\n",
      "Eval:  Avg_Loss: 0.39602   Acc: 169/209 (80.861%)\n",
      "Train Epoch: 130   Avg_Loss: 0.40700   Acc: 519/625 (83.040%)\n",
      "Eval:  Avg_Loss: 0.40452   Acc: 168/209 (80.383%)\n",
      "Train Epoch: 131   Avg_Loss: 0.40213   Acc: 523/625 (83.680%)\n",
      "Eval:  Avg_Loss: 0.39559   Acc: 169/209 (80.861%)\n",
      "Train Epoch: 132   Avg_Loss: 0.40269   Acc: 520/625 (83.200%)\n",
      "Eval:  Avg_Loss: 0.39464   Acc: 170/209 (81.340%)\n",
      "Train Epoch: 133   Avg_Loss: 0.40539   Acc: 521/625 (83.360%)\n",
      "Eval:  Avg_Loss: 0.39549   Acc: 168/209 (80.383%)\n",
      "Train Epoch: 134   Avg_Loss: 0.41289   Acc: 517/625 (82.720%)\n",
      "Eval:  Avg_Loss: 0.39494   Acc: 169/209 (80.861%)\n",
      "Train Epoch: 135   Avg_Loss: 0.41708   Acc: 517/625 (82.720%)\n",
      "Eval:  Avg_Loss: 0.39914   Acc: 170/209 (81.340%)\n",
      "Train Epoch: 136   Avg_Loss: 0.40617   Acc: 520/625 (83.200%)\n",
      "Eval:  Avg_Loss: 0.41238   Acc: 169/209 (80.861%)\n",
      "Train Epoch: 137   Avg_Loss: 0.40104   Acc: 519/625 (83.040%)\n",
      "Eval:  Avg_Loss: 0.39648   Acc: 169/209 (80.861%)\n",
      "Train Epoch: 138   Avg_Loss: 0.40555   Acc: 518/625 (82.880%)\n",
      "Eval:  Avg_Loss: 0.44476   Acc: 165/209 (78.947%)\n",
      "Train Epoch: 139   Avg_Loss: 0.41186   Acc: 515/625 (82.400%)\n",
      "Eval:  Avg_Loss: 0.43719   Acc: 167/209 (79.904%)\n",
      "Train Epoch: 140   Avg_Loss: 0.40232   Acc: 520/625 (83.200%)\n",
      "Eval:  Avg_Loss: 0.39452   Acc: 171/209 (81.818%)\n",
      "Train Epoch: 141   Avg_Loss: 0.41014   Acc: 523/625 (83.680%)\n",
      "Eval:  Avg_Loss: 0.39873   Acc: 169/209 (80.861%)\n",
      "Train Epoch: 142   Avg_Loss: 0.40107   Acc: 521/625 (83.360%)\n",
      "Eval:  Avg_Loss: 0.41840   Acc: 170/209 (81.340%)\n",
      "Train Epoch: 143   Avg_Loss: 0.40196   Acc: 522/625 (83.520%)\n",
      "Eval:  Avg_Loss: 0.39370   Acc: 170/209 (81.340%)\n",
      "Train Epoch: 144   Avg_Loss: 0.40331   Acc: 522/625 (83.520%)\n",
      "Eval:  Avg_Loss: 0.40801   Acc: 170/209 (81.340%)\n",
      "Train Epoch: 145   Avg_Loss: 0.40673   Acc: 519/625 (83.040%)\n",
      "Eval:  Avg_Loss: 0.42832   Acc: 164/209 (78.469%)\n",
      "Train Epoch: 146   Avg_Loss: 0.40681   Acc: 518/625 (82.880%)\n",
      "Eval:  Avg_Loss: 0.39848   Acc: 170/209 (81.340%)\n",
      "Train Epoch: 147   Avg_Loss: 0.40166   Acc: 525/625 (84.000%)\n",
      "Eval:  Avg_Loss: 0.41980   Acc: 168/209 (80.383%)\n",
      "Train Epoch: 148   Avg_Loss: 0.40138   Acc: 522/625 (83.520%)\n",
      "Eval:  Avg_Loss: 0.51604   Acc: 161/209 (77.033%)\n",
      "Train Epoch: 149   Avg_Loss: 0.48140   Acc: 499/625 (79.840%)\n",
      "Eval:  Avg_Loss: 0.60532   Acc: 154/209 (73.684%)\n",
      "Train Epoch: 150   Avg_Loss: 0.44367   Acc: 500/625 (80.000%)\n",
      "Eval:  Avg_Loss: 0.40582   Acc: 165/209 (78.947%)\n",
      "Train Epoch: 151   Avg_Loss: 0.41967   Acc: 514/625 (82.240%)\n",
      "Eval:  Avg_Loss: 0.40605   Acc: 170/209 (81.340%)\n",
      "Train Epoch: 152   Avg_Loss: 0.40267   Acc: 518/625 (82.880%)\n",
      "Eval:  Avg_Loss: 0.39810   Acc: 171/209 (81.818%)\n",
      "Train Epoch: 153   Avg_Loss: 0.40174   Acc: 530/625 (84.800%)\n",
      "Eval:  Avg_Loss: 0.39632   Acc: 170/209 (81.340%)\n",
      "Train Epoch: 154   Avg_Loss: 0.40432   Acc: 522/625 (83.520%)\n",
      "Eval:  Avg_Loss: 0.40466   Acc: 169/209 (80.861%)\n",
      "Train Epoch: 155   Avg_Loss: 0.39873   Acc: 525/625 (84.000%)\n",
      "Eval:  Avg_Loss: 0.40188   Acc: 170/209 (81.340%)\n",
      "Train Epoch: 156   Avg_Loss: 0.39701   Acc: 518/625 (82.880%)\n",
      "Eval:  Avg_Loss: 0.41082   Acc: 170/209 (81.340%)\n",
      "Train Epoch: 157   Avg_Loss: 0.39783   Acc: 522/625 (83.520%)\n",
      "Eval:  Avg_Loss: 0.40689   Acc: 168/209 (80.383%)\n",
      "Train Epoch: 158   Avg_Loss: 0.40105   Acc: 515/625 (82.400%)\n",
      "Eval:  Avg_Loss: 0.40569   Acc: 169/209 (80.861%)\n",
      "Train Epoch: 159   Avg_Loss: 0.39804   Acc: 523/625 (83.680%)\n",
      "Eval:  Avg_Loss: 0.40656   Acc: 169/209 (80.861%)\n",
      "Train Epoch: 160   Avg_Loss: 0.40124   Acc: 525/625 (84.000%)\n",
      "Eval:  Avg_Loss: 0.39685   Acc: 168/209 (80.383%)\n",
      "Train Epoch: 161   Avg_Loss: 0.39895   Acc: 520/625 (83.200%)\n",
      "Eval:  Avg_Loss: 0.43889   Acc: 166/209 (79.426%)\n",
      "Train Epoch: 162   Avg_Loss: 0.40820   Acc: 518/625 (82.880%)\n",
      "Eval:  Avg_Loss: 0.41571   Acc: 167/209 (79.904%)\n",
      "Train Epoch: 163   Avg_Loss: 0.39997   Acc: 512/625 (81.920%)\n",
      "Eval:  Avg_Loss: 0.44514   Acc: 167/209 (79.904%)\n",
      "Train Epoch: 164   Avg_Loss: 0.40346   Acc: 519/625 (83.040%)\n",
      "Eval:  Avg_Loss: 0.44462   Acc: 165/209 (78.947%)\n",
      "Train Epoch: 165   Avg_Loss: 0.42420   Acc: 517/625 (82.720%)\n",
      "Eval:  Avg_Loss: 0.42703   Acc: 169/209 (80.861%)\n",
      "Train Epoch: 166   Avg_Loss: 0.39925   Acc: 522/625 (83.520%)\n",
      "Eval:  Avg_Loss: 0.40129   Acc: 167/209 (79.904%)\n",
      "Train Epoch: 167   Avg_Loss: 0.39316   Acc: 519/625 (83.040%)\n",
      "Eval:  Avg_Loss: 0.42265   Acc: 168/209 (80.383%)\n",
      "Train Epoch: 168   Avg_Loss: 0.40690   Acc: 520/625 (83.200%)\n",
      "Eval:  Avg_Loss: 0.43253   Acc: 167/209 (79.904%)\n",
      "Train Epoch: 169   Avg_Loss: 0.40154   Acc: 526/625 (84.160%)\n",
      "Eval:  Avg_Loss: 0.40685   Acc: 167/209 (79.904%)\n",
      "Train Epoch: 170   Avg_Loss: 0.39323   Acc: 526/625 (84.160%)\n",
      "Eval:  Avg_Loss: 0.40189   Acc: 166/209 (79.426%)\n",
      "Train Epoch: 171   Avg_Loss: 0.40036   Acc: 516/625 (82.560%)\n",
      "Eval:  Avg_Loss: 0.40016   Acc: 168/209 (80.383%)\n",
      "Train Epoch: 172   Avg_Loss: 0.40910   Acc: 518/625 (82.880%)\n",
      "Eval:  Avg_Loss: 0.41623   Acc: 169/209 (80.861%)\n",
      "Train Epoch: 173   Avg_Loss: 0.40479   Acc: 518/625 (82.880%)\n",
      "Eval:  Avg_Loss: 0.40316   Acc: 167/209 (79.904%)\n",
      "Train Epoch: 174   Avg_Loss: 0.39275   Acc: 532/625 (85.120%)\n",
      "Eval:  Avg_Loss: 0.40967   Acc: 168/209 (80.383%)\n",
      "Train Epoch: 175   Avg_Loss: 0.39117   Acc: 529/625 (84.640%)\n",
      "Eval:  Avg_Loss: 0.42012   Acc: 168/209 (80.383%)\n",
      "Train Epoch: 176   Avg_Loss: 0.39282   Acc: 525/625 (84.000%)\n",
      "Eval:  Avg_Loss: 0.40926   Acc: 170/209 (81.340%)\n",
      "Train Epoch: 177   Avg_Loss: 0.39526   Acc: 516/625 (82.560%)\n",
      "Eval:  Avg_Loss: 0.39570   Acc: 166/209 (79.426%)\n",
      "Train Epoch: 178   Avg_Loss: 0.39885   Acc: 518/625 (82.880%)\n",
      "Eval:  Avg_Loss: 0.40276   Acc: 166/209 (79.426%)\n",
      "Train Epoch: 179   Avg_Loss: 0.40399   Acc: 526/625 (84.160%)\n",
      "Eval:  Avg_Loss: 0.41732   Acc: 168/209 (80.383%)\n",
      "Train Epoch: 180   Avg_Loss: 0.38711   Acc: 525/625 (84.000%)\n",
      "Eval:  Avg_Loss: 0.40007   Acc: 168/209 (80.383%)\n",
      "Train Epoch: 181   Avg_Loss: 0.38893   Acc: 526/625 (84.160%)\n",
      "Eval:  Avg_Loss: 0.40509   Acc: 166/209 (79.426%)\n",
      "Train Epoch: 182   Avg_Loss: 0.38867   Acc: 525/625 (84.000%)\n",
      "Eval:  Avg_Loss: 0.39993   Acc: 168/209 (80.383%)\n",
      "Train Epoch: 183   Avg_Loss: 0.38702   Acc: 528/625 (84.480%)\n",
      "Eval:  Avg_Loss: 0.40193   Acc: 168/209 (80.383%)\n",
      "Train Epoch: 184   Avg_Loss: 0.39095   Acc: 528/625 (84.480%)\n",
      "Eval:  Avg_Loss: 0.39806   Acc: 171/209 (81.818%)\n",
      "Train Epoch: 185   Avg_Loss: 0.38973   Acc: 528/625 (84.480%)\n",
      "Eval:  Avg_Loss: 0.40874   Acc: 170/209 (81.340%)\n",
      "Train Epoch: 186   Avg_Loss: 0.41039   Acc: 518/625 (82.880%)\n",
      "Eval:  Avg_Loss: 0.40498   Acc: 170/209 (81.340%)\n",
      "Train Epoch: 187   Avg_Loss: 0.40753   Acc: 527/625 (84.320%)\n",
      "Eval:  Avg_Loss: 0.40064   Acc: 168/209 (80.383%)\n",
      "Train Epoch: 188   Avg_Loss: 0.38551   Acc: 528/625 (84.480%)\n",
      "Eval:  Avg_Loss: 0.39840   Acc: 167/209 (79.904%)\n",
      "Train Epoch: 189   Avg_Loss: 0.38561   Acc: 530/625 (84.800%)\n",
      "Eval:  Avg_Loss: 0.43357   Acc: 165/209 (78.947%)\n",
      "Train Epoch: 190   Avg_Loss: 0.40130   Acc: 518/625 (82.880%)\n",
      "Eval:  Avg_Loss: 0.40793   Acc: 169/209 (80.861%)\n",
      "Train Epoch: 191   Avg_Loss: 0.39439   Acc: 529/625 (84.640%)\n",
      "Eval:  Avg_Loss: 0.40367   Acc: 168/209 (80.383%)\n",
      "Train Epoch: 192   Avg_Loss: 0.39617   Acc: 527/625 (84.320%)\n",
      "Eval:  Avg_Loss: 0.39991   Acc: 166/209 (79.426%)\n",
      "Train Epoch: 193   Avg_Loss: 0.38947   Acc: 528/625 (84.480%)\n",
      "Eval:  Avg_Loss: 0.40113   Acc: 167/209 (79.904%)\n",
      "Train Epoch: 194   Avg_Loss: 0.39120   Acc: 526/625 (84.160%)\n",
      "Eval:  Avg_Loss: 0.40935   Acc: 167/209 (79.904%)\n",
      "Train Epoch: 195   Avg_Loss: 0.38511   Acc: 524/625 (83.840%)\n",
      "Eval:  Avg_Loss: 0.40239   Acc: 168/209 (80.383%)\n",
      "Train Epoch: 196   Avg_Loss: 0.38395   Acc: 527/625 (84.320%)\n",
      "Eval:  Avg_Loss: 0.40431   Acc: 168/209 (80.383%)\n",
      "Train Epoch: 197   Avg_Loss: 0.38497   Acc: 526/625 (84.160%)\n",
      "Eval:  Avg_Loss: 0.40900   Acc: 168/209 (80.383%)\n",
      "Train Epoch: 198   Avg_Loss: 0.38307   Acc: 528/625 (84.480%)\n",
      "Eval:  Avg_Loss: 0.40278   Acc: 168/209 (80.383%)\n",
      "Train Epoch: 199   Avg_Loss: 0.38622   Acc: 527/625 (84.320%)\n",
      "Eval:  Avg_Loss: 0.41380   Acc: 169/209 (80.861%)\n",
      "Train Epoch: 200   Avg_Loss: 0.38013   Acc: 530/625 (84.800%)\n",
      "Eval:  Avg_Loss: 0.39723   Acc: 166/209 (79.426%)\n",
      "\n",
      "\n",
      "\n",
      "Optimization ended.\n",
      "\n"
     ]
    }
   ],
   "source": [
    "# nombre d'epochs\n",
    "numEpochs = 200\n",
    "\n",
    "# Frequence de sauvegarde\n",
    "checkpoint_freq = 10\n",
    "\n",
    "# Repertoire pour la sauvegarde des données\n",
    "path = './'\n",
    "\n",
    "# Accumulateurs des coûts moyens obtenu par epoch\n",
    "train_losses = []\n",
    "val_losses = []\n",
    "\n",
    "# Accumulateurs des performances par epoch\n",
    "train_accuracies = []\n",
    "val_accuracies = []\n",
    "\n",
    "# Définition du réseau de neuronnes\n",
    "neural_net = NeuralNet()\n",
    "\n",
    "\n",
    "# Mettre le réseau sur le device\n",
    "neural_net = neural_net.to(device)\n",
    "\n",
    "# définition de l'optimiseur\n",
    "optimizer = optim.Adam(neural_net.parameters(), lr=0.001) \n",
    "# optimizer = optim.SGD(neural_net.parameters(), lr=0.001) \n",
    "\n",
    "\n",
    "# Itérer sur le nombre d'epochs\n",
    "for epoch in range(1, numEpochs + 1):\n",
    "    \n",
    "    # entraîner le modèle avec le dataset de train\n",
    "    train_loss, train_acc = train(epoch, neural_net, train_loader, optimizer, device)   \n",
    "    \n",
    "    # évaluer le modèle avec le dataset de validation\n",
    "    val_loss, val_acc = evaluate(neural_net, val_loader, device)       \n",
    "    \n",
    "    # Sauvegarde des coûts obtenus\n",
    "    train_losses.append(train_loss)    \n",
    "    val_losses.append(val_loss)\n",
    "    \n",
    "    # Sauvegarde des performamces\n",
    "    train_accuracies.append(train_acc)    \n",
    "    val_accuracies.append(val_acc)\n",
    "    \n",
    "    # Checkpoint\n",
    "    if epoch % checkpoint_freq ==0:\n",
    "        save_model(epoch, neural_net, path)\n",
    "\n",
    "# Sauvegarde du modèle à la fin de l'entraînement.\n",
    "save_model(numEpochs, neural_net, path)\n",
    "    \n",
    "print(\"\\n\\n\\nOptimization ended.\\n\")    \n"
   ]
  },
  {
   "cell_type": "markdown",
   "metadata": {
    "colab_type": "text",
    "id": "86OZRLrjavmd"
   },
   "source": [
    "## Exécution du réseau de neurones avec des données réelles"
   ]
  },
  {
   "cell_type": "code",
   "execution_count": 33,
   "metadata": {
    "colab": {
     "base_uri": "https://localhost:8080/",
     "height": 187
    },
    "colab_type": "code",
    "executionInfo": {
     "elapsed": 228,
     "status": "ok",
     "timestamp": 1539781342192,
     "user": {
      "displayName": "Jeremy Pinto",
      "photoUrl": "",
      "userId": "01769873812237395022"
     },
     "user_tz": 240
    },
    "id": "mklvQruYavme",
    "outputId": "fe3c24b4-b92e-42d8-86c7-599e0276b724"
   },
   "outputs": [
    {
     "name": "stdout",
     "output_type": "stream",
     "text": [
      "tensor([[0.8423, 0.1577],\n",
      "        [0.9622, 0.0378],\n",
      "        [0.5178, 0.4822],\n",
      "        [0.7668, 0.2332],\n",
      "        [0.1343, 0.8657],\n",
      "        [0.1159, 0.8841],\n",
      "        [0.4826, 0.5174],\n",
      "        [0.0515, 0.9485],\n",
      "        [0.5029, 0.4971],\n",
      "        [0.2109, 0.7891]], device='cuda:0', grad_fn=<SoftmaxBackward>)\n"
     ]
    }
   ],
   "source": [
    "# activation du mode eval\n",
    "neural_net = neural_net.eval()\n",
    "\n",
    "# Sélection des 10 premières données du dataset de validation\n",
    "data, target = val_dataset[0:10]\n",
    "data = data.to(device)\n",
    "# Execution du réseau de neurones\n",
    "output = neural_net(data)   # ou, en version longue, neural_net.forward(data)\n",
    "\n",
    "# Tranformation des resultat en probabilités en utilisant la fonction SOFTMAX\n",
    "output_proba = F.softmax(output, dim=1)\n",
    "\n",
    "# Affichage des probabilités\n",
    "print(output_proba)"
   ]
  },
  {
   "cell_type": "code",
   "execution_count": 34,
   "metadata": {
    "colab": {
     "base_uri": "https://localhost:8080/",
     "height": 85
    },
    "colab_type": "code",
    "executionInfo": {
     "elapsed": 230,
     "status": "ok",
     "timestamp": 1539781343276,
     "user": {
      "displayName": "Jeremy Pinto",
      "photoUrl": "",
      "userId": "01769873812237395022"
     },
     "user_tz": 240
    },
    "id": "RvIEqKt0qjeT",
    "outputId": "fcb08628-9247-4d8c-8a20-1282dfc2a79b"
   },
   "outputs": [
    {
     "name": "stdout",
     "output_type": "stream",
     "text": [
      "Prédiction du modèle\n",
      "tensor([0, 0, 0, 0, 1, 1, 1, 1, 0, 1], device='cuda:0')\n",
      "Données réelles\n",
      "tensor([0, 0, 1, 0, 1, 1, 0, 1, 1, 1])\n"
     ]
    }
   ],
   "source": [
    "# Affichage des prédictions (classe ayant la plus grande probabilités)\n",
    "_, prediction = torch.max(output_proba, dim=1)\n",
    "\n",
    "print(\"Prédiction du modèle\")\n",
    "print(prediction)\n",
    "\n",
    "# Affichage de la vrai target\n",
    "print(\"Données réelles\")\n",
    "print(target)"
   ]
  },
  {
   "cell_type": "markdown",
   "metadata": {
    "colab_type": "text",
    "id": "V11J3Jihavmy"
   },
   "source": [
    "## Visualisation de la courbe d'apprentissage"
   ]
  },
  {
   "cell_type": "markdown",
   "metadata": {
    "colab_type": "text",
    "id": "j9_9C_tXavmz"
   },
   "source": [
    "La <b>visualisation de la courbe d'apprentissage</b> permet de détecter d'éventuels problèmes survenus lors de l'apprentissage, par exemple, l'overfitting (sur-apprentissage)."
   ]
  },
  {
   "cell_type": "code",
   "execution_count": 30,
   "metadata": {
    "colab": {
     "base_uri": "https://localhost:8080/",
     "height": 280
    },
    "colab_type": "code",
    "executionInfo": {
     "elapsed": 500,
     "status": "ok",
     "timestamp": 1539781147825,
     "user": {
      "displayName": "Jeremy Pinto",
      "photoUrl": "",
      "userId": "01769873812237395022"
     },
     "user_tz": 240
    },
    "id": "iNcbpl0tavm0",
    "outputId": "cd28d35a-eaa2-4a68-fa98-72d7124bbb72"
   },
   "outputs": [
    {
     "data": {
      "image/png": "[encoded data removed]",
      "text/plain": [
       "<matplotlib.figure.Figure at 0x7f967d90a278>"
      ]
     },
     "metadata": {
      "tags": []
     },
     "output_type": "display_data"
    }
   ],
   "source": [
    "import matplotlib.pyplot as plt\n",
    "%matplotlib inline\n",
    "\n",
    "x = list(range(len(train_losses)))\n",
    "\n",
    "ax = plt.subplot(111)\n",
    "plt.plot(x, train_losses, 'r', label=\"Train\")\n",
    "plt.plot(x, val_losses, 'g', label=\"Validation\")\n",
    "plt.title('Loss')\n",
    "leg = plt.legend(loc='best', ncol=2, mode=\"expand\", shadow=True, fancybox=True)\n",
    "leg.get_frame().set_alpha(0.99)"
   ]
  },
  {
   "cell_type": "code",
   "execution_count": 31,
   "metadata": {
    "colab": {
     "base_uri": "https://localhost:8080/",
     "height": 280
    },
    "colab_type": "code",
    "executionInfo": {
     "elapsed": 475,
     "status": "ok",
     "timestamp": 1539781152991,
     "user": {
      "displayName": "Jeremy Pinto",
      "photoUrl": "",
      "userId": "01769873812237395022"
     },
     "user_tz": 240
    },
    "id": "g-VGQ2pMavm4",
    "outputId": "fc84f290-8c6b-456e-8ba9-fa53f405dc0e"
   },
   "outputs": [
    {
     "data": {
      "image/png": "[encoded data removed]",
      "text/plain": [
       "<matplotlib.figure.Figure at 0x7f9633f5b780>"
      ]
     },
     "metadata": {
      "tags": []
     },
     "output_type": "display_data"
    }
   ],
   "source": [
    "x = list(range(len(train_accuracies)))\n",
    "\n",
    "ax = plt.subplot(111)\n",
    "plt.plot(x, train_accuracies, 'r', label=\"Train\")\n",
    "plt.plot(x, val_accuracies, 'g', label=\"Validation\")\n",
    "plt.title('Accuracy')\n",
    "leg = plt.legend(loc='best', ncol=2, mode=\"expand\", shadow=False, fancybox=False)\n",
    "leg.get_frame().set_alpha(0.99)"
   ]
  },
  {
   "cell_type": "markdown",
   "metadata": {
    "colab_type": "text",
    "id": "8oktkpkuqjet"
   },
   "source": [
    "**Questions: **\n",
    "\n",
    "<b> a) Que pouvez-vous dire de ces courbes ?  <br/>\n",
    "Illustrent-ils un régime de sur-apprentissage? Si non, pourquoi? Si oui, que pouvez-vous faire pour y remédier?</b> <br/>\n",
    "<b> b) Que pouvez-vous faire pour améliorer la performance du réseau de neurones sur des données de validation? </b><br/>"
   ]
  },
  {
   "cell_type": "markdown",
   "metadata": {
    "colab_type": "text",
    "id": "XK_eUsq3avm8"
   },
   "source": [
    "# ÉVALUATION"
   ]
  },
  {
   "cell_type": "markdown",
   "metadata": {
    "colab_type": "text",
    "id": "4UREO5elavm8"
   },
   "source": [
    "Nous pouvons finalement évaluer notre modèle apppris sur notre dataset de Test."
   ]
  },
  {
   "cell_type": "code",
   "execution_count": 32,
   "metadata": {
    "colab": {
     "base_uri": "https://localhost:8080/",
     "height": 34
    },
    "colab_type": "code",
    "executionInfo": {
     "elapsed": 193,
     "status": "ok",
     "timestamp": 1539781169688,
     "user": {
      "displayName": "Jeremy Pinto",
      "photoUrl": "",
      "userId": "01769873812237395022"
     },
     "user_tz": 240
    },
    "id": "pPWvDM-qavm8",
    "outputId": "1a81293b-75e5-4b3b-b61d-17518a6e9017"
   },
   "outputs": [
    {
     "name": "stdout",
     "output_type": "stream",
     "text": [
      "Eval:  Avg_Loss: 0.51039   Acc: 167/209 (79.904%)\n"
     ]
    }
   ],
   "source": [
    "test_loss, test_acc = evaluate(neural_net, test_loader, device)"
   ]
  },
  {
   "cell_type": "markdown",
   "metadata": {
    "colab_type": "text",
    "id": "EvP_-KUwqjez"
   },
   "source": [
    "**Questions: **\n",
    "\n",
    "<b> a) Comparer les résultats de validation et de test ?  Le réseau appris généralise t'il aussi bien qu'espéré ? <br/>\n",
    "b) Pensez-vous qu'il est possible d'utiliser un MLP pour d'autres types de données comme des image par exemple? </b> <br/>"
   ]
  }
 ],
 "metadata": {
  "accelerator": "GPU",
  "colab": {
   "collapsed_sections": [
    "mgtCculMavku"
   ],
   "name": "MLP-AFT-Hiver18Tutorial-Complet.ipynb",
   "provenance": [],
   "toc_visible": true,
   "version": "0.3.2"
  },
  "kernelspec": {
   "display_name": "Python 3",
   "language": "python",
   "name": "python3"
  },
  "language_info": {
   "codemirror_mode": {
    "name": "ipython",
    "version": 3
   },
   "file_extension": ".py",
   "mimetype": "text/x-python",
   "name": "python",
   "nbconvert_exporter": "python",
   "pygments_lexer": "ipython3",
   "version": "3.7.0"
  }
 },
 "nbformat": 4,
 "nbformat_minor": 1
}
