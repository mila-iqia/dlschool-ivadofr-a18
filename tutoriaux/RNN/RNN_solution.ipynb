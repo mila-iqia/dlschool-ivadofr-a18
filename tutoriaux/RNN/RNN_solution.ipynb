{
  "nbformat": 4,
  "nbformat_minor": 0,
  "metadata": {
    "colab": {
      "name": "RNN_solution.ipynb",
      "version": "0.3.2",
      "provenance": [],
      "collapsed_sections": [],
      "toc_visible": true
    },
    "kernelspec": {
      "name": "python3",
      "display_name": "Python 3"
    },
    "accelerator": "GPU"
  },
  "cells": [
    {
      "metadata": {
        "id": "B9ALu78bhPXM",
        "colab_type": "text"
      },
      "cell_type": "markdown",
      "source": [
        "# ÉCOLE IVADO/Mila EN APPRENTISSAGE PROFOND\n",
        "# SESSION D'AUTOMNE 2018 \n",
        "# Tutoriel : Réseaux de neurones récurrents (RNN)\n",
        "\n"
      ]
    },
    {
      "metadata": {
        "id": "MIH_PfZV1rNa",
        "colab_type": "text"
      },
      "cell_type": "markdown",
      "source": [
        "## Auteurs\n",
        "\n",
        "Francis Grégoire <francis.gregoire@rd.mila.quebec>\n",
        "\n",
        "Jeremy Pinto <jeremy.pinto@rd.mila.quebec>\n",
        "\n",
        "Jean-Philippe Reid <Jean-Philippe.Reid@ElementAI.com>"
      ]
    },
    {
      "metadata": {
        "id": "OYrPFO1p1rX1",
        "colab_type": "text"
      },
      "cell_type": "markdown",
      "source": [
        "## Préface\n",
        "\n",
        "Ce tutoriel contient deux exemples ayant comme objectif d'introduire des concepts fondamentaux sur les réseaux neuronaux récurrents (RNN et LSTM).\n",
        "\n",
        "La première tâche consiste d'un exemple plutôt élémentaire servant à mettre en évidence l'avantage d'utiliser un modèle LSTM contre un simple RNN.\n",
        "\n",
        "Dans la deuxième tâche, nous allons mettre en valeur un modèle LSTM de manière plus concrète en développant un modèle de langue neuronal pour générer du nouveau texte. Dans cet exemple, vous allez apprendre comment faire le prétraitement des données textuelles dans le but de réussir à entraîner un modèle de langue neuronal de manière efficace."
      ]
    },
    {
      "metadata": {
        "id": "ArGnixElhPXN",
        "colab_type": "text"
      },
      "cell_type": "markdown",
      "source": [
        "---\n",
        "# Initialisation et importation des librairies\n",
        "\n",
        "Pour assurer le bon fonctionnement de ce notebook sur Colab, il est nécessaire d'installer quelques librairies à l'aide de `pip`. Tout d'abord, assurez-vous d'être connectés au notebook (✓ CONNECTED en haut à droite). Exécutez ensuite la cellule suivante en la sélectionnant et en cliquant `shift`+`Enter`. L'installation peut prendre quelques minutes."
      ]
    },
    {
      "metadata": {
        "id": "028-EhOGhPXO",
        "colab_type": "code",
        "outputId": "d4754a3b-5953-4c8d-f1bd-0f75ba16561c",
        "colab": {
          "base_uri": "https://localhost:8080/",
          "height": 437
        }
      },
      "cell_type": "code",
      "source": [
        "!pip3 install torch torchvision matplotlib"
      ],
      "execution_count": 1,
      "outputs": [
        {
          "output_type": "stream",
          "text": [
            "Collecting torch\n",
            "\u001b[?25l  Downloading https://files.pythonhosted.org/packages/49/0e/e382bcf1a6ae8225f50b99cc26effa2d4cc6d66975ccf3fa9590efcbedce/torch-0.4.1-cp36-cp36m-manylinux1_x86_64.whl (519.5MB)\n",
            "\u001b[K    100% |████████████████████████████████| 519.5MB 30kB/s \n",
            "tcmalloc: large alloc 1073750016 bytes == 0x59934000 @  0x7f1e5e1812a4 0x594e17 0x626104 0x51190a 0x4f5277 0x510c78 0x5119bd 0x4f5277 0x4f3338 0x510fb0 0x5119bd 0x4f5277 0x4f3338 0x510fb0 0x5119bd 0x4f5277 0x4f3338 0x510fb0 0x5119bd 0x4f6070 0x510c78 0x5119bd 0x4f5277 0x4f3338 0x510fb0 0x5119bd 0x4f6070 0x4f3338 0x510fb0 0x5119bd 0x4f6070\n",
            "\u001b[?25hCollecting torchvision\n",
            "\u001b[?25l  Downloading https://files.pythonhosted.org/packages/ca/0d/f00b2885711e08bd71242ebe7b96561e6f6d01fdb4b9dcf4d37e2e13c5e1/torchvision-0.2.1-py2.py3-none-any.whl (54kB)\n",
            "\u001b[K    100% |████████████████████████████████| 61kB 22.5MB/s \n",
            "\u001b[?25hRequirement already satisfied: matplotlib in /usr/local/lib/python3.6/dist-packages (2.1.2)\n",
            "Collecting pillow>=4.1.1 (from torchvision)\n",
            "\u001b[?25l  Downloading https://files.pythonhosted.org/packages/62/94/5430ebaa83f91cc7a9f687ff5238e26164a779cca2ef9903232268b0a318/Pillow-5.3.0-cp36-cp36m-manylinux1_x86_64.whl (2.0MB)\n",
            "\u001b[K    100% |████████████████████████████████| 2.0MB 4.5MB/s \n",
            "\u001b[?25hRequirement already satisfied: six in /usr/local/lib/python3.6/dist-packages (from torchvision) (1.11.0)\n",
            "Requirement already satisfied: numpy in /usr/local/lib/python3.6/dist-packages (from torchvision) (1.14.6)\n",
            "Requirement already satisfied: cycler>=0.10 in /usr/local/lib/python3.6/dist-packages (from matplotlib) (0.10.0)\n",
            "Requirement already satisfied: pytz in /usr/local/lib/python3.6/dist-packages (from matplotlib) (2018.5)\n",
            "Requirement already satisfied: python-dateutil>=2.1 in /usr/local/lib/python3.6/dist-packages (from matplotlib) (2.5.3)\n",
            "Requirement already satisfied: pyparsing!=2.0.4,!=2.1.2,!=2.1.6,>=2.0.1 in /usr/local/lib/python3.6/dist-packages (from matplotlib) (2.2.2)\n",
            "Installing collected packages: torch, pillow, torchvision\n",
            "  Found existing installation: Pillow 4.0.0\n",
            "    Uninstalling Pillow-4.0.0:\n",
            "      Successfully uninstalled Pillow-4.0.0\n",
            "Successfully installed pillow-5.3.0 torch-0.4.1 torchvision-0.2.1\n"
          ],
          "name": "stdout"
        }
      ]
    },
    {
      "metadata": {
        "id": "UwebZdYMhPXT",
        "colab_type": "code",
        "outputId": "dce7f788-6635-4ad6-f85a-65118c45e7c4",
        "colab": {
          "base_uri": "https://localhost:8080/",
          "height": 54
        }
      },
      "cell_type": "code",
      "source": [
        "import copy\n",
        "import time\n",
        "import os\n",
        "\n",
        "import numpy as np\n",
        "import matplotlib.pyplot as plt\n",
        "%matplotlib inline\n",
        "\n",
        "import torch\n",
        "import torch.nn as nn\n",
        "import torch.nn.functional as F\n",
        "import torch.nn.init as init\n",
        "import torch.optim as optim\n",
        "\n",
        "from torch.utils.data import DataLoader, TensorDataset\n",
        "\n",
        "\n",
        "use_gpu = torch.cuda.is_available()\n",
        "device = torch.device(\"cuda:0\" if use_gpu else \"cpu\")\n",
        "\n",
        "# Seed pour reproduire les résultats.\n",
        "seed = 42\n",
        "torch.manual_seed(seed)\n",
        "torch.cuda.manual_seed(seed)\n",
        "\n",
        "print(\"PyTorch version: \", torch.__version__)\n",
        "print(\"GPU available: {}\".format(use_gpu))"
      ],
      "execution_count": 2,
      "outputs": [
        {
          "output_type": "stream",
          "text": [
            "PyTorch version:  0.4.1\n",
            "GPU available: True\n"
          ],
          "name": "stdout"
        }
      ]
    },
    {
      "metadata": {
        "id": "odAnur2xtX8n",
        "colab_type": "text"
      },
      "cell_type": "markdown",
      "source": [
        "---\n",
        "# Contexte théorique"
      ]
    },
    {
      "metadata": {
        "id": "bU1k5WvhhPXX",
        "colab_type": "text"
      },
      "cell_type": "markdown",
      "source": [
        "\n",
        "## Réseaux de neurones récurrents\n",
        "\n",
        "Un large ensemble de types de données comporte une certaine dimension temporelle non-négligeable. Par exemple, lorsque nous traitons des données textuelles (c.à.d. pour des systèmes de traduction automatique, question-réponse, *chatbots*, etc.), le contexte est souvent un élément important à modéliser afin de correctement faire de bonnes prédictions. Considérons la phrase \"*J'aime l'école IVADO/Mila en apprentissage profond (3e édition) parce que les gens de l'équipe Mila transfert technologique sont tellement ... *\". En évaluant le contexte de cette phrase, nous pouvons assumer qu'il y a une probabilité plus élevée que le prochain mot soit le mot \"*cools*\" au lieu du mot \"*stupides*\".\n",
        "\n",
        "Les MLP traitent seulement les données à un temps $t$ sans vraiment considérer celles qui se trouvent avant ou après. Ils demandent aussi d'utiliser des variables d'entrées de taille fixe. Dans la situation où nous nous retrouvons avec des données de tailles variables nécessitant une sorte de mécanisme de mémoire intertemporelle, ce type de réseaux de neurones limite souvent nos capacités de modélisation et performent généralement moins bien.\n",
        "\n",
        "Les réseaux de neurones récurrents (RNN) sont utiles pour traiter les données de tailles variables. Par taille variable, nous voulons dire des données sous la forme de séquences avec un nombre différent d'éléments. Par exemple, deux phrases $\\mathbf{s}_{i} = (x_{i,1}, \\dots, x_{i,N})$ et $\\mathbf{s}_{j} = (x_{j,1}, \\dots, x_{j,M})$ n'ont pas la même longueur si $N \\neq M$. La couche cachée d'un RNN, aussi appelée état récurrent, que nous dénotons $\\mathbf{h}_{t} \\in \\mathbb R^{d_{h}}$, est un vecteur de dimension $d_{h}$ servant à représenter la mémoire à travers le temps. À chaque pas de temps $t$, l'état récurrent est une fonction récursive qui se met à jour avec en entrée les variables d'entrées actuelles $x_{t}$ et l'état récurrent au pas de temps précédent $\\mathbf{h}_{t-1}$. Cette fonction prend la forme:\n",
        "\n",
        "\\begin{equation}\n",
        "  \\mathbf{h_{t}} = f(x_{t}, \\mathbf{h}_{t-1})\n",
        "\\end{equation}\n",
        "\n",
        "et fait en sorte que la sortie du modèle à chaque pas de temps $t$ est dépendant des calculs précédents. La fonction $f(\\cdot)$ peut prendre plusieurs formes. Dans le cas d'un RNN classique, nous avons:\n",
        "\n",
        "\\begin{equation}\n",
        "  f(x_{t}, \\mathbf{h}_{t-1}) = g(\\mathbf{W}\\psi(x_{t}) + \\mathbf{U}\\mathbf{h}_{t-1} + \\mathbf{b}_{h}),\n",
        "\\end{equation}\n",
        "\n",
        "où $\\psi(x_{t})$ peut simplement être la fonction identité (comme dans la tâche 1) ou une fonction qui transforme une donnée discrète en une représentation vectorielle continue de dimension $d_{e}$ (comme dans la tâche 2) . Les matrices $\\mathbf{W} \\in \\mathbb R^{d_{h} \\times d_{e}}$ et $\\mathbf{U} \\in \\mathbb R^{d_{h} \\times d_{h}}$ sont des paramètres du modèle partagés à chaque pas de temps $t$. Ces matrices déterminent l'importance à accorder à la fois aux données actuelles et à l'état récurrent passé. Enfin, $g(\\cdot)$ est une fonction d'activation non-linéaire.\n",
        "\n",
        "<img src=\"http://colah.github.io/posts/2015-08-Understanding-LSTMs/img/RNN-unrolled.png\" width=800 >\n",
        "\n",
        "La structure du réseau et le format de la sortie $y$ d'un RNN dépendent de la tâche sous-jacente que nous voulons modéliser. Pour les tâches de classification, l'approche la plus naturelle consiste à utiliser le vecteur du dernier état récurrent afin de produire la sortie désirée. Pour modéliser la sortie, la loi de Bernoulli correspond parfaitement à la classification binaire (où la cible $y \\in \\{0, 1\\}$) pour obtenir la probabilité conditionnelle d'avoir un exemple positif:\n",
        "\n",
        "\\begin{equation}\n",
        "  p(y_{t} = 1 | \\mathbf{h}_{t}) = \\sigma(\\mathbf{v}^\\top \\mathbf{h}_{t} + \\mathbf{b}_{c}).\n",
        "\\end{equation}\n",
        "\n",
        "Où $\\sigma$ représente la fonction sigmoïde. Lorsque nous traitons un problème de classification multiclasse avec $n$ classes, la couche de sortie contient $n$ neurones et il est donc commun d'utiliser une fonction *softmax* pour nous retourner une distribution catégorique, soit la distribution conditionnelle que la sortie $y \\in \\{1, \\dots, n\\}$ définie comme suit:\n",
        "\n",
        "\\begin{equation}\n",
        "  [p(y_{t} = 1 | \\mathbf{h}_{t}), \\dots, p(y_{t} = n | \\mathbf{h}_{t})]^\\top = softmax(\\mathbf{V}^\\top \\mathbf{h}_{t} + \\mathbf{b}_{c}),\n",
        "\\end{equation}\n",
        "\n",
        "où $\\mathbf{V} \\in \\mathbb R^{d_{h} \\times d_{y}}$, $\\mathbf{v}\\ \\in \\mathbb R^{d_{h}}$ et $\\mathbf{b}_{c}\\ \\in \\mathbb R^{d_{y}}$ font partie de l'ensemble des paramètres du modèle.\n",
        "\n",
        "En théorie, les RNN permettent de modéliser les dépendances pour des séquences arbitrairement longues. En réalité, il est démontré qu'il est difficile d'apprendre des dépendances à long terme durant l'entraînement des paramètres (consultez l'[article de Bengio et al. (1994)](http://ai.dinfo.unifi.it/paolo//ps/tnn-94-gradient.pdf)). Comme un RNN est récursif et que les paramètres sont partagés à travers chaque pas de temps pour une séquence en entrée, en appliquant l'algorithme de rétropropagation du gradient pour l'apprentissage des paramètres du modèle, le gradient $\\nabla$ dépend non seulement des calculs au pas de temps actuel, mais aussi aux pas de temps précédents. Pour une séquence de $N$ pas de temps, cela peut avoir comme effet de multiplier $N$ petits nombres pour calculer le gradient, de sorte que sa valeur décroît exponentiellement pour tendre rapidement vers zéro. Le modèle apprend très lentement après quelques pas de temps, voir pas du tout. Cet effet problématique est appelé le *vanishing gradient problem*. De l'autre côté, lorsque nous avons un gradient qui peut prendre des valeurs élevées, nous faisons face au *exploding gradient problem*."
      ]
    },
    {
      "metadata": {
        "id": "2SmKN04AudAI",
        "colab_type": "text"
      },
      "cell_type": "markdown",
      "source": [
        "## Long Short Term Memory\n",
        "\n",
        "Le modèle Long Short Term Memory (LSTM) a été introduit afin de contourner l'*exploding gradient problem* et dans le but de pouvoir construire un RNN capable d’apprendre les dépendances à long terme sur un grand nombre de pas de temps. Aujourd'hui, il s'agit du modèle récurrent le plus utilisé dans les applications d'apprentissage profond en NLP. Un LSTM n'a pas une architecture fondamentalement différente d'un RNN, mais il utilise une fonction différente et plus sophistiquée dans le calcul des états récurrents. Les deux images suivantes montrent la différence entre le mécanisme interne d'un RNN (haut) et d'un LSTM (bas).\n",
        "\n",
        "<img src=\"http://colah.github.io/posts/2015-08-Understanding-LSTMs/img/LSTM3-SimpleRNN.png\" width=600 >\n",
        "<img src=\"http://colah.github.io/posts/2015-08-Understanding-LSTMs/img/LSTM3-chain.png\" width=600 >\n",
        "\n",
        "Contrairement à un RNN classique, un LSTM sépare la mémoire en deux composantes; l'état de mémoire $\\mathbf{c_{t}}$ et l'état récurrent $\\mathbf{h_{t}}$. L'état récurrent $\\mathbf{h_{t}}$ est un sous-ensemble de l'état de mémoire cachée $\\mathbf{c_{t}}$ et seulement ce sous-ensemble est visiblement exposé aux autres parties du réseau. Le LSTM utilise une porte de sortie $\\mathbf{o}$ (*output gate*) pour déterminer combien de mémoire révéler à l'état récurrent. La fonction de l'*output gate* est calculée ainsi:\n",
        "\n",
        "\\begin{equation}\n",
        "  \\mathbf{o} = \\sigma(\\mathbf{W}_{o} \\psi(x_{t}) + \\mathbf{U}_{o} \\mathbf{h}_{t-1} + \\mathbf{b}_{o}).\n",
        "\\end{equation}\n",
        "\n",
        "Ce vecteur est multiplié élément par élement avec l'état de mémoire pour donner l'état récurrent suivant:\n",
        "\n",
        "\\begin{equation}\n",
        "  \\mathbf{h}_{t} = \\mathbf{o} \\odot tanh(\\mathbf{c}_{t}).\n",
        "\\end{equation}\n",
        "\n",
        "Pour mettre à jour l'état de mémoire, le LSTM utilise une porte d'oublie $\\mathbf{f}$ (*forget gate*) et une porte d'entrée $\\mathbf{i}$ (*input gate*), de sorte que:\n",
        "\n",
        "\\begin{equation}\n",
        "  \\mathbf{c}_{t} = \\mathbf{f} \\odot \\mathbf{c}_{t-1} + \\mathbf{i} \\odot \\tilde{\\mathbf{c}}_{t},\n",
        "\\end{equation}\n",
        "\n",
        "où $\\tilde{\\mathbf{c}}_{t}$ est un état de mémoire candidat. La *forget gate* détermine la proportion d'information à oublier de l'état de mémoire, tandis que l'*input gate* contrôle la proportion d'information à garder du nouvel élément en entrée et de l'état récurrent précédent:\n",
        "\n",
        "\\begin{gather}\n",
        "  \\mathbf{f} = \\sigma(\\mathbf{W}_{f} \\psi(x_{t}) + \\mathbf{U}_{f} \\mathbf{h}_{t-1} + \\mathbf{b}_{f}), \\\\\n",
        "  \\mathbf{i} = \\sigma(\\mathbf{W}_{i} \\psi(x_{t}) + \\mathbf{U}_{i} \\mathbf{h}_{t-1} + \\mathbf{b}_{i}), \\\\\n",
        "  \\tilde{\\mathbf{c}} = tanh(\\mathbf{W}_{c} \\psi(x_{t}) + \\mathbf{U}_{c} \\mathbf{h}_{t-1} + \\mathbf{b}_{c}).\n",
        "\\end{gather}\n",
        "\n",
        "Les paramètres $\\mathbf{W}_{o}$, $\\mathbf{U}_{o}$, $\\mathbf{b}_{o}$, $\\mathbf{W}_{f}$, $\\mathbf{U}_{f}$, $\\mathbf{b}_{f}$, $\\mathbf{W}_{i}$, $\\mathbf{U}_{i}$, $\\mathbf{b}_{i}$, $\\mathbf{W}_{c}$, $\\mathbf{U}_{c}$ et $\\mathbf{b}_{c}$ sont des paramètres supplémentaires spécifiques au LSTM et doivent être estimés avec tous les autres paramètres du modèle.\n",
        "\n",
        "Pour en apprendre plus sur les LSTM, consultez l'[article de Colah](http://colah.github.io/posts/2015-08-Understanding-LSTMs/) (à ne pas confondre avec Colab).\n"
      ]
    },
    {
      "metadata": {
        "id": "7SLcPxj5z2vX",
        "colab_type": "text"
      },
      "cell_type": "markdown",
      "source": [
        "---\n",
        "# Tâche 1: Sommes de nombres"
      ]
    },
    {
      "metadata": {
        "id": "4Y-PnqdMhPXX",
        "colab_type": "text"
      },
      "cell_type": "markdown",
      "source": [
        "\n",
        "## Objectif\n",
        "\n",
        "L'objectif de cet exemple est de construire un modèle capable de faire la somme d'une série de nombres. Il s'agit d'une tâche très simple (une calculatrice de poche peut facilement l'exécuter!) et servira à souligner certaines limitations des RNN. L'ensemble de données est facile à générer et nous permet de rapidement tester la capacité à modéliser une longue séquence entre un RNN traditionnel et un LSTM.\n",
        "\n"
      ]
    },
    {
      "metadata": {
        "id": "nihkB--rz6WL",
        "colab_type": "text"
      },
      "cell_type": "markdown",
      "source": [
        "## Ensemble de données\n",
        "\n",
        "L'ensemble de données est constitué d'un ensemble de séquences de nombres de longueur $seq\\_len$ où une cible est associée à chacune. Dans notre cas, la cible d'une séquence est associée à la somme des nombres de la séquence. Ainsi, pour un exemple donné nous avons comme variable d'entrée un vecteur $\\mathbf x^{(i)} = \\left[x_{1}^{i}, x_{2}^{i}, \\dots, x_{T}^{N}\\right]$ de longueur $seq\\_len=T$ et comme cible la variable $y^{(i)}$ donnée par:\n",
        "\n",
        "\\begin{align}  \n",
        "y^{(i)}=\\sum_{j=1}^{seq\\_len}x^{(i)}_j.\n",
        "\\end{align}\n",
        "\n",
        "Où $j$ est l'indice de temps.\n",
        "\n",
        "Par exemple, pour un $\\mathbf x^{(i)}$ explicitement défini avec $seq\\_len=4$, nous avons:\n",
        "\n",
        "\n",
        "\\begin{align}  \n",
        "\\mathbf x^{(i)} &= \\left[ 4,-1,15,24\\right], \\, \\mathbf x^{(i)} \\in \\mathbb R^{4}; \\\\ \n",
        "y^{(i)} &= 42, \\, \\mathrm y^{(i)} \\in \\mathbb R.\n",
        "\\end{align}\n",
        "\n",
        "Nous allons nous servir de cet ensemble de données pour entrainer un RNN et un LSTM. Comme la cible est un nombre réel, nous devons utiliser une couche linéaire pour projeter le dernier état récurrent du RNN/LSTM, $h^{(i)}_{T}$, tel qu'illustré à la figure suivante:\n",
        "\n",
        "![Texte alternatif…](https://github.com/jphreid/tutorial_ivado/raw/master/lstm-figures.002.jpeg)\n"
      ]
    },
    {
      "metadata": {
        "id": "zZNrVvS8hPXY",
        "colab_type": "text"
      },
      "cell_type": "markdown",
      "source": [
        "### Génération d'un ensemble de données\n",
        "\n",
        "Afin de mieux énoncer la tâche, nous définissons une fonction utilitaire qui nous permet de construire un ensemble de données aléatoires de `n_samples` séquences de longueur `seq_len` en utilisant la fonction [torch.randint()](https://pytorch.org/docs/stable/torch.html#torch.randint)."
      ]
    },
    {
      "metadata": {
        "code_folding": [],
        "id": "nKFfyWFahPXZ",
        "colab_type": "code",
        "outputId": "8d9b7f1b-28c9-45d7-900b-2256539a1fac",
        "colab": {
          "base_uri": "https://localhost:8080/",
          "height": 54
        }
      },
      "cell_type": "code",
      "source": [
        "def generate_data(n_samples, seq_len, input_dim, xmin=-100, xmax=100):\n",
        "    \"\"\"Générer des tenseurs X et Y dans l'intervalle [xmin, xmax].\n",
        "    \n",
        "    Args : \n",
        "      n_samples: int, nombre de séquences à générer.\n",
        "      seq_len: int, longueur de chaque séquence.\n",
        "      xmin: valeur minimale que peut prendre n'importe quel nombre d'une séquence.\n",
        "      xmax: valeur maximale que peut prendre n'imoprte quel nombre d'une séquence.\n",
        "    \n",
        "    Returns: retourne les séquences de nombres X et les cibles Y en format \n",
        "             torch.Tensor où X.shape = (n_samples, seq_len, 1) et\n",
        "             Y.shape = (n_samples, 1).\n",
        "    \"\"\"\n",
        "    \n",
        "    X = torch.randint(xmin, xmax+1, (n_samples, seq_len, input_dim))\n",
        "\n",
        "    Y = X.sum(dim=1)\n",
        "    return X, Y\n",
        "\n",
        "\n",
        "n_samples = 1000\n",
        "seq_len = 4\n",
        "input_dim = 1\n",
        "X, Y = generate_data(n_samples, seq_len, input_dim, -100, 100)\n",
        "print(\"Dimensions du tenseur X = {}\".format(X.shape))\n",
        "print(\"où n_samples = {}, seq_len = {}, input_dim = {}\".format(*X.shape))"
      ],
      "execution_count": 3,
      "outputs": [
        {
          "output_type": "stream",
          "text": [
            "Dimensions du tenseur X = torch.Size([1000, 4, 1])\n",
            "où n_samples = 1000, seq_len = 4, input_dim = 1\n"
          ],
          "name": "stdout"
        }
      ]
    },
    {
      "metadata": {
        "id": "-uhue_rShPXc",
        "colab_type": "text"
      },
      "cell_type": "markdown",
      "source": [
        "La fonction `generate_data()` retourne deux tenseurs `X` et `Y`, où `X` représente l'ensemble des séquences de nombres et `Y` l'ensemble des cibles (c.à.d. la somme des séquences de `X`). Les dimensions de `X` sont égales à `(n_samples, seq_len, input_size)` où `input_size=1` étant donné que la donnée d'entrée à chaque pas de temps est un nombre réel $\\in \\mathbb R$."
      ]
    },
    {
      "metadata": {
        "id": "s1wHZ_PFhPXf",
        "colab_type": "text"
      },
      "cell_type": "markdown",
      "source": [
        "### Standardisation des données\n",
        "\n",
        "Afin d'aider notre modèle lors de l'entraînement, nous standardisons nos données de sorte qu'elles aient une moyenne de 0 et un écart type de 1. Afin de pouvoir retransformer nos données, nous devons conserver les valeurs de la moyenne et de l'écart type employées. \n",
        "\n",
        "Note: étant donné que nous échantillonnons à partir d'un ensemble uniformément distribué, l'écart type devrait approcher $\\frac{(xmax-xmin)}{\\sqrt{12}}$ et la moyenne $\\frac{(xmax-xmin)}{2}$."
      ]
    },
    {
      "metadata": {
        "id": "UdL_y85mhPXg",
        "colab_type": "code",
        "outputId": "50e3339c-df96-43e1-efac-9348fcbab9b1",
        "colab": {
          "base_uri": "https://localhost:8080/",
          "height": 35
        }
      },
      "cell_type": "code",
      "source": [
        "def standardize(X):\n",
        "    \"\"\"Cette fonction standardise le tenseur X. \n",
        "    Args:\n",
        "      X: torch.Tensor.\n",
        "    \n",
        "    Returns:\n",
        "      X: torch.Tensor standardisé.\n",
        "      Y: torch.Tensor, somme du tenseur X.\n",
        "    \"\"\"\n",
        "    mean = torch.mean(X)\n",
        "    std = torch.std(X)\n",
        "    X = (X-mean) / std\n",
        "    Y = X.sum(dim=1)\n",
        "\n",
        "    return X, Y, mean, std\n",
        "\n",
        "\n",
        "X, Y = generate_data(n_samples, seq_len, input_dim, -100, 100)\n",
        "X, Y, mean, std = standardize(X)\n",
        "print(\"moyenne = {:.4f}, écart-type = {:.4f}\".format(mean, std))"
      ],
      "execution_count": 4,
      "outputs": [
        {
          "output_type": "stream",
          "text": [
            "moyenne = 0.5472, écart-type = 58.2220\n"
          ],
          "name": "stdout"
        }
      ]
    },
    {
      "metadata": {
        "id": "wCm8xalthPXj",
        "colab_type": "text"
      },
      "cell_type": "markdown",
      "source": [
        "## Implémentation d'un RNN\n",
        "\n",
        "Nous allons définir notre RNN en utilisant la classe [torch.nn.RNN()](https://pytorch.org/docs/stable/nn.html?highlight=rnn#rnn). Pour plus de détails sur l'implémentation de cette classe, vous pouvez consulter ce [tutoriel](https://pytorch.org/tutorials/beginner/former_torchies/nn_tutorial.html#example-2-recurrent-net). Une fois initialisée, cette classe accepte comme données d'entrées `X` de dimensions `(seq_len, batch_size, input_size)` (avec `input_size=1` dans notre exemple). Nous devons ajouter une couche linéaire pour transformer la prédiction en sortie du RNN dans la même dimension que notre cible `Y` de dimensions `(batch_size, input_size)` (avec `input_size=1` dans notre exemple). \n",
        "\n",
        "Pour définir l'architecture de notre RNN, nous utiliserons le module [torch.nn.RNN()](https://pytorch.org/docs/stable/nn.html?highlight=rnn#rnn) suivi d'une couche linéaire [torch.nn.Linear()](https://pytorch.org/docs/stable/nn.html#linear). Les méthodes suivantes sont à compléter:\n",
        "<ul>\n",
        "<li>La méthode `__init__()` qui définit les couches du modèle. </li>\n",
        "<li>La méthode `forward()` qui utilise les couches et des variables en entrée pour retourner une sortie (équivalent à une *forward pass*).</li>\n",
        "</ul>\n",
        "**Notes importantes**: \n",
        "\n",
        "* il peut être déroutant d'obtenir le dernier état récurrent de la dernière couche cachée d'un RNN, $h_{T}^{N}$, où $T$ est le dernier pas de temps et $N$ est la dernière couche cachée. Dans le cas d'un RNN, le dernier état récurrent de la dernière couche cachée peut être obtenu en indexant ces deux tenseurs de cette manière: `output[-1, :, :]` ou `hidden_T[-1]`.\n",
        "\n",
        "* Vous devez vous assurer que les dimensions de `X` en entrée soient conséquents avec l'implémentation de [torch.nn.RNN()](https://pytorch.org/docs/stable/nn.html?highlight=rnn#rnn). La fonction [tensor.transpose()](https://pytorch.org/docs/stable/tensors.html?highlight=transpose#torch.Tensor.transpose) peut vous être utile."
      ]
    },
    {
      "metadata": {
        "id": "3QCVSZGzhPXk",
        "colab_type": "code",
        "colab": {
          "base_uri": "https://localhost:8080/",
          "height": 54
        },
        "outputId": "ea47b9d8-45d2-43c7-f68c-0b95b75a0fa5"
      },
      "cell_type": "code",
      "source": [
        "class RNNLinear(nn.Module):\n",
        "\n",
        "    def __init__(self, input_size, output_size, hidden_size, n_layers):\n",
        "        super(RNNLinear, self).__init__()\n",
        "        \n",
        "        self.rnn = nn.RNN(input_size,\n",
        "                          hidden_size,\n",
        "                          n_layers)\n",
        "        \n",
        "        self.linear = nn.Linear(hidden_size, output_size)\n",
        "        \n",
        "    def forward(self, x):\n",
        "        x = x.transpose(0, 1) # l'input d'un RNN doit être de dimensions (seq_len, batch_size, input_size)\n",
        "        output, hidden_T = self.rnn(x)\n",
        "        pred = self.linear(hidden_T[-1])\n",
        "        \n",
        "        return pred\n",
        "    \n",
        "    \n",
        "input_dim = 1\n",
        "output_dim = 1\n",
        "n_layers = 2\n",
        "hidden_size = 20\n",
        "\n",
        "# Déclarer le modèle RNN.\n",
        "model_rnn = RNNLinear(input_dim, output_dim, hidden_size, n_layers).to(device)\n",
        "\n",
        "# Sauvegarder les poids initiaux du modèle.\n",
        "init_rnn_weights = copy.deepcopy(model_rnn.state_dict())\n",
        "\n",
        "# Utiliser le RNN pour faire la prédiction de tous les exemples sans entraînement (c.à.d. sur les n_samples)\n",
        "# Vérifiez que les inputs d'entrée et sorties sont justes\n",
        "X = X.to(device)\n",
        "y_pred = model_rnn(X)\n",
        "print(\"Dimensions initiales des données en entrée: {}\".format(X.shape)) # (seq_len, batch_size, input_size)\n",
        "print(\"Dimensions des prédictions: {}\".format(y_pred.shape)) # (batch_size, input_size)"
      ],
      "execution_count": 5,
      "outputs": [
        {
          "output_type": "stream",
          "text": [
            "Dimensions initiales des données en entrée: torch.Size([1000, 4, 1])\n",
            "Dimensions des prédictions: torch.Size([1000, 1])\n"
          ],
          "name": "stdout"
        }
      ]
    },
    {
      "metadata": {
        "id": "jg8vsRduhPYH",
        "colab_type": "text"
      },
      "cell_type": "markdown",
      "source": [
        "## Implémentation d'un LSTM\n",
        "\n",
        "Nous allons maintenant implémenter un LSTM. Nous utilisons la classe [torch.nn.LSTM()](https://pytorch.org/docs/stable/nn.html?highlight=lstm#torch.nn.LSTM). Comme avec le RNN, nous devons ajouter une couche linéaire pour transformer la prédiction en sortie du LSTM dans la même dimension que notre cible `Y` de dimensions `(batch_size, input_size)` (avec `input_size=1` dans notre exemple). Pour plus de détails sur l'implémentation de cette classe, consultez ce [tutoriel](https://pytorch.org/tutorials/beginner/former_torchies/nn_tutorial.html#example-2-recurrent-net).\n",
        "\n",
        "Pour définir l'architecture de notre LSTM, les méthodes suivantes sont à compléter:\n",
        "<ul>\n",
        "<li>La méthode `__init__()` qui définit les couches du modèle. </li>\n",
        "<li>La méthode `forward()` qui utilise les couches et des variables en entrée pour retourner une sortie (équivalent à une forward pass).</li>\n",
        "</ul>\n",
        "\n",
        "**Notes importantes**: \n",
        "\n",
        "*  il peut être déroutant d'obtenir le dernier état récurrent de la dernière couche cachée d'un LSTM, $h_{T}^{N}$, où $T$ est le dernier pas de temps et $N$ est la dernière couche cachée. Dans le cas d'un LSTM, le dernier état récurrent de la dernière couche cachée peut être obtenu en indexant ces tenseurs de cette manière: `output[-1, :, :]` ou `hidden_T[0][-1]`.\n",
        "\n",
        "* Vous devez vous assurer que les dimensions de `X` en entrée soient conséquents avec l'implémentation de [torch.nn.RNN()](https://pytorch.org/docs/stable/nn.html?highlight=rnn#rnn)."
      ]
    },
    {
      "metadata": {
        "id": "lqMaUDDVhPYH",
        "colab_type": "code",
        "colab": {
          "base_uri": "https://localhost:8080/",
          "height": 54
        },
        "outputId": "2634cd46-dbc9-43f9-b053-92081a26941f"
      },
      "cell_type": "code",
      "source": [
        "class LSTMLinear(nn.Module):\n",
        "    \n",
        "    def __init__(self, input_size, output_size, hidden_size, n_layers):\n",
        "        super(LSTMLinear, self).__init__()\n",
        "        \n",
        "        self.LSTM = nn.LSTM(input_size,\n",
        "                            hidden_size,\n",
        "                            n_layers)\n",
        "        \n",
        "        self.linear = nn.Linear(hidden_size, output_size)\n",
        "        \n",
        "    def forward(self, x):\n",
        "        x = x.transpose(0, 1) # l'input d'un LSTM doit être de dimensions (seq_len, batch_size, input_size)\n",
        "        output, hidden_T = self.LSTM(x)\n",
        "        pred = self.linear(hidden_T[0][-1])\n",
        "        return pred\n",
        "    \n",
        "\n",
        "input_dim = 1\n",
        "output_dim = 1\n",
        "n_layers = 2\n",
        "hidden_size = 20\n",
        "\n",
        "# Déclarer le modèle LSTM.\n",
        "model_lstm = LSTMLinear(input_dim, output_dim, hidden_size, n_layers).to(device)\n",
        "\n",
        "# Sauvegarder les poids initiaux du modèle.\n",
        "init_lstm_weights = copy.deepcopy(model_lstm.state_dict())\n",
        "\n",
        "# Utiliser le LSTM pour faire la prédiction de tous les exemples sans entraînement(c.à.d. sur les n_samples)\n",
        "# Vérifiez que les inputs d'entrée et sorties sont justes\n",
        "\n",
        "X = X.to(device)\n",
        "y_pred = model_lstm(X)\n",
        "print(\"Dimensions initiales des données en entrée: {}\".format(X.shape)) # (seq_len, batch_size, input_size)\n",
        "print(\"Dimensions des prédictions: {}\".format(y_pred.shape)) # (batch_size, input_size)"
      ],
      "execution_count": 6,
      "outputs": [
        {
          "output_type": "stream",
          "text": [
            "Dimensions initiales des données en entrée: torch.Size([1000, 4, 1])\n",
            "Dimensions des prédictions: torch.Size([1000, 1])\n"
          ],
          "name": "stdout"
        }
      ]
    },
    {
      "metadata": {
        "id": "gdha8WWWhPXp",
        "colab_type": "text"
      },
      "cell_type": "markdown",
      "source": [
        "## Préparation des données\n",
        "\n",
        "Nous allons préparer nos objets DataLoader pour gérer efficacement les ensembles de données que nous allons générer. Pour cet exemple, nous utilisons 20,000 séquences où 80% des données sert comme ensemble d'entraînement, 10% comme ensemble de validation et 10% comme ensemble test. Nous pouvons utiliser les fonctions [torch.utils.data.TensorDataset()](https://pytorch.org/docs/stable/data.html) et [torch.utils.data.DataLoader()](https://pytorch.org/docs/stable/data.html) afin de préparer les Dataloader.\n",
        "\n",
        "Utilisez les valeurs suivantes:\n",
        "\n",
        "`seq_len = 18` \n",
        "\n",
        "`batch_size = 64`\n",
        "\n",
        "`n_samples = 25000`"
      ]
    },
    {
      "metadata": {
        "code_folding": [],
        "id": "PzSCKyyMhPXq",
        "colab_type": "code",
        "colab": {}
      },
      "cell_type": "code",
      "source": [
        "from torch.utils.data import DataLoader, TensorDataset\n",
        "\n",
        "n_samples = 25000\n",
        "seq_len = 18\n",
        "batch_size = 64\n",
        "\n",
        "X, Y = generate_data(n_samples, seq_len, input_dim, -100, 100)\n",
        "X, Y, mean, std = standardize(X)\n",
        "\n",
        "xtrain, ytrain = X[:round(0.8*n_samples)], Y[:round(0.8*n_samples)]\n",
        "xvalid, yvalid = X[round(0.8*n_samples):round(0.9*n_samples)], Y[round(0.8*n_samples):round(0.9*n_samples)]\n",
        "xtest, ytest = X[round(0.9*n_samples):], Y[round(0.9*n_samples):]\n",
        "\n",
        "train_loader = DataLoader(TensorDataset(xtrain, ytrain),\n",
        "                          batch_size, shuffle=True)\n",
        "\n",
        "valid_loader = DataLoader(TensorDataset(xvalid, yvalid), \n",
        "                          batch_size, shuffle=False)\n",
        "\n",
        "test_loader = DataLoader(TensorDataset(xtest, ytest),\n",
        "                          batch_size, shuffle=False)"
      ],
      "execution_count": 0,
      "outputs": []
    },
    {
      "metadata": {
        "id": "W8IdyMkZjRs7",
        "colab_type": "text"
      },
      "cell_type": "markdown",
      "source": [
        "## Entraînement du RNN\n",
        "\n",
        "De nombreuses fonctions de coût et optimiseurs sont disponibles dans PyTorch. Dans cet exemple, nous utilisons l'erreur quadratique moyenne (voir [torch.nn.MSELoss()](https://pytorch.org/docs/stable/nn.html))."
      ]
    },
    {
      "metadata": {
        "id": "ow4dIMYT2gek",
        "colab_type": "text"
      },
      "cell_type": "markdown",
      "source": [
        "### Définir la fonction de coût et l'optimiseur\n",
        "\n",
        "Rappelons qu'une fonction de coût $J(\\theta) = L(x, y, \\theta)$ prend en entrée le tuple (prédiction, cible) et calcule une valeur qui estime la distance entre la prédiction et la cible. L'optimiseur que nous utilisons dans cet exemple est celui de la descente de gradient stochastique (*stochastic gradient descent* (SGD)), minimise la fonction de coût $J(\\theta)$ paramétrisée par les poids du modèle $\\theta$ en mettant à jour les poids itérativement suivant la règle de mise à jour suivante: $\\theta \\leftarrow \\theta - \\alpha \\nabla J(\\theta)$, où  $\\alpha$ est le taux d'apprentissage (*learning rate*).\n",
        "\n",
        "Pour un problème de régression comme nous avons dans cet exemple, un choix commun est d'utiliser les fonctions suivantes :\n",
        "<ul>\n",
        "<li>**Fonction de coût :** <a href=\"https://pytorch.org/docs/stable/nn.html\">`torch.nn.MSELoss()`</a>. L'erreur quadratique moyenne permet de calculer la moyenne de l'écart au carré entre la valeur prédite et la valeur désirée. Cette fonction est définie comme:\n",
        "\n",
        "$J(\\cdot) = \\frac{1}{N}\\sum_{i=1}^{N} (\\hat{y}_{i} - y_i)^{2}$.\n",
        "    \n",
        "<li>**Optimiseur :** <a href=\"http://pytorch.org/docs/master/optim.html#torch.optim.SGD\">`torch.optim.SGD()`</a> qui est une implémentation de Stochastic Gradient Descent.</li>\n",
        "</ul>\n",
        "\n",
        "Nous utilisons une valeur de taux d'apprentissage de 0.01."
      ]
    },
    {
      "metadata": {
        "id": "6SidKvG6hPXu",
        "colab_type": "code",
        "colab": {}
      },
      "cell_type": "code",
      "source": [
        "learning_rate = 0.01\n",
        "criterion = nn.MSELoss()\n",
        "optimizer = optim.SGD(model_rnn.parameters(), lr=learning_rate)"
      ],
      "execution_count": 0,
      "outputs": []
    },
    {
      "metadata": {
        "id": "pBrLb8PdhPXw",
        "colab_type": "text"
      },
      "cell_type": "markdown",
      "source": [
        "### Entraînement du modèle\n",
        "\n",
        "Nous utilisons notre objet `train_loader` pour itérer à travers notre ensemble d'entraînement *n_epoch* fois pour faire l'entraînement du modèle. La valeur accumulée de la fonction de coût évaluée sur l'ensemble de validation est sauvegardée à la fin de chaque *epoch* d'entraînement."
      ]
    },
    {
      "metadata": {
        "scrolled": false,
        "id": "e9a-gjjVhPXx",
        "colab_type": "code",
        "outputId": "bb537045-efd0-4691-d7b6-92215fdb190c",
        "colab": {
          "base_uri": "https://localhost:8080/",
          "height": 545
        }
      },
      "cell_type": "code",
      "source": [
        "since = time.time()\n",
        "\n",
        "\n",
        "train_loss_history = []\n",
        "valid_loss_history = []\n",
        "\n",
        "n_epoch = 25\n",
        "\n",
        "model_rnn.load_state_dict(init_rnn_weights)\n",
        "\n",
        "print(\"Start training\")\n",
        "\n",
        "for epoch in range(n_epoch):\n",
        "    \n",
        "    train_loss = 0\n",
        "    train_n_iter = 0\n",
        "    \n",
        "    # Set model to train mode\n",
        "    model_rnn.train()\n",
        "    \n",
        "    # Iterate over train data\n",
        "    for x, y in train_loader:  \n",
        "\n",
        "        \n",
        "        # Put tensors on device\n",
        "        x = x.to(device)\n",
        "        y = y.to(device)\n",
        "\n",
        "        # Zero the gradient buffer\n",
        "        optimizer.zero_grad()\n",
        "        \n",
        "        # Forward\n",
        "        outputs = model_rnn(x)\n",
        "        \n",
        "        # Calculate loss\n",
        "        loss = criterion(outputs, y)\n",
        "        \n",
        "        # Backward\n",
        "        loss.backward()\n",
        "        \n",
        "        # Optimize\n",
        "        optimizer.step()\n",
        "        \n",
        "        # Statistics\n",
        "        train_loss += loss.item()\n",
        "        train_n_iter += 1\n",
        "    \n",
        "    valid_loss = 0\n",
        "    valid_n_iter = 0\n",
        "    \n",
        "    # Set model to evaluate mode\n",
        "    model_rnn.eval()\n",
        "    \n",
        "    # Iterate over valid data\n",
        "    for x, y in valid_loader:  \n",
        "        \n",
        "        # Put tensors on device (GPU if available)\n",
        "        x = x.to(device)\n",
        "        y = y.to(device)\n",
        "        \n",
        "        # Forward\n",
        "        outputs = model_rnn(x)\n",
        "        \n",
        "        loss = criterion(outputs, y)\n",
        "        \n",
        "        # Statistics\n",
        "        valid_loss += loss.item()\n",
        "        valid_n_iter += 1\n",
        "    \n",
        "    train_loss_history.append(train_loss / train_n_iter)\n",
        "    valid_loss_history.append(valid_loss / valid_n_iter)\n",
        "\n",
        "\n",
        "    print(\"Epoch {:2d} | Training loss = {:.5f} | Validation loss = {:.5f} \"\n",
        "          .format(epoch+1, (train_loss / train_n_iter), (valid_loss / valid_n_iter)))\n",
        "\n",
        "time_elapsed = time.time() - since\n",
        "\n",
        "print('\\n\\nTraining complete in {:.0f}m {:.0f}s'.format(\n",
        "    time_elapsed // 60, time_elapsed % 60))"
      ],
      "execution_count": 9,
      "outputs": [
        {
          "output_type": "stream",
          "text": [
            "Start training\n",
            "Epoch  1 | Training loss = 11.11047 | Validation loss = 5.52388 \n",
            "Epoch  2 | Training loss = 6.27999 | Validation loss = 5.93764 \n",
            "Epoch  3 | Training loss = 3.37705 | Validation loss = 7.90536 \n",
            "Epoch  4 | Training loss = 2.67117 | Validation loss = 2.55774 \n",
            "Epoch  5 | Training loss = 1.94269 | Validation loss = 1.29760 \n",
            "Epoch  6 | Training loss = 1.46772 | Validation loss = 1.72093 \n",
            "Epoch  7 | Training loss = 1.27755 | Validation loss = 4.38321 \n",
            "Epoch  8 | Training loss = 1.16234 | Validation loss = 1.05364 \n",
            "Epoch  9 | Training loss = 1.05059 | Validation loss = 1.59076 \n",
            "Epoch 10 | Training loss = 0.87086 | Validation loss = 0.57456 \n",
            "Epoch 11 | Training loss = 0.84811 | Validation loss = 0.74744 \n",
            "Epoch 12 | Training loss = 0.77327 | Validation loss = 0.52031 \n",
            "Epoch 13 | Training loss = 0.76120 | Validation loss = 0.92842 \n",
            "Epoch 14 | Training loss = 0.67386 | Validation loss = 1.56215 \n",
            "Epoch 15 | Training loss = 0.61164 | Validation loss = 0.39689 \n",
            "Epoch 16 | Training loss = 1.08261 | Validation loss = 0.43811 \n",
            "Epoch 17 | Training loss = 0.62589 | Validation loss = 0.45325 \n",
            "Epoch 18 | Training loss = 0.54043 | Validation loss = 0.75088 \n",
            "Epoch 19 | Training loss = 0.47173 | Validation loss = 0.40299 \n",
            "Epoch 20 | Training loss = 1.77702 | Validation loss = 0.99374 \n",
            "Epoch 21 | Training loss = 0.93350 | Validation loss = 0.78914 \n",
            "Epoch 22 | Training loss = 0.63945 | Validation loss = 0.77427 \n",
            "Epoch 23 | Training loss = 0.48923 | Validation loss = 0.31951 \n",
            "Epoch 24 | Training loss = 0.45245 | Validation loss = 0.84783 \n",
            "Epoch 25 | Training loss = 0.44970 | Validation loss = 0.53760 \n",
            "\n",
            "\n",
            "Training complete in 1m 2s\n"
          ],
          "name": "stdout"
        }
      ]
    },
    {
      "metadata": {
        "id": "wr4at5nVhPXz",
        "colab_type": "text"
      },
      "cell_type": "markdown",
      "source": [
        "### Visualisation des courbes d'entraînement\n",
        "\n",
        "Visualisez les courbes d'entraînement avec un graphique mettant en valeur la fonction de cout vs. le nombre d'époque pour l'ensemble d'entraînement et de validation sur un même graphe."
      ]
    },
    {
      "metadata": {
        "id": "bJLu-rC_hPX1",
        "colab_type": "code",
        "outputId": "1d0a653b-415d-4e44-eb6c-ea42426faf0c",
        "colab": {
          "base_uri": "https://localhost:8080/",
          "height": 279
        }
      },
      "cell_type": "code",
      "source": [
        "# Save history for later\n",
        "rnn_train_loss_history = train_loss_history\n",
        "rnn_valid_loss_history = valid_loss_history\n",
        "\n",
        "# Plot training and validation curve\n",
        "xaxis = range(1, n_epoch + 1)\n",
        "plt.plot(xaxis, rnn_train_loss_history, label='train-rnn')\n",
        "plt.plot(xaxis, rnn_valid_loss_history, label='valid-rnn')\n",
        "\n",
        "plt.xlabel('# epochs')\n",
        "plt.ylabel('Loss')\n",
        "plt.legend()\n",
        "\n",
        "plt.show()"
      ],
      "execution_count": 10,
      "outputs": [
        {
          "output_type": "display_data",
          "data": {
            "image/png": "[encoded data removed]",
            "text/plain": [
              "<matplotlib.figure.Figure at 0x7fa25a0c1630>"
            ]
          },
          "metadata": {
            "tags": []
          }
        }
      ]
    },
    {
      "metadata": {
        "id": "Vi7bHNzykdby",
        "colab_type": "text"
      },
      "cell_type": "markdown",
      "source": [
        "## Entraînement LSTM"
      ]
    },
    {
      "metadata": {
        "id": "2RUJdIy72rZu",
        "colab_type": "text"
      },
      "cell_type": "markdown",
      "source": [
        "### Définir la fonction de coût et l'optimiseur\n",
        "\n",
        "Rappelons qu'une fonction de coût $J(\\theta) = L(x, y, \\theta)$ prend en entrée le tuple (prédiction, cible) et calcule une valeur qui estime la distance entre la prédiction et la cible. L'optimiseur que nous utilisons dans cet exemple est celui de la descente de gradient stochastique (*stochastic gradient descent* (SGD)), minimise la fonction de coût $J(\\theta)$ paramétrisée par les poids du modèle $\\theta$ en mettant à jour les poids itérativement suivant la règle de mise à jour suivante: $\\theta \\leftarrow \\theta - \\alpha \\nabla J(\\theta)$, où  $\\alpha$ est le taux d'apprentissage (*learning rate*).\n",
        "\n",
        "Pour un problème de régression comme nous avons dans cet exemple, un choix commun est d'utiliser les fonctions suivantes :\n",
        "<ul>\n",
        "<li>**Fonction de coût :** <a href=\"https://pytorch.org/docs/stable/nn.html\">`torch.nn.MSELoss()`</a>. L'erreur quadratique moyenne permet de calculer la moyenne de l'écart au carré entre la valeur prédite et la valeur désirée. Cette fonction est définie comme:\n",
        "\n",
        "$J(\\cdot) = \\frac{1}{N}\\sum_{i=1}^{N} (\\hat{y}_{i} - y_i)^{2}$.\n",
        "    \n",
        "<li>**Optimiseur :** <a href=\"http://pytorch.org/docs/master/optim.html#torch.optim.SGD\">`torch.optim.SGD()`</a> qui est une implémentation de SGD.</li>\n",
        "</ul>\n",
        "\n",
        "Nous utilisons une valeur de taux d'apprentissage de 0.01."
      ]
    },
    {
      "metadata": {
        "colab_type": "code",
        "id": "pOZIqkBbpmeo",
        "colab": {}
      },
      "cell_type": "code",
      "source": [
        "criterion = nn.MSELoss()\n",
        "optimizer = optim.SGD(model_lstm.parameters(), lr=0.01)"
      ],
      "execution_count": 0,
      "outputs": []
    },
    {
      "metadata": {
        "colab_type": "text",
        "id": "qqnTlRq8pmew"
      },
      "cell_type": "markdown",
      "source": [
        "### Entraînement du model\n",
        "\n",
        "Nous utilisons notre objet `train_loader` pour itérer à travers notre ensemble d'entraînement *n_epoch* fois pour faire l'entraînement du modèle. La valeur accumulée de la fonction de coût évaluée sur l'ensemble de validation est sauvegardée à la fin de chaque *epoch* d'entraînement."
      ]
    },
    {
      "metadata": {
        "id": "odcwM6DyhPYL",
        "colab_type": "code",
        "outputId": "a548e4ab-25b2-4e14-f3c1-74227ae97166",
        "colab": {
          "base_uri": "https://localhost:8080/",
          "height": 545
        }
      },
      "cell_type": "code",
      "source": [
        "since = time.time()\n",
        "\n",
        "\n",
        "train_loss_history = []\n",
        "valid_loss_history = []\n",
        "\n",
        "num_epochs = 25\n",
        "\n",
        "model_lstm.load_state_dict(init_lstm_weights)\n",
        "\n",
        "print(\"# Start training #\")\n",
        "\n",
        "for epoch in range(num_epochs):\n",
        "    \n",
        "    train_loss = 0\n",
        "    train_n_iter = 0\n",
        "    \n",
        "    # Set model to train mode\n",
        "    model_lstm.train()\n",
        "    \n",
        "    # Iterate over train data\n",
        "    for x, y in train_loader:  \n",
        "\n",
        "        \n",
        "        # Put tensors on device (GPU if available)\n",
        "        x = x.to(device)\n",
        "        y = y.to(device)\n",
        "\n",
        "        # Zero the gradient buffer\n",
        "        optimizer.zero_grad()\n",
        "        \n",
        "        # Forward\n",
        "        outputs = model_lstm(x)\n",
        "        \n",
        "        # Calculate loss\n",
        "        loss = criterion(outputs, y)\n",
        "        \n",
        "        # Backward\n",
        "        loss.backward()\n",
        "        \n",
        "        # Optimize\n",
        "        optimizer.step()\n",
        "        \n",
        "        # Statistics\n",
        "        train_loss += loss.item()\n",
        "        train_n_iter += 1\n",
        "    \n",
        "    valid_loss = 0\n",
        "    valid_n_iter = 0\n",
        "    \n",
        "    # Set model to evaluate mode\n",
        "    model_lstm.eval()\n",
        "    \n",
        "    # Iterate over valid data\n",
        "    for x, y in valid_loader:  \n",
        "        \n",
        "        # Put tensors on device (GPU if available)\n",
        "        x = x.to(device)\n",
        "        y = y.to(device)\n",
        "        \n",
        "        # Forward\n",
        "        outputs = model_lstm(x)\n",
        "        \n",
        "        loss = criterion(outputs, y)\n",
        "        \n",
        "        # Statistics\n",
        "        valid_loss += loss.item()\n",
        "        valid_n_iter += 1\n",
        "    \n",
        "    train_loss_history.append(train_loss / train_n_iter)\n",
        "    valid_loss_history.append(valid_loss / valid_n_iter)\n",
        "    \n",
        "    print(\"Epoch {:2d} | Training loss = {:.5f} | Validation loss = {:.5f} \"\n",
        "          .format(epoch+1, (train_loss / train_n_iter), (valid_loss / valid_n_iter)))\n",
        "\n",
        "time_elapsed = time.time() - since\n",
        "\n",
        "print('\\n\\nTraining complete in {:.0f}m {:.0f}s'.format(\n",
        "    time_elapsed // 60, time_elapsed % 60))"
      ],
      "execution_count": 12,
      "outputs": [
        {
          "output_type": "stream",
          "text": [
            "# Start training #\n",
            "Epoch  1 | Training loss = 13.36112 | Validation loss = 16.38077 \n",
            "Epoch  2 | Training loss = 2.51643 | Validation loss = 1.61425 \n",
            "Epoch  3 | Training loss = 1.15062 | Validation loss = 1.17043 \n",
            "Epoch  4 | Training loss = 0.71389 | Validation loss = 0.85949 \n",
            "Epoch  5 | Training loss = 0.53170 | Validation loss = 0.57911 \n",
            "Epoch  6 | Training loss = 0.43804 | Validation loss = 0.40268 \n",
            "Epoch  7 | Training loss = 0.40641 | Validation loss = 0.22483 \n",
            "Epoch  8 | Training loss = 0.29022 | Validation loss = 0.17364 \n",
            "Epoch  9 | Training loss = 0.23397 | Validation loss = 0.23413 \n",
            "Epoch 10 | Training loss = 0.22883 | Validation loss = 0.19093 \n",
            "Epoch 11 | Training loss = 0.20190 | Validation loss = 0.09768 \n",
            "Epoch 12 | Training loss = 0.17484 | Validation loss = 0.43380 \n",
            "Epoch 13 | Training loss = 0.14723 | Validation loss = 0.10722 \n",
            "Epoch 14 | Training loss = 0.13435 | Validation loss = 0.11073 \n",
            "Epoch 15 | Training loss = 0.12188 | Validation loss = 0.13051 \n",
            "Epoch 16 | Training loss = 0.09973 | Validation loss = 0.15811 \n",
            "Epoch 17 | Training loss = 0.10008 | Validation loss = 0.03891 \n",
            "Epoch 18 | Training loss = 0.08400 | Validation loss = 0.12234 \n",
            "Epoch 19 | Training loss = 0.08842 | Validation loss = 0.02945 \n",
            "Epoch 20 | Training loss = 0.08158 | Validation loss = 0.13784 \n",
            "Epoch 21 | Training loss = 0.08027 | Validation loss = 0.08886 \n",
            "Epoch 22 | Training loss = 0.05936 | Validation loss = 0.13303 \n",
            "Epoch 23 | Training loss = 0.07418 | Validation loss = 0.03025 \n",
            "Epoch 24 | Training loss = 0.06826 | Validation loss = 0.02276 \n",
            "Epoch 25 | Training loss = 0.05552 | Validation loss = 0.02136 \n",
            "\n",
            "\n",
            "Training complete in 1m 3s\n"
          ],
          "name": "stdout"
        }
      ]
    },
    {
      "metadata": {
        "colab_type": "text",
        "id": "aMEzsqBaqGmh"
      },
      "cell_type": "markdown",
      "source": [
        "### Visualisation des courbes d'entraînement\n",
        "\n",
        "Visualisez les courbes d'entraînement avec un graphique mettant en valeur la fonction de coût vs. le nombre d'époques pour l'ensemble d'entraînement et de validation sur un même graphe."
      ]
    },
    {
      "metadata": {
        "id": "4Rw1tIfMhPYN",
        "colab_type": "code",
        "outputId": "975035ea-6c59-40e7-d87d-fd4164d71211",
        "colab": {
          "base_uri": "https://localhost:8080/",
          "height": 279
        }
      },
      "cell_type": "code",
      "source": [
        "# Save history for later\n",
        "lstm_train_loss_history = train_loss_history\n",
        "lstm_valid_loss_history = valid_loss_history\n",
        "\n",
        "# Plot training and validation curve\n",
        "xaxis = range(1, num_epochs + 1)\n",
        "plt.plot(xaxis, lstm_train_loss_history, label='train-lstm')\n",
        "plt.plot(xaxis, lstm_valid_loss_history, label='valid-lstm')\n",
        "\n",
        "plt.xlabel('# epochs')\n",
        "plt.ylabel('Loss')\n",
        "plt.legend()\n",
        "\n",
        "plt.show()"
      ],
      "execution_count": 13,
      "outputs": [
        {
          "output_type": "display_data",
          "data": {
            "image/png": "[encoded data removed]",
            "text/plain": [
              "<matplotlib.figure.Figure at 0x7fa25a0c1978>"
            ]
          },
          "metadata": {
            "tags": []
          }
        }
      ]
    },
    {
      "metadata": {
        "colab_type": "text",
        "id": "7PCowiQxpcHv"
      },
      "cell_type": "markdown",
      "source": [
        "## Analyse des résultats\n",
        "\n",
        "Analysons l'erreur générée par notre modèle sur notre ensemble test.  Nous allons comparer l'erreur quadratique moyenne sur l'ensemble test pour le modèle RNN et LSTM."
      ]
    },
    {
      "metadata": {
        "id": "KaoQgOOZKL98",
        "colab_type": "text"
      },
      "cell_type": "markdown",
      "source": [
        "### Comparaisons des courbes d'entraînenement\n",
        "\n",
        "Nous allons comparer sur un même graphique l'erreur en fonction du nombre d'epochs lors de notre entraînement sur nos ensembles d'entraînement et de validation."
      ]
    },
    {
      "metadata": {
        "id": "yl8hcNhnKKOS",
        "colab_type": "code",
        "colab": {
          "base_uri": "https://localhost:8080/",
          "height": 284
        },
        "outputId": "8b1ae5b0-4138-4c63-f8b9-d117070e5842"
      },
      "cell_type": "code",
      "source": [
        "# Plot training and validation curve\n",
        "xaxis = range(1, num_epochs + 1)\n",
        "\n",
        "plt.plot(xaxis, rnn_train_loss_history, label='train-rnn')\n",
        "plt.plot(xaxis, rnn_valid_loss_history, label='valid-rnn')\n",
        "\n",
        "plt.plot(xaxis, lstm_train_loss_history, label='train-lstm', linestyle='--')\n",
        "plt.plot(xaxis, lstm_valid_loss_history, label='valid-lstm', linestyle='--')\n",
        "\n",
        "plt.xlabel('# epochs')\n",
        "plt.ylabel('Loss')\n",
        "plt.legend()\n",
        "plt.ylim([0,2])\n",
        "plt.show()"
      ],
      "execution_count": 14,
      "outputs": [
        {
          "output_type": "display_data",
          "data": {
            "image/png": "[encoded data removed]",
            "text/plain": [
              "<matplotlib.figure.Figure at 0x7fa28f3d4ef0>"
            ]
          },
          "metadata": {
            "tags": []
          }
        }
      ]
    },
    {
      "metadata": {
        "id": "BhGBAmabKr8A",
        "colab_type": "text"
      },
      "cell_type": "markdown",
      "source": [
        "Remarquez qu'il y a une différence entre les résultats des RNN et des LSTM.\n",
        "\n",
        "**Questions**\n",
        "\n",
        "*   Quel réseau fonctionne mieux sur notre ensemble validation? Pourquoi?\n",
        "*   Quelle est la différence majeure entre les deux réseaux?\n",
        "*   Qu'est-ce qui fait qu'une courbe d'entraînement est plus ou moins lisse qu'une autre?\n",
        "\n"
      ]
    },
    {
      "metadata": {
        "id": "SeWGSfEOLdsM",
        "colab_type": "text"
      },
      "cell_type": "markdown",
      "source": [
        "### Calcul de l'erreur sur l'ensemble test\n",
        "\n",
        "Calculez l'erreur quadratique moyenne sur l'ensemble test pour les RNN et les LSTM et imprimez les deux valeurs."
      ]
    },
    {
      "metadata": {
        "id": "72z2Xob3MRYB",
        "colab_type": "code",
        "colab": {
          "base_uri": "https://localhost:8080/",
          "height": 54
        },
        "outputId": "4559f61c-4cfb-441c-e8ed-58388f1f3891"
      },
      "cell_type": "code",
      "source": [
        "# Put data on gpu\n",
        "xtest = xtest.to(device)\n",
        "ytest = ytest.to(device)\n",
        "\n",
        "ypred_rnn = model_rnn(xtest)\n",
        "ypred_lstm = model_lstm(xtest)\n",
        "\n",
        "loss_test_rnn = criterion(ypred_rnn, ytest)\n",
        "loss_test_lstm = criterion(ypred_lstm, ytest)\n",
        "\n",
        "\n",
        "print(\"L'erreur quadratique moyenne des RNN sur l'ensemble test (standardisé) est de %2.3f\" % float(loss_test_rnn))\n",
        "print(\"L'erreur quadratique moyenne des LSTM sur l'ensemble test (standardisé) est de %2.3f\" % float(loss_test_lstm))"
      ],
      "execution_count": 15,
      "outputs": [
        {
          "output_type": "stream",
          "text": [
            "L'erreur quadratique moyenne des RNN sur l'ensemble test (standardisé) est de 0.577\n",
            "L'erreur quadratique moyenne des LSTM sur l'ensemble test (standardisé) est de 0.022\n"
          ],
          "name": "stdout"
        }
      ]
    },
    {
      "metadata": {
        "id": "AmJDgK04NDVQ",
        "colab_type": "text"
      },
      "cell_type": "markdown",
      "source": [
        "\n",
        "**Questions**\n",
        "\n",
        "*   Est-ce que les résultats sur l'ensemble test sont comparables à ceux sur l'ensemble validation?\n"
      ]
    },
    {
      "metadata": {
        "colab_type": "text",
        "id": "hPZH71eCpcH0"
      },
      "cell_type": "markdown",
      "source": [
        "### Vérification visuelle des résultats\n",
        "\n",
        "Nous définissons une fonction `print_sequence()` qui aidera à visualiser les prédictions faites par nos modèles. Cette fonction prend en entrée les tenseurs X et Y pour échantillonner et imprimer un exemple de séquence ainsi que la différence absolue entre une valeur de Y et la valeur réelle de la somme de X.\n",
        "\n",
        "Afin de reconstruire nos exemples, il faut réutiliser `mean` + `std` tel que $xtest\\_unstd = xtest*std + mean$ et $ytest\\_unstd = ytest*std+seq\\_len*mean$\n"
      ]
    },
    {
      "metadata": {
        "colab_type": "code",
        "id": "QfCvsGXNpcH2",
        "colab": {}
      },
      "cell_type": "code",
      "source": [
        "def print_sequence(X, Y, idx=0):\n",
        "    \"\"\"Imprimer et vérifier les séquences d'opérations.\n",
        "    Args:\n",
        "      X: torch.Tensor.\n",
        "      Y: torch.Tensor.\n",
        "      idx: indice de la séquence à vérifier.\n",
        "    \"\"\"\n",
        "    x = X[idx].numpy()\n",
        "    y = Y[idx].numpy()\n",
        "    for i, xi in enumerate(x):\n",
        "        if i==0:\n",
        "            string = str(xi[0]) \n",
        "        else:\n",
        "            string += \" + \" + str(xi[0])\n",
        "    string1 = string + \" = \" + str(y[0])\n",
        "    string2 = string + \" = \" + str(np.sum(x))\n",
        "    print(\"Prédiction: \", string1)\n",
        "    print(\"Valeur réelle: \", string2)\n",
        "    ecart = abs(np.sum(x)-y[0])\n",
        "    print(\"Écart absolu entre X[{a}] et Y[{a}]: {b}\".format(a=idx, b=ecart))"
      ],
      "execution_count": 0,
      "outputs": []
    },
    {
      "metadata": {
        "colab_type": "code",
        "outputId": "e680663c-e426-4018-e831-ee3a7faa674f",
        "id": "_aDw139hpcH_",
        "colab": {
          "base_uri": "https://localhost:8080/",
          "height": 235
        }
      },
      "cell_type": "code",
      "source": [
        "xtest = xtest.cpu()\n",
        "ypred_rnn = ypred_rnn.cpu()\n",
        "\n",
        "xtest_unstd = xtest*std + mean\n",
        "ypred_unstd = ypred_rnn*std + seq_len*mean\n",
        "\n",
        "idx = np.random.randint(len(ytest))\n",
        "\n",
        "\n",
        "print(\"\")\n",
        "print(\"Exemple RNN:\")\n",
        "print(\"\")\n",
        "\n",
        "print_sequence(xtest_unstd.detach(), ypred_unstd.detach(), idx=idx)\n",
        "\n",
        "\n",
        "\n",
        "xtest = xtest.cpu()\n",
        "ypred_lstm = ypred_lstm.cpu()\n",
        "\n",
        "xtest_unstd = xtest*std + mean\n",
        "ypred_unstd = ypred_lstm*std + seq_len*mean\n",
        "\n",
        "print(\"\")\n",
        "print(\"Exemple LSTM:\")\n",
        "print(\"\")\n",
        "\n",
        "print_sequence(xtest_unstd.detach(), ypred_unstd.detach(), idx=idx)"
      ],
      "execution_count": 17,
      "outputs": [
        {
          "output_type": "stream",
          "text": [
            "\n",
            "Exemple RNN:\n",
            "\n",
            "Prédiction:  -70.0 + 100.0 + -8.0 + 6.0 + -84.0 + -95.0 + -14.0 + -42.0 + 10.0 + 68.0 + -0.99999994 + 76.0 + -9.0 + -92.0 + 23.0 + -44.0 + -88.0 + -27.0 = -306.0866\n",
            "Valeur réelle:  -70.0 + 100.0 + -8.0 + 6.0 + -84.0 + -95.0 + -14.0 + -42.0 + 10.0 + 68.0 + -0.99999994 + 76.0 + -9.0 + -92.0 + 23.0 + -44.0 + -88.0 + -27.0 = -291.0\n",
            "Écart absolu entre X[1261] et Y[1261]: 15.08660888671875\n",
            "\n",
            "Exemple LSTM:\n",
            "\n",
            "Prédiction:  -70.0 + 100.0 + -8.0 + 6.0 + -84.0 + -95.0 + -14.0 + -42.0 + 10.0 + 68.0 + -0.99999994 + 76.0 + -9.0 + -92.0 + 23.0 + -44.0 + -88.0 + -27.0 = -291.0295\n",
            "Valeur réelle:  -70.0 + 100.0 + -8.0 + 6.0 + -84.0 + -95.0 + -14.0 + -42.0 + 10.0 + 68.0 + -0.99999994 + 76.0 + -9.0 + -92.0 + 23.0 + -44.0 + -88.0 + -27.0 = -291.0\n",
            "Écart absolu entre X[1261] et Y[1261]: 0.029510498046875\n"
          ],
          "name": "stdout"
        }
      ]
    },
    {
      "metadata": {
        "id": "tAM5UeILQb5l",
        "colab_type": "text"
      },
      "cell_type": "markdown",
      "source": [
        "** Questions bonus**\n",
        "\n",
        "* Que pouvez-vous suggérer comme techniques et modifications pour améliorer la performance des LSTM?\n",
        "* Répétez l'exercice pour différentes opérations mathématiques (+, -, x, /, ...)\n",
        "* Faites un graphique comparant la performance des RNN et LSTM en fonction de `seq_len`"
      ]
    },
    {
      "metadata": {
        "id": "Y1jHLBHErzbW",
        "colab_type": "text"
      },
      "cell_type": "markdown",
      "source": [
        "---\n",
        "# Tâche 2: Modèle de langue neuronal\n"
      ]
    },
    {
      "metadata": {
        "id": "h7kMH3bm1ZDz",
        "colab_type": "text"
      },
      "cell_type": "markdown",
      "source": [
        "## Objectif\n",
        "L'objectif de cette tâche est d'utiliser un petit ensemble des oeuvres de l'écrivain et philosophe [Voltaire](https://fr.wikipedia.org/wiki/Voltaire) dans le but d'essayer de recréer des textes s'inspirant de son style à l'aide des réseaux de neurones récurrents. \n",
        "\n",
        "Le modèle employé est un peu plus complexe que celui de la tâche précédente. Nous avons fait le prétraitement d'un corpus et dans cette exercice nous allons faire le traitement des données pour qu'elles soient utilisables dans un modèle de langue neuronal à base de LSTM. Nous vous invitons donc à lire les sections suivantes pour vous aider à comprendre la logique du code, toutefois il n'y a pas de code à remplir dans cet exercice. Il s'agit plutôt d'un exemple concret d'un modèle génératif qui démontre la capacité des réseaux de neurones récurrents avec une tâche divertissante.\n",
        "\n",
        "Vous pouvez vous servir de ce code pour entraîner un modèle de langue sur les différents corpus de vos artistes ou auteurs préférés. L'important, c'est de comprendre les concepts de base fondamentaux du traitement de texte, de la modélisation et de l'entraînement d'un LSTM. Bonne lecture!"
      ]
    },
    {
      "metadata": {
        "id": "-TECjbTm3L20",
        "colab_type": "text"
      },
      "cell_type": "markdown",
      "source": [
        "## Encore un peu de contexte théorique (car vous aimez vraiment ça)\n",
        "\n",
        "Une séquence de mots $\\mathbf{s}$ peut être représentée comme une séquence de $N$ symboles discrets (ou unités lexicales) tel que $\\mathbf{s} = (w_{1}, \\dots, w_{N})$, où $w_{t}$ est un mot ou un symbole de ponctuation. Chacun de ces symboles est aussi représenté par un nombre entier équivalent à l'indice de sa position dans le vocabulaire $V$ contenant les symboles d'un langage. L'objectif d'un modèle de langue est d'estimer la probabilité conjointe d'une séquence $p(\\mathbf{s}) = p(w_{1}, \\dots, w_{N})$, que nous pouvons décomposer en un produit de probabilités conditionnelles, telle que:\n",
        "\n",
        "\\begin{equation}\n",
        "  p(\\mathbf{s}) = \\prod^{N}_{t=1} p(w_{t} | w_{1}, \\dots, w_{t-1}).\n",
        "\\end{equation}\n",
        "\n",
        "De tels modèles de langue sont utilisés dans de nombreuses applications, telles que la traduction automatique, la reconnaissance de la parole et la recherche d'information. En réalité, cette distribution n'est pas définie et il n'est pas trivial de l'estimer. Une manière de réduire considérablement la difficulté de ce problème de modélisation consiste à assumer que les mots les plus près dans une séquence sont statistiquement plus dépendants que les mots plus éloignés. C'est en appliquant la propriété de Markov d'ordre $n-1$ qu'un modèle de langue statistique de type $n$-gramme nous permet d'approximer la distribution conditionnelle d'un symbole étant donné les $n-1$ symboles précédents, de sorte que:\n",
        "\n",
        "\\begin{equation}\n",
        "  p(w_{t} | w_{1}, \\dots, w_{t-1}) \\approx p(w_{t} | w_{t-n+1}, \\dots, w_{t-1}).\n",
        "\\end{equation}\n",
        "\n",
        "Pour entraîner un modèle de langue, nous sommes obligés d'utiliser un corpus où la grande majorité des séquences de mots plausibles dans une langue n'apparaissent pas. Autrement dit, nous devons estimer une distribution sur un ensemble infiniment petit par rapport à l'espace de toutes les séquences de mots d'un langage. Cela fait en sorte que les modèles de langue statistiques ne généralisent pas nécessairement de manière efficace. D'un autre côté, plus un modèle de langue statistique est entraîné sur un grand corpus, plus la taille du vocabulaire augmente. En revanche, le nombre de séquences de symboles possibles augmente exponentiellement plus la taille du vocabulaire est grande, causant le problème de malédiction de la dimension (*curse of dimensionality*) dû à la rareté d'observation des séquences.\n",
        "\n",
        "Pour alléger ces deux problèmes fondamentaux, [l'article de Bengio et al. (2003)](http://www.jmlr.org/papers/volume3/bengio03a/bengio03a.pdf) propose un modèle de langue neuronal qui utilise un réseau de neurones comme approximateur de la probabilité conditionnelle $p(w_{t} | w_{t-n+1}, \\dots, w_{t-1})$, où chaque symbole du vocabulaire est représenté par un vecteur de nombres réels continus. Comme les données en entrée d'un réseau de neurones doivent être sous format matriciel, chaque symbol $w_{t}$ se trouvant dans le vocabulaire est représenté par un vecteur *one-hot* $\\mathbf{x}_{i}$ dans lequel toutes les valeurs sont égales à 0, sauf pour la valeur à l'indice $i$ (l'indice du symbole $w_{t}$ dans le vocabulaire $V$) qui est égale à 1. Ces vecteurs *one-hot* sont multipliés par une matrice de poids, $\\mathbf{E} \\in \\mathbb R^{|V| \\times d_{e}}$, qui fait partie des paramètres à apprendre, appelée matrice d'*embeddings*, afin d'obtenir des représentations vectorielles continues, $\\mathbf{w}_{t} \\in \\mathbb R^{d_{e}}$, qui servent d'entrées à un réseau de neurones.\n",
        "\n",
        "Une séquence de mots peut alors être représentée par une séquence de $N$ vecteurs $\\mathbf{s} = (\\mathbf{w}_{1}, \\dots, \\mathbf{w}_{N})$. Nous pouvons voir chaque ligne $i$ de la matrice $\\mathbf{E}$ comme la représentation dans un espace vectoriel de dimension $d_{e}$ correspondant au $i$-ième symbole du vocabulaire $V$. Ces représentations sont souvent appelées *word embeddings*. Lorsqu'elles sont apprises sur un corpus assez grand, elles arrivent à représenter la similarité sémantique basée sur la propriété distributionnelle entre les différents symboles du vocabulaire.\n",
        "\n",
        "L'architecture du modèle de langue neuronal que nous allons utiliser est un LSTM qui définit une séquence de mots en une distribution de probabilité conditionnelle. Pour l'entraînement des paramètres, nous devons déterminer le nombre des $n-1$ mots précédents (`seq_len` dans code) à utiliser pour estimer $p(w_{t} | w_{t-n+1}, \\dots, w_{t-1})$. Les entrées du LSTM à chaque pas de temps $t$ est le *word embedding* correspondant au $t$-ième mot de la sèquence ainsi que l'état récurrent et l'état mémoire au pas de temps précédent, qui sont respectivement $\\mathbf{h}_{t-1}$ et $\\mathbf{c}_{t-1}$. Il est important de préciser que nous utilisons un modèle autorégressif où le mot en entrée au pas de temps $t$ est le mot utilisé en sortie pour le pas de temps $t-1$ du LSTM. Cela nous permet de générer des séquences une fois que le modèle est entraîné. Ce type de modèle est couramment appelé *LSTM-based neural language model* et son architecture est présentée à la figure ci-dessous (avec des caractères comme unité lexicale au lieu des mots).\n",
        "\n",
        "![alt-text](https://github.com/mila-iqia/ecole_dl_mila_ivado/blob/master/tutoriaux/RNN/images/lm2.png?raw=true)\n",
        "\n",
        "Pour calculer la distribution de probabilité de sortie, nous utilisons la fonction *softmax* qui retourne un vecteur de dimension $|V|$ (la taille du vocabulaire) en garantissant des probabilités de sorties positives sommant à 1."
      ]
    },
    {
      "metadata": {
        "id": "u1Sh2OG46_Ln",
        "colab_type": "text"
      },
      "cell_type": "markdown",
      "source": [
        "## Fonctions utilitaires de traitement de texte et structuration des données"
      ]
    },
    {
      "metadata": {
        "id": "sf7luc-Di7qO",
        "colab_type": "text"
      },
      "cell_type": "markdown",
      "source": [
        "Pour faire l'apprentissage de notre modèle de langue neuronal nous allons utiliser un corpus qui est un regroupement de quatre oeuvres littéraires du grand écrivain et philosophe Voltaire que nous avons nettoyé, tokenisé et standardisé pour vous (fichier `voltaire.txt`).\n",
        "\n",
        "En pratique, pour obtenir des résultats intéressants nous devons entraîner un modèle de langue sur une très grande quantité de texte. Pour des raisons pratico-pratiques, dans ce tutoriel nous utilisons un corpus de petite taille composé de 12,363 phrases, 182,163 tokens et un vocabulaire de 15,558 tokens. Un token est une unité lexicale séparée par un *whitespace* de chaque côté dans le texte. Dans notre cas, un token est un mot, un nombre ou un symbole de ponctuation. Le vocabulaire est l'ensemble des différents tokens d'un corpus (souvent trié en fonction du nombre d'occurences des tokens). Bien que notre ensemble d'entraînement est petit, le code suivant est facilement réutilisable avec n'importe quel autre corpus de votre choix."
      ]
    },
    {
      "metadata": {
        "id": "yo7yRlDyK7DA",
        "colab_type": "code",
        "colab": {
          "base_uri": "https://localhost:8080/",
          "height": 108
        },
        "outputId": "f3ddb94a-dd8c-4df8-8c10-5d704db2f536"
      },
      "cell_type": "code",
      "source": [
        "# Cloner git repos pour accéder aux corpus voltaire.txt.\n",
        "!git clone https://github.com/mila-iqia/ecole_dl_mila_ivado.git"
      ],
      "execution_count": 18,
      "outputs": [
        {
          "output_type": "stream",
          "text": [
            "Cloning into 'ecole_dl_mila_ivado'...\n",
            "remote: Enumerating objects: 214, done.\u001b[K\n",
            "remote: Total 214 (delta 0), reused 0 (delta 0), pack-reused 214\u001b[K\n",
            "Receiving objects: 100% (214/214), 3.78 MiB | 2.95 MiB/s, done.\n",
            "Resolving deltas: 100% (73/73), done.\n"
          ],
          "name": "stdout"
        }
      ]
    },
    {
      "metadata": {
        "id": "0pjv24-kr528",
        "colab_type": "code",
        "colab": {}
      },
      "cell_type": "code",
      "source": [
        "START_VOCAB = [\"_UNK\"]\n",
        "UNK_ID = 0\n",
        "DEVICE = torch.device(\"cuda:0\" if torch.cuda.is_available() else \"cpu\")"
      ],
      "execution_count": 0,
      "outputs": []
    },
    {
      "metadata": {
        "id": "_sdH5sXVsDgU",
        "colab_type": "code",
        "colab": {}
      },
      "cell_type": "code",
      "source": [
        "def create_vocabulary(corpus_path, vocab_path, max_vocab_size=1e5):\n",
        "    \"\"\"Créer et sauvegarder le vocabulaire d'un corpus.\"\"\"\n",
        "    vocab = {}\n",
        "    with open(corpus_path, \"r\", encoding=\"utf-8\") as f:\n",
        "        for line in f:\n",
        "            tokens = line.strip().split()\n",
        "            for token in tokens:\n",
        "                if token in vocab:\n",
        "                    vocab[token] += 1\n",
        "                else:\n",
        "                    vocab[token] = 1\n",
        "    vocab_list = START_VOCAB + sorted(vocab, key=vocab.get, reverse=True)\n",
        "    if len(vocab_list) > max_vocab_size:\n",
        "        vocab_list = vocab_list[:max_vocab_size]\n",
        "    with open(vocab_path, \"w\", encoding=\"utf-8\") as f:\n",
        "        for token in vocab_list:\n",
        "              f.write(token + \"\\n\")\n",
        "\n",
        "\n",
        "def initialize_vocabulary(vocab_path):\n",
        "    \"\"\"Initialiser le vocabulaire.\"\"\"\n",
        "    if os.path.exists(vocab_path):\n",
        "        with open(vocab_path, \"r\", encoding=\"utf-8\") as f:\n",
        "            rev_vocab = [line.strip() for line in f.readlines()]\n",
        "        vocab = dict([(w, i) for (i, w) in enumerate(rev_vocab)])\n",
        "        return vocab, rev_vocab\n",
        "    else:\n",
        "        raise ValueError(\"Vocabulary file {} not found.\".format(vocab_path))\n",
        "\n",
        "\n",
        "def read_corpus(corpus_path):\n",
        "    \"\"\"Lire et convertir un corpus en une liste de tokens.\"\"\"\n",
        "    with open(corpus_path, \"r\", encoding=\"utf-8\") as f:\n",
        "        corpus = f.read().split()\n",
        "    return corpus\n",
        "\n",
        "\n",
        "def corpus_to_token_ids(corpus, vocab):\n",
        "    \"\"\"Convertir un corpus en token-ids.\"\"\"\n",
        "    token_ids = [vocab.get(token, UNK_ID) for token in corpus]\n",
        "    return token_ids\n",
        "\n",
        "\n",
        "def batch_data(data, batch_size):\n",
        "    \"\"\"Structurer les données en batch_size séquences continues.\"\"\"\n",
        "    n_batch = len(data) // batch_size\n",
        "    data = np.array(data[:n_batch*batch_size])\n",
        "    data = data.reshape(batch_size, -1).T\n",
        "    return data\n",
        "\n",
        "\n",
        "def detach_hidden(hidden):\n",
        "    \"\"\"Transformer les données des états cachés d'un LSTM en\n",
        "       nouveaux Tensor avec require_grad=False.\"\"\"\n",
        "    return tuple(h.detach() for h in hidden)"
      ],
      "execution_count": 0,
      "outputs": []
    },
    {
      "metadata": {
        "id": "o0mwd1xGsFM2",
        "colab_type": "code",
        "colab": {
          "base_uri": "https://localhost:8080/",
          "height": 708
        },
        "outputId": "7698c0c9-671a-43c8-d768-8a220346c611"
      },
      "cell_type": "code",
      "source": [
        "# Créer et initialiser le vocabulaire.\n",
        "corpus_path = \"./ecole_dl_mila_ivado/tutoriaux/RNN/data/voltaire.txt\"\n",
        "vocab_path = \"vocab.txt\"\n",
        "\n",
        "create_vocabulary(corpus_path, vocab_path)\n",
        "vocab, rev_vocab = initialize_vocabulary(vocab_path)\n",
        "\n",
        "# Lire le corpus d'entraînement.\n",
        "corpus = read_corpus(corpus_path)\n",
        "token_ids = corpus_to_token_ids(corpus, vocab)\n",
        "\n",
        "# Structurer le corpus en batch_size séquences continues pour faire l'entraînement.\n",
        "batch_size = 10\n",
        "data = batch_data(token_ids, batch_size)\n",
        "data = torch.LongTensor(data).to(DEVICE)\n",
        "\n",
        "print(\"Nombre de tokens dans le corpus: {}\"\n",
        "      .format(len(corpus)), end=\"\\n\\n\")\n",
        "print(\"Taille du vocabulaire: {}\"\n",
        "      .format(len(vocab)), end=\"\\n\\n\")\n",
        "print(\"Liste des 20 tokens les plus fréquents dans le corpus: \\n{}\"\n",
        "      .format(rev_vocab[1:21]), end=\"\\n\\n\")\n",
        "print(\"Première phrase du corpus en format texte:\\n{}\"\n",
        "      .format(\" \".join(corpus[:31])), end=\"\\n\\n\")\n",
        "print(\"Première phrase du corpus transformée en token-ids:\\n{}\"\n",
        "      .format(token_ids[:31]), end=\"\\n\\n\")\n",
        "print(\"Test de conversion token-ids vers texte en utilisant rev_vocab:\\n{}\"\n",
        "      .format(\" \".join([rev_vocab[i] for i in token_ids[:31]])), end=\"\\n\\n\")\n",
        "print(\"Structure des données d'entraînement (observez que la première phrase \"\n",
        "      \"est dans la première colonne):\\n{}\".format(data[:20]))"
      ],
      "execution_count": 21,
      "outputs": [
        {
          "output_type": "stream",
          "text": [
            "Nombre de tokens dans le corpus: 182163\n",
            "\n",
            "Taille du vocabulaire: 15558\n",
            "\n",
            "Liste des 20 tokens les plus fréquents dans le corpus: \n",
            "[',', 'de', '.', 'et', 'la', 'le', 'les', ';', \"l'\", 'il', 'à', 'un', 'que', 'en', \"d'\", 'des', 'qui', 'est', \"qu'\", 'dans']\n",
            "\n",
            "Première phrase du corpus en format texte:\n",
            "il y avait en Westphalie , dans le château de M. le baron de Thunder-ten-tronckh , un jeune garçon à qui la nature avait donné les moeurs les plus douces .\n",
            "\n",
            "Première phrase du corpus transformée en token-ids:\n",
            "[10, 52, 65, 14, 1452, 1, 20, 6, 401, 2, 188, 6, 331, 2, 1453, 1, 12, 263, 2650, 11, 17, 5, 180, 65, 559, 7, 953, 7, 31, 2266, 3]\n",
            "\n",
            "Test de conversion token-ids vers texte en utilisant rev_vocab:\n",
            "il y avait en Westphalie , dans le château de M. le baron de Thunder-ten-tronckh , un jeune garçon à qui la nature avait donné les moeurs les plus douces .\n",
            "\n",
            "Structure des données d'entraînement (observez que la première phrase est dans la première colonne):\n",
            "tensor([[   10,  4318,    10,    87,    49,  1442,  3094,   819,     9,   378],\n",
            "        [   52,  2113,    52,     1,    13,     3,  2609,   213,   445,   370],\n",
            "        [   65,    49,    65,   174, 11030,    79,    16,     1,    11,    21],\n",
            "        [   14,   571,    29,    30,  6814,   516, 12559,     4,    17,    17],\n",
            "        [ 1452,    13,   336,  3702,    49,    54,     1,    89,     9,    43],\n",
            "        [    1,    33,  2473,   327, 11031,    38,    13,  7526,    23,    65],\n",
            "        [   20,    46,    20,  1680,   214,   663,     7,     1,    26,  3057],\n",
            "        [    6,  1486,     6,     1,     6,     6, 12560,    14,   559,    61],\n",
            "        [  401,    30,  1793,   174,  1386,   359, 12561,    66,    61,  7588],\n",
            "        [    2,    16,    25,    30,    19,   891,     2,    15,   336,     2],\n",
            "        [  188,  2851,     5,  4714,    10,     1,    75,   145,   584,     5],\n",
            "        [    6,    49,   281,     2,    68, 11777,  1332,     1,  7681,   526],\n",
            "        [  331,    99,  1495,   248,   107,     2,     1, 13445,  2463,     2],\n",
            "        [    2,   206,    11,     3,     1,   436,    13,    15,    11,   114],\n",
            "        [ 1453,   719,    72,  1711,   525,     1,   212,    12,   686,  2161],\n",
            "        [    1,  2720,     2,  2095,    11, 11778,  1848,   235,     5,     3],\n",
            "        [   12,   298,    39,  6446,    41,   630,   382,     3,    89,    10],\n",
            "        [  263,    48,    14,    30,   803,     8,  5132,   142,   783,   107],\n",
            "        [ 2650,     5,  5872,    76,    10,    26,  1223,     7,    11,    29],\n",
            "        [   11,   247,     1,   916,    68,   179,     1, 13446,    15,  1712]],\n",
            "       device='cuda:0')\n"
          ],
          "name": "stdout"
        }
      ]
    },
    {
      "metadata": {
        "id": "E2EXx8HBsZAY",
        "colab_type": "code",
        "colab": {
          "base_uri": "https://localhost:8080/",
          "height": 54
        },
        "outputId": "3d2834be-4806-4eb5-bd9d-9b790c4eae87"
      },
      "cell_type": "code",
      "source": [
        "# Split ensembles training/validation et créer DataLoaders.\n",
        "X = data[:-1]\n",
        "Y = data[1:]\n",
        "\n",
        "n_valid = round(data.size(0) * 0.1)\n",
        "train_set = TensorDataset(X[:(data.size(0)-n_valid)], Y[:(data.size(0)-n_valid)])\n",
        "valid_set = TensorDataset(X[-n_valid:], Y[-n_valid:])\n",
        "\n",
        "seq_len = 40\n",
        "train_loader = DataLoader(train_set, batch_size=seq_len, shuffle=False)\n",
        "valid_loader = DataLoader(valid_set, batch_size=seq_len, shuffle=False)\n",
        "\n",
        "print(\"Ensemble d'entraînement: {} séquences de longueur {} et {} minibatches\"\n",
        "      .format(len(train_set), seq_len, len(train_loader)))\n",
        "print(\"Ensemble de validation : {} séquences de longueur {} et {} minibatches\"\n",
        "      .format(len(valid_set), seq_len, len(valid_loader)))"
      ],
      "execution_count": 22,
      "outputs": [
        {
          "output_type": "stream",
          "text": [
            "Ensemble d'entraînement: 16394 séquences de longueur 40 et 410 minibatches\n",
            "Ensemble de validation : 1822 séquences de longueur 40 et 46 minibatches\n"
          ],
          "name": "stdout"
        }
      ]
    },
    {
      "metadata": {
        "id": "IAgSaVwmVxrt",
        "colab_type": "text"
      },
      "cell_type": "markdown",
      "source": [
        "## Implémentation du modèle\n",
        "\n",
        "Ci-dessous se trouve le code du *LSTM-based neural language model* décrit dans la section **Encore un peu de contexte théorique (car vous aimez vraiment ça)**.\n",
        "\n",
        "À chaque pas temps les variables d'entrées dans le LSTM sont une minibatch de séquences de token-ids (c.à.d. des séquences d'indices où chaque indice représente la position d'un token dans un vocabulaire) et des tuples $(\\mathbf{h}_{0}, \\mathbf{c}_{0})$ des états récurrents et des états mémoires équivalent aux $(\\mathbf{h}_{T}, \\mathbf{c}_{T})$ de la minibatch précédente (sauf pour la première minibatch où nous initialisons les valeurs de ces variables à 0.0 avec la fonction `init_hidden()`).\n",
        "\n",
        "Chaque séquence de token-ids est transformée en séquence de *word embeddings* en indexant les représentations *word embeddings* créés par la classe [torch.nn.Embedding()](https://pytorch.org/docs/stable/nn.html?highlight=embedding#torch.nn.Embedding) qui est une matrice de paramètres de dimension $|V| \\times d_{e}$, où $|V|$ est la taille du vocabulaire (`vocab_size`) et $d_{e}$ est la dimension d'un *word embedding* (`embedding_size`).\n",
        "\n",
        "Nous appliquons du dropout sur les *word embeddings* en entrée et sur la couche de sortie pour régulariser le modèle."
      ]
    },
    {
      "metadata": {
        "id": "0YMiwftasb4g",
        "colab_type": "code",
        "colab": {}
      },
      "cell_type": "code",
      "source": [
        "class LanguageModel(nn.Module):\n",
        "    \"\"\"Modèle de langue neuronal à base de LSTM.\"\"\"\n",
        "    \n",
        "    def __init__(self, vocab_size, input_size, hidden_size, n_layers=1, dropout=0.5):\n",
        "        \"\"\"\n",
        "        Args:\n",
        "          vocab_size: taille du vocabulaire.\n",
        "          input_size: taille des word embeddings.\n",
        "          hidden_size: taille des états cachés du LSTM.\n",
        "          n_layers: nombre de couches du LSTM (default: 1).\n",
        "          dropout: si non-zéro, introduit une couche dropout à l'entrée et à la sortie\n",
        "                   du LSTM, avec une probabilité égale à dropout (default: 0.5).\n",
        "        \"\"\"        \n",
        "        super(LanguageModel, self).__init__()\n",
        "        self.hidden_size = hidden_size\n",
        "        self.n_layers = n_layers\n",
        "        \n",
        "        self.embeddings = nn.Embedding(vocab_size, input_size)\n",
        "        self.lstm = nn.LSTM(input_size,\n",
        "                            hidden_size,\n",
        "                            n_layers)\n",
        "        self.linear = nn.Linear(hidden_size, vocab_size)\n",
        "        self.dropout = nn.Dropout(dropout)\n",
        "\n",
        "        self.init_weights()\n",
        "\n",
        "    def forward(self, input, hidden):\n",
        "        embeddings = self.dropout(self.embeddings(input))\n",
        "        output, hidden = self.lstm(embeddings, hidden)\n",
        "        output = self.dropout(output)\n",
        "        result = self.linear(output.view(output.size(0)*output.size(1), output.size(2)))\n",
        "        return result.view(output.size(0), output.size(1), result.size(1)), hidden\n",
        "\n",
        "    def init_weights(self):\n",
        "        init.uniform_(self.embeddings.weight, -0.1, 0.1)\n",
        "        init.xavier_uniform_(self.linear.weight, init.calculate_gain(\"linear\"))\n",
        "        init.constant_(self.linear.bias, 0)\n",
        "        \n",
        "    def init_hidden(self, batch_size):\n",
        "        \"\"\"Initialiser les valeurs de l'état caché et la cellule du LSTM à zéro.\n",
        "        Args:\n",
        "          batch_size: taille de la mini-batch à un pas de temps.\n",
        "          \n",
        "        Returns:\n",
        "          hidden: état caché h_t et la cellule c_t à t=0 initialisés à 0, \n",
        "                  ((n_layers, batch_size, hidden_size),\n",
        "                   (n_layers, batch_size, hidden_size)).\n",
        "        \"\"\"\n",
        "        hidden = (torch.zeros(self.n_layers, batch_size, self.hidden_size, device=DEVICE),\n",
        "                  torch.zeros(self.n_layers, batch_size, self.hidden_size, device=DEVICE))\n",
        "        return hidden"
      ],
      "execution_count": 0,
      "outputs": []
    },
    {
      "metadata": {
        "id": "oPPkC_0GV3iu",
        "colab_type": "text"
      },
      "cell_type": "markdown",
      "source": [
        "## Entraînement du modèle\n",
        "L'entraînement du modèle se fait presque de la même manière que dans la tâche 1. Les éléments clés différents sont les suivants:\n",
        "* Nous appliquons du dropout sur les *word embeddings* en entrée et la couche de sortie du LSTM. Étant donné que la taille de notre ensemble d'entraînement est très petite, il est alors facile pour notre modèle de faire du surapprentissage. Pour les modéles génératifs autorégressifs à base de RNN, il est fortement recommandé d'utiliser une probabilité dropout élevée pour éviter l'effet de surapprentissage des données.\n",
        "* Nous démarrons l'entraînement avec une valeur de `learning_rate` élevée et nous la diminuons par un facteur de 10 en fonction de la perte sur l'ensemble de validation évaluée à la fin de chaque *epoch* d'entraînement en utilisant la classe [torch.optim.lr_scheduler.ReduceLROnPlateau()](https://pytorch.org/docs/stable/optim.html?highlight=plateau#torch.optim.lr_scheduler.ReduceLROnPlateau).\n",
        "* Pour éviter le *exploding gradient problem*, nous appliquons la technique de *gradient clipping* en normalisant la norme du gradient avec la fonction [torch.nn.utils.clip_grad_norm_()](https://pytorch.org/docs/stable/nn.html?highlight=clip#torch.nn.utils.clip_grad_norm_).\n",
        "* Nous initialisons avec des valeurs de 0.0 le tuple $(\\mathbf{h}_{0}, \\mathbf{c}_{0})$ de l'état récurrent et l'état mémoire `hidden` avec la fonction `init_hidden()` uniquement une fois au début de chaque *epoch* d'entraînement et nous propageons les nouvelles valeurs de `hidden` à travers chaque minibatch d'entraînement. En d'autres mots, les données ont été structurées à l'aide de la fonction `batch_data()` de manière à ce que nous pouvons initialiser `hidden` $(\\mathbf{h}_{0}, \\mathbf{c}_{0})$ de chaque séquence d'une nouvelle minibatch par $(\\mathbf{h}_{T}, \\mathbf{c}_{T})$ de la minibatch précédente. Un désavantage de cette méthode est que nous ne pouvons pas mélanger l'ordre des séquences à chaque *epoch* d'entraînement (c.à.d. `train_loader = DataLoader(train_set, batch_size=seq_len, shuffle=False)`).\n",
        "* Notre fonction de coût est l'entropie croisée [torch.nn.CrossEntropyLoss()](https://pytorch.org/docs/stable/nn.html?highlight=crossentropy#torch.nn.CrossEntropyLoss).\n",
        "* Nous présentons la mesure de *[perplexity](https://en.wikipedia.org/wiki/Perplexity)* qui est une mesure d'évaluation de la qualité d'un modèle de langue."
      ]
    },
    {
      "metadata": {
        "id": "winuGw1rsuOe",
        "colab_type": "code",
        "colab": {
          "base_uri": "https://localhost:8080/",
          "height": 472
        },
        "outputId": "9ff9c5f3-a3c1-4537-8692-0b9fcc629924"
      },
      "cell_type": "code",
      "source": [
        "# Construire le modèle.\n",
        "vocab_size = len(vocab)\n",
        "embedding_size = 300\n",
        "hidden_size = 400\n",
        "n_layers = 1\n",
        "dropout = 0.65\n",
        "model = LanguageModel(vocab_size, embedding_size, hidden_size, n_layers, dropout).to(DEVICE)\n",
        "print(\"Nombre de paramètres dans le modèle:\", sum(param.nelement() for param in model.parameters()))\n",
        "\n",
        "# Fonction de coût et optimiseur.\n",
        "learning_rate = 10\n",
        "loss_fun = nn.CrossEntropyLoss()\n",
        "optimizer = optim.SGD(model.parameters(), lr=learning_rate)\n",
        "scheduler = optim.lr_scheduler.ReduceLROnPlateau(optimizer, factor=0.1, patience=2, verbose=True)\n",
        "\n",
        "# Entraînement du modèle.\n",
        "n_epochs = 20\n",
        "max_grad_norm = 1\n",
        "\n",
        "print(\"Entraînement du modèle pour {} epochs de {} minibatches\".format(n_epochs, len(train_loader)))\n",
        "for epoch in range(n_epochs):\n",
        "    model.train()\n",
        "    hidden = model.init_hidden(batch_size)\n",
        "    train_loss = 0\n",
        "    valid_loss = 0\n",
        "    for x, y in train_loader:\n",
        "        # Détacher les états cachés précédents du graphe computationnel.\n",
        "        hidden = detach_hidden(hidden)\n",
        "        \n",
        "        # Réinitialiser le gradient.\n",
        "        optimizer.zero_grad()\n",
        "                \n",
        "        # Forward pass.\n",
        "        y_pred, hidden = model(x, hidden)\n",
        "        \n",
        "        # Calculer la perte.\n",
        "        loss = loss_fun(y_pred.view(-1, vocab_size), y.view(-1))\n",
        "        \n",
        "        # Calculer le gradient.\n",
        "        loss.backward()\n",
        "        \n",
        "        # Normaliser le gradient pour éviter explosion.\n",
        "        nn.utils.clip_grad_norm_(model.parameters(), max_grad_norm)\n",
        "        \n",
        "        # Mettre à jour les paramètres du modèle.\n",
        "        optimizer.step()        \n",
        "        \n",
        "        # Accumuler la perte total.\n",
        "        train_loss += len(x) * loss.item()\n",
        "    \n",
        "    # Évaluer le modèle sur l'ensemble de validation.\n",
        "    model.eval()\n",
        "    with torch.no_grad():\n",
        "        hidden = model.init_hidden(batch_size)\n",
        "        for x, y in valid_loader:\n",
        "            y_pred, hidden = model(x, hidden)\n",
        "            loss = loss_fun(y_pred.view(-1, vocab_size), y.view(-1))\n",
        "            valid_loss += len(x) * loss.item()\n",
        "    \n",
        "    train_loss /= len(train_loader.dataset)\n",
        "    valid_loss /= len(valid_loader.dataset)\n",
        "    scheduler.step(valid_loss)\n",
        "\n",
        "    print(\"Epoch {:2d} | Training loss = {:.5f} | Validation loss = {:.5f} | Perplexity = {:.2f}\"\n",
        "          .format(epoch+1, train_loss, valid_loss, np.exp(valid_loss)))\n",
        "print(\"Félicitations! Vous avez terminé d'entraîner votre beau modèle de langue neuronal!\")"
      ],
      "execution_count": 24,
      "outputs": [
        {
          "output_type": "stream",
          "text": [
            "Nombre de paramètres dans le modèle: 12029358\n",
            "Entraînement du modèle pour 20 epochs de 410 minibatches\n",
            "Epoch  1 | Training loss = 6.74736 | Validation loss = 6.09618 | Perplexity = 444.16\n",
            "Epoch  2 | Training loss = 5.97018 | Validation loss = 5.77306 | Perplexity = 321.52\n",
            "Epoch  3 | Training loss = 5.69624 | Validation loss = 5.60456 | Perplexity = 271.66\n",
            "Epoch  4 | Training loss = 5.51553 | Validation loss = 5.50529 | Perplexity = 245.99\n",
            "Epoch  5 | Training loss = 5.38103 | Validation loss = 5.43798 | Perplexity = 229.98\n",
            "Epoch  6 | Training loss = 5.27358 | Validation loss = 5.38583 | Perplexity = 218.29\n",
            "Epoch  7 | Training loss = 5.17688 | Validation loss = 5.34908 | Perplexity = 210.41\n",
            "Epoch  8 | Training loss = 5.08933 | Validation loss = 5.32440 | Perplexity = 205.28\n",
            "Epoch  9 | Training loss = 5.01631 | Validation loss = 5.31535 | Perplexity = 203.44\n",
            "Epoch 10 | Training loss = 4.94375 | Validation loss = 5.30313 | Perplexity = 200.97\n",
            "Epoch 11 | Training loss = 4.88206 | Validation loss = 5.29557 | Perplexity = 199.45\n",
            "Epoch 12 | Training loss = 4.82537 | Validation loss = 5.29747 | Perplexity = 199.83\n",
            "Epoch 13 | Training loss = 4.76909 | Validation loss = 5.29436 | Perplexity = 199.21\n",
            "Epoch 14 | Training loss = 4.72174 | Validation loss = 5.31274 | Perplexity = 202.91\n",
            "Epoch 15 | Training loss = 4.67039 | Validation loss = 5.30912 | Perplexity = 202.17\n",
            "Epoch    15: reducing learning rate of group 0 to 1.0000e+00.\n",
            "Epoch 16 | Training loss = 4.63236 | Validation loss = 5.31685 | Perplexity = 203.74\n",
            "Epoch 17 | Training loss = 4.43658 | Validation loss = 5.28796 | Perplexity = 197.94\n",
            "Epoch 18 | Training loss = 4.35056 | Validation loss = 5.29249 | Perplexity = 198.84\n",
            "Epoch 19 | Training loss = 4.30370 | Validation loss = 5.29615 | Perplexity = 199.57\n",
            "Epoch    19: reducing learning rate of group 0 to 1.0000e-01.\n",
            "Epoch 20 | Training loss = 4.26738 | Validation loss = 5.30123 | Perplexity = 200.58\n",
            "Félicitations! Vous avez terminé d'entraîner votre beau modèle de langue neuronal!\n"
          ],
          "name": "stdout"
        }
      ]
    },
    {
      "metadata": {
        "id": "tKAOoUwWV8To",
        "colab_type": "text"
      },
      "cell_type": "markdown",
      "source": [
        "## Génération de texte\n",
        "\n",
        "Maintenant que nous avons entraîné notre modèle de langue, nous pouvons l'utiliser pour générer du texte dans la langue du grand Voltaire! Pour se faire, nous allons sélectionner aléatoirement un token de notre vocabulaire que nous utilisons comme premier token en entrée, puis nous utiliserons le token en sortie comme prochain token généré et aussi comme token en entrée à la prochaine itération. Nous répétons ensuite cette étape pour un nombre défini de tokens que nous cherchons à générer (`n_words`). La variable `smoothing` permet de lisser les poids des tokens à échantillonner. Une valeur plus élevée donnera un texte avec une plus grande diversité de vocabulaire, mais une valeur trop élevée rendra le texte illisible. Vous pouvez exécuter la cellule suivante à nouveau pour obtenir des textes différents."
      ]
    },
    {
      "metadata": {
        "id": "lLg-dbOSsuVu",
        "colab_type": "code",
        "colab": {
          "base_uri": "https://localhost:8080/",
          "height": 381
        },
        "outputId": "6ab42a51-681f-402d-cb3a-90649a13c8b8"
      },
      "cell_type": "code",
      "source": [
        "# Génération de séquences de mots.\n",
        "model.eval()\n",
        "x = torch.randint(0, vocab_size, (1, 1), dtype=torch.long, device=DEVICE)\n",
        "words = [rev_vocab[x]]\n",
        "n_words = 300\n",
        "smoothing = 0.7\n",
        "with torch.no_grad(): \n",
        "    hidden = model.init_hidden(1)\n",
        "    for i in range(n_words-1):\n",
        "        output, hidden = model(x, hidden)\n",
        "        weights = output.squeeze().div(smoothing).exp()\n",
        "        word_idx = torch.multinomial(weights, 1)\n",
        "        x.fill_(word_idx.squeeze())\n",
        "        word = rev_vocab[word_idx]\n",
        "        words.append(word)\n",
        "        if (i+1) % 15 == 0:\n",
        "            words.append(\"\\n\")\n",
        "print(\" \".join(words))"
      ],
      "execution_count": 25,
      "outputs": [
        {
          "output_type": "stream",
          "text": [
            "signé de sa pudeur , et qu' il ne peut pas la moindre respectable . si \n",
            " j' en ai vu , je ne considère rien à la terre , il est \n",
            " aisé de France . je ne sais que tout fut , de ces messieurs , \n",
            " à l' homme qui n' est pas . c' est en effet qu' on nous \n",
            " soit de vendre là , comme ils ne peuvent pas la moindre fortune , et \n",
            " que nous avons sacs de la folie . de là , qui se proposa de \n",
            " se marier à la première fois . hélas ! je ne sais rien du roi \n",
            " , il me paraît encore une fois ; je me suis disputé à lire , \n",
            " me dit-elle , je me résigne à m' instruire , qui ne soit guère . \n",
            " -- Que du maître des hommes , dit Candide . -- Eh bien ! lui \n",
            " dit Candide . -- Je n' ai pas dit Candide , dit Candide , répondit \n",
            " le baron , le dimanche même , puisqu' il y a de génie , et \n",
            " qu' on est bien sensible du Créateur . - Quoi ! disait-il , dit Candide \n",
            " . -- Vous voyez , monsieur , dit Candide , et que je suis étourdi \n",
            " , que vous avez eu une fesse si forte , et je suis encore comble \n",
            " de la nature de son fils de la vie . j' ai été envoyé à \n",
            " mes yeux avec le même cas . je me tiens ; j' ai été plus \n",
            " malheureuse pour vous que je ne sais pas vous . -- Je n' ai pas \n",
            " été tué de vous dis-je , je suis venu passer le carnaval à Venise . \n",
            " -- Vous avez été , dit Candide ; elle est impossible que j' ai\n"
          ],
          "name": "stdout"
        }
      ]
    },
    {
      "metadata": {
        "id": "8HI-Elp2UhBY",
        "colab_type": "text"
      },
      "cell_type": "markdown",
      "source": [
        "Qu'en pensez-vous? À première vue, bien que certaines séquences de mots peuvent être cocasses, la clarté du texte généré n'est pas la meilleure. En effet, nous observons que la virgule (`,`) apparaît souvent dans le texte et cela est dû au fait que la virgule s'agit du token le plus fréquent dans notre corpus (rappelez-vous que les 10 tokens les plus fréquents sont `[',', 'de', '.', 'et', 'la', 'le', 'les', ';', \"l'\", 'il']`. Pour améliorer la clarté du texte généré, il serait nécessaire d'entraîner le modèle sur un corpus de plus grande taille. De plus, nous soulignons que le vocabulaire et le style littéraire de notre cher Voltaire ne sont pas les plus conventionnels! Au final, il ne faut pas oublier que nous avons simplement appris une distribution de probabilité basée sur les statistiques d'un corpus."
      ]
    },
    {
      "metadata": {
        "id": "lVeeLCaC29Mx",
        "colab_type": "text"
      },
      "cell_type": "markdown",
      "source": [
        "---\n",
        "## Références\n",
        "http://karpathy.github.io/2015/05/21/rnn-effectiveness/\n",
        "\n",
        "https://arxiv.org/abs/1803.08240"
      ]
    }
  ]
}